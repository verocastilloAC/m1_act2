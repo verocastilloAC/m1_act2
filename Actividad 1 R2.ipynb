{
 "cells": [
  {
   "cell_type": "markdown",
   "metadata": {
    "tags": []
   },
   "source": [
    "# Pandas: Práctica"
   ]
  },
  {
   "cell_type": "markdown",
   "metadata": {},
   "source": [
    "## Objetivos\n",
    "\n",
    "* Crear objetos de tipo `Series` y `DataFrame` a partir de datos de Python. \n",
    "* Crear objetos de tipo `DataFrame` a partir de archivos.\n",
    "* Indexar y cortar objetos con `pandas`.\n",
    "* Agregar datos en el `DataFrame`s.\n",
    "* Unir múltiples objetos de tipo `DataFrame`."
   ]
  },
  {
   "cell_type": "markdown",
   "metadata": {},
   "source": [
    "## ¿Qué es Pandas?\n",
    "\n",
    "Una biblioteca de Python que proporciona estructuras de datos y herramientas de análisis de datos para datos tabulares de muchos tipos. Piensa en un `DataFrame` como una tabla en SQL. \n",
    "\n",
    "Usaremos esto prácticamente todos los días de aquí en adelante. Así que asegúrate de completar la tarea, e incluso hacerla de nuevo si no te sientes cómodo."
   ]
  },
  {
   "cell_type": "markdown",
   "metadata": {},
   "source": [
    "## Beneficios\n",
    "\n",
    "  * Almacenamiento y procesamiento eficiente de los datos.\n",
    "  * Incluye muchas funciones incorporadas para la transformación de datos, agregaciones y gráficos.\n",
    "  * Excelente para el trabajo exploratorio.\n",
    "\n",
    "## No tan buenas\n",
    "\n",
    "  * No se adapta muy bien a conjuntos de datos muy grandes.\n",
    "\n",
    "## Documentación:\n",
    "\n",
    "Documentación de pandas:\n",
    "\n",
    "  * http://pandas.pydata.org/pandas-docs/stable/index.html\n",
    "  \n",
    "  \n",
    "Cheatsheet de utilidad:\n",
    "\n",
    "  * https://pandas.pydata.org/Pandas_Cheat_Sheet.pdf\n",
    "\n",
    "\n",
    "Lectura extra:\n",
    "\n",
    "\n",
    "  * [Indexing and Selecting](https://pandas.pydata.org/pandas-docs/stable/indexing.html)\n",
    "  * [Advanced Indexing](http://pandas.pydata.org/pandas-docs/stable/advanced.html#advanced-mi-slicers)\n",
    "  * [Group-by](https://pandas.pydata.org/pandas-docs/stable/groupby.html)"
   ]
  },
  {
   "cell_type": "markdown",
   "metadata": {
    "tags": []
   },
   "source": [
    "## Imports"
   ]
  },
  {
   "cell_type": "code",
   "execution_count": 1,
   "metadata": {},
   "outputs": [],
   "source": [
    "%matplotlib inline\n",
    "\n",
    "import pandas as pd\n",
    "import numpy as np\n",
    "import matplotlib.pyplot as plt\n",
    "\n",
    "plt.style.use('ggplot')"
   ]
  },
  {
   "cell_type": "markdown",
   "metadata": {},
   "source": [
    "## Numpy"
   ]
  },
  {
   "cell_type": "markdown",
   "metadata": {},
   "source": [
    "`pandas` se construye a partir de los tipos de datos de `numpy` una biblioteca de nivel inferior.\n",
    "\n",
    "El objeto básico de `numpy` es un `array`."
   ]
  },
  {
   "cell_type": "code",
   "execution_count": 2,
   "metadata": {},
   "outputs": [
    {
     "data": {
      "text/plain": [
       "array([0, 1, 2, 3, 4, 5])"
      ]
     },
     "execution_count": 2,
     "metadata": {},
     "output_type": "execute_result"
    }
   ],
   "source": [
    "x = np.array([0, 1, 2, 3, 4, 5])\n",
    "x"
   ]
  },
  {
   "cell_type": "markdown",
   "metadata": {},
   "source": [
    "Los arrays cuentan con operaciones muy útiles."
   ]
  },
  {
   "cell_type": "code",
   "execution_count": 3,
   "metadata": {},
   "outputs": [
    {
     "data": {
      "text/plain": [
       "15"
      ]
     },
     "execution_count": 3,
     "metadata": {},
     "output_type": "execute_result"
    }
   ],
   "source": [
    "x.sum()  # <-- Suma de números"
   ]
  },
  {
   "cell_type": "markdown",
   "metadata": {},
   "source": [
    "Los arrays pueden ser multidimensionales. Un array **bidimensional** es una matriz."
   ]
  },
  {
   "cell_type": "code",
   "execution_count": 4,
   "metadata": {},
   "outputs": [
    {
     "data": {
      "text/plain": [
       "array([[0, 1, 2],\n",
       "       [1, 2, 3],\n",
       "       [2, 3, 4],\n",
       "       [5, 6, 7]])"
      ]
     },
     "execution_count": 4,
     "metadata": {},
     "output_type": "execute_result"
    }
   ],
   "source": [
    "M = np.array([\n",
    "    [0, 1, 2],\n",
    "    [1, 2, 3],\n",
    "    [2, 3, 4],\n",
    "    [5, 6, 7]\n",
    "])\n",
    "\n",
    "M"
   ]
  },
  {
   "cell_type": "code",
   "execution_count": 5,
   "metadata": {},
   "outputs": [
    {
     "name": "stdout",
     "output_type": "stream",
     "text": [
      "(6,)\n",
      "(4, 3)\n"
     ]
    }
   ],
   "source": [
    "print(x.shape)\n",
    "print(M.shape)"
   ]
  },
  {
   "cell_type": "markdown",
   "metadata": {},
   "source": [
    "## Serie"
   ]
  },
  {
   "cell_type": "code",
   "execution_count": 6,
   "metadata": {},
   "outputs": [
    {
     "data": {
      "text/plain": [
       "0    34\n",
       "1    35\n",
       "2    36\n",
       "3    37\n",
       "4    38\n",
       "dtype: int32"
      ]
     },
     "execution_count": 6,
     "metadata": {},
     "output_type": "execute_result"
    }
   ],
   "source": [
    "heights = np.array([34, 35, 36, 37, 38])\n",
    "student_heights = pd.Series(heights)\n",
    "student_heights"
   ]
  },
  {
   "cell_type": "markdown",
   "metadata": {},
   "source": [
    "Para acceder al array debe ser a través de '.values'."
   ]
  },
  {
   "cell_type": "code",
   "execution_count": 7,
   "metadata": {},
   "outputs": [
    {
     "data": {
      "text/plain": [
       "array([34, 35, 36, 37, 38])"
      ]
     },
     "execution_count": 7,
     "metadata": {},
     "output_type": "execute_result"
    }
   ],
   "source": [
    "student_heights.values"
   ]
  },
  {
   "cell_type": "markdown",
   "metadata": {},
   "source": [
    "Losnúmeros '0,1,2,3,4' son el índice por defecto. \n",
    "\n",
    "Se puede acceder al índice a través de '.index'"
   ]
  },
  {
   "cell_type": "code",
   "execution_count": 8,
   "metadata": {},
   "outputs": [
    {
     "data": {
      "text/plain": [
       "RangeIndex(start=0, stop=5, step=1)"
      ]
     },
     "execution_count": 8,
     "metadata": {},
     "output_type": "execute_result"
    }
   ],
   "source": [
    "student_heights.index"
   ]
  },
  {
   "cell_type": "markdown",
   "metadata": {},
   "source": [
    "El índice es un [iterable](https://www.programiz.com/python-programming/iterator)."
   ]
  },
  {
   "cell_type": "code",
   "execution_count": 9,
   "metadata": {},
   "outputs": [
    {
     "data": {
      "text/plain": [
       "pandas.core.indexes.range.RangeIndex"
      ]
     },
     "execution_count": 9,
     "metadata": {},
     "output_type": "execute_result"
    }
   ],
   "source": [
    "type(student_heights.index)"
   ]
  },
  {
   "cell_type": "code",
   "execution_count": 10,
   "metadata": {},
   "outputs": [
    {
     "data": {
      "text/plain": [
       "[0, 1, 2, 3, 4]"
      ]
     },
     "execution_count": 10,
     "metadata": {},
     "output_type": "execute_result"
    }
   ],
   "source": [
    "list(student_heights.index)"
   ]
  },
  {
   "cell_type": "markdown",
   "metadata": {},
   "source": [
    "Es posible cambiar el índice manualmente"
   ]
  },
  {
   "cell_type": "code",
   "execution_count": 11,
   "metadata": {},
   "outputs": [],
   "source": [
    "student_heights.index = [\"Tomas\", \"Angel\", \"Stacy\", \"Michaela\", \"Haden\"]"
   ]
  },
  {
   "cell_type": "code",
   "execution_count": 12,
   "metadata": {},
   "outputs": [
    {
     "data": {
      "text/plain": [
       "Tomas       34\n",
       "Angel       35\n",
       "Stacy       36\n",
       "Michaela    37\n",
       "Haden       38\n",
       "dtype: int32"
      ]
     },
     "execution_count": 12,
     "metadata": {},
     "output_type": "execute_result"
    }
   ],
   "source": [
    "student_heights"
   ]
  },
  {
   "cell_type": "markdown",
   "metadata": {},
   "source": [
    "Ahora es posible utilizar palabras para acceder a los ítems de la Serie."
   ]
  },
  {
   "cell_type": "code",
   "execution_count": 13,
   "metadata": {},
   "outputs": [
    {
     "data": {
      "text/plain": [
       "37"
      ]
     },
     "execution_count": 13,
     "metadata": {},
     "output_type": "execute_result"
    }
   ],
   "source": [
    "student_heights['Michaela']"
   ]
  },
  {
   "cell_type": "markdown",
   "metadata": {},
   "source": [
    "También se puede acceder a un ítem por su orden."
   ]
  },
  {
   "cell_type": "code",
   "execution_count": 14,
   "metadata": {},
   "outputs": [
    {
     "data": {
      "text/plain": [
       "36"
      ]
     },
     "execution_count": 14,
     "metadata": {},
     "output_type": "execute_result"
    }
   ],
   "source": [
    "student_heights[2]"
   ]
  },
  {
   "cell_type": "markdown",
   "metadata": {},
   "source": [
    "Utilizar métodos de numpy."
   ]
  },
  {
   "cell_type": "code",
   "execution_count": 15,
   "metadata": {},
   "outputs": [
    {
     "data": {
      "text/plain": [
       "36.0"
      ]
     },
     "execution_count": 15,
     "metadata": {},
     "output_type": "execute_result"
    }
   ],
   "source": [
    "student_heights.mean()"
   ]
  },
  {
   "cell_type": "markdown",
   "metadata": {},
   "source": [
    "Se pueden ver los parámetros de una función escribiendo\n",
    "```python\n",
    "pd.Series()\n",
    "```\n",
    "colocando el cursor dentro del paréntesis y presionando 'shift+tab'."
   ]
  },
  {
   "cell_type": "markdown",
   "metadata": {},
   "source": [
    "### 1.- Cuáles son los parámetros de pd.Series()?"
   ]
  },
  {
   "cell_type": "code",
   "execution_count": 16,
   "metadata": {},
   "outputs": [
    {
     "name": "stdout",
     "output_type": "stream",
     "text": [
      "Los parámetros son data, index, dtype, name, copy y fastpath\n"
     ]
    }
   ],
   "source": [
    "# Revisar parámetros de pd.Series\n",
    "print(\"Los parámetros son data, index, dtype, name, copy y fastpath\")"
   ]
  },
  {
   "cell_type": "markdown",
   "metadata": {},
   "source": [
    "> POR FAVOR, NUNCA JAMÁS COPIE Y PEGUE MIENTRAS HACE ESTAS PREGUNTAS. No aprenderás a codificar de memoria. Y en tres semanas te darás cuenta de que no lo sabes. Lo hemos visto una y otra vez. Vale la pena. Abre una segunda ventana si necesitas copiar código.\n",
    "\n",
    "> Para las variables que has definido o cargado utiliza el 'tabulador'. Por ejemplo:\n",
    ">\n",
    ">\n",
    "> Abajo escribe 'bra' + tabulador y observa cómo se rellena el resto. Puede ser difícil de recordar, pero realmente ayuda.\n",
    "\n",
    "\n",
    "## 2.- Hacer una serie 'brag_vow' con índice 'i am a numpy champ'. And values 'So Pandas here I come\".\n",
    "\n",
    "```python \n",
    "\n",
    "print(brag_vow)\n",
    "\n",
    "I            So\n",
    "am       Pandas\n",
    "a          here\n",
    "numpy         I\n",
    "champ      come\n",
    "dtype: object\n",
    "```"
   ]
  },
  {
   "cell_type": "code",
   "execution_count": 17,
   "metadata": {},
   "outputs": [
    {
     "name": "stdout",
     "output_type": "stream",
     "text": [
      "I            So\n",
      "am       Pandas\n",
      "a          here\n",
      "numpy         I\n",
      "champ      come\n",
      "dtype: object\n"
     ]
    }
   ],
   "source": [
    "# Nueva serie\n",
    "index = ['I', 'am', 'a', 'numpy', 'champ']\n",
    "serie = ['So', 'Pandas', 'here', 'I', 'come']\n",
    "brag_vow = pd.Series(serie,index=index)\n",
    "print(brag_vow)"
   ]
  },
  {
   "cell_type": "markdown",
   "metadata": {},
   "source": [
    "### 3.- Imprimir los últimos tres elementos de 'brag_vow'\n",
    "\n",
    "```python \n",
    "a          here\n",
    "numpy         I\n",
    "champ      come\n",
    "dtype: object\n",
    "```"
   ]
  },
  {
   "cell_type": "code",
   "execution_count": 18,
   "metadata": {},
   "outputs": [
    {
     "name": "stdout",
     "output_type": "stream",
     "text": [
      "a        here\n",
      "numpy       I\n",
      "champ    come\n",
      "dtype: object\n"
     ]
    }
   ],
   "source": [
    "# Imprimir ultimos 3 elementos\n",
    "print(brag_vow[-3:])"
   ]
  },
  {
   "cell_type": "markdown",
   "metadata": {},
   "source": [
    "### 4.- Imprimir los elementos relacionados al index 'I a champ' (No utilizar índice numérico)\n",
    "\n",
    "```python \n",
    "I          So\n",
    "a        here\n",
    "champ    come\n",
    "dtype: object\n",
    "```"
   ]
  },
  {
   "cell_type": "code",
   "execution_count": 19,
   "metadata": {},
   "outputs": [
    {
     "name": "stdout",
     "output_type": "stream",
     "text": [
      "I          So\n",
      "a        here\n",
      "champ    come\n",
      "dtype: object\n"
     ]
    }
   ],
   "source": [
    "# Solo ciertos index\n",
    "select_index = [\"I\",\"a\",\"champ\"]\n",
    "print(brag_vow[select_index])"
   ]
  },
  {
   "cell_type": "markdown",
   "metadata": {},
   "source": [
    "### 5.- De \"student_heights\", imprimir los estudiantes cuya estatura es un numero par por medio de un índice booleano.\n",
    "\n",
    "```python \n",
    "Tomas    34\n",
    "Stacy    36\n",
    "Haden    38\n",
    "dtype: int64\n",
    "```"
   ]
  },
  {
   "cell_type": "code",
   "execution_count": 20,
   "metadata": {},
   "outputs": [
    {
     "name": "stdout",
     "output_type": "stream",
     "text": [
      "Tomas    34\n",
      "Stacy    36\n",
      "Haden    38\n",
      "dtype: int32\n"
     ]
    }
   ],
   "source": [
    "# Imprimir indice boleano True\n",
    "print(student_heights[student_heights % 2 == 0])"
   ]
  },
  {
   "cell_type": "markdown",
   "metadata": {},
   "source": [
    "### 6.- Imprimir los valores de brag_vow:\n",
    "\n",
    "```python \n",
    "array(['So', 'Pandas', 'here', 'I', 'come'], dtype=object)\n",
    "```"
   ]
  },
  {
   "cell_type": "code",
   "execution_count": 21,
   "metadata": {},
   "outputs": [
    {
     "data": {
      "text/plain": [
       "array(['So', 'Pandas', 'here', 'I', 'come'], dtype=object)"
      ]
     },
     "execution_count": 21,
     "metadata": {},
     "output_type": "execute_result"
    }
   ],
   "source": [
    "# Solo valores\n",
    "brag_vow.values"
   ]
  },
  {
   "cell_type": "markdown",
   "metadata": {},
   "source": [
    "### 7.- Imprimir el index de brag_vow:\n",
    "\n",
    "```python \n",
    "Index(['I', 'am', 'a', 'numpy', 'champ'], dtype='object')\n",
    "```"
   ]
  },
  {
   "cell_type": "code",
   "execution_count": 22,
   "metadata": {},
   "outputs": [
    {
     "data": {
      "text/plain": [
       "Index(['I', 'am', 'a', 'numpy', 'champ'], dtype='object')"
      ]
     },
     "execution_count": 22,
     "metadata": {},
     "output_type": "execute_result"
    }
   ],
   "source": [
    "# Solo indice\n",
    "brag_vow.index"
   ]
  },
  {
   "cell_type": "markdown",
   "metadata": {},
   "source": [
    "# Nombre de una Serie"
   ]
  },
  {
   "cell_type": "markdown",
   "metadata": {},
   "source": [
    "Las Series pueden tener un nombre"
   ]
  },
  {
   "cell_type": "code",
   "execution_count": 23,
   "metadata": {},
   "outputs": [],
   "source": [
    "student_grades = pd.Series([45,56,78,89,90], \n",
    "                           index=['Tomas', 'Angel', 'Stacy', 'Michaela', 'Haden'], \n",
    "                           name='grades')"
   ]
  },
  {
   "cell_type": "code",
   "execution_count": 24,
   "metadata": {},
   "outputs": [
    {
     "data": {
      "text/plain": [
       "Tomas       45\n",
       "Angel       56\n",
       "Stacy       78\n",
       "Michaela    89\n",
       "Haden       90\n",
       "Name: grades, dtype: int64"
      ]
     },
     "execution_count": 24,
     "metadata": {},
     "output_type": "execute_result"
    }
   ],
   "source": [
    "student_grades"
   ]
  },
  {
   "cell_type": "markdown",
   "metadata": {},
   "source": [
    "Observe el Name:"
   ]
  },
  {
   "cell_type": "markdown",
   "metadata": {},
   "source": [
    "### Crear Dataframes a partir de objetos"
   ]
  },
  {
   "cell_type": "markdown",
   "metadata": {},
   "source": [
    "Tenemos dos series: student_heights y student_grades. Cada una tiene los mismos estudiantes en el índice. ¿No sería genial si pudiéramos acceder a todos los datos de los estudiantes a la vez?\n",
    "\n",
    "Para ello, utilizaremos un dataframe."
   ]
  },
  {
   "cell_type": "code",
   "execution_count": 25,
   "metadata": {},
   "outputs": [
    {
     "data": {
      "text/html": [
       "<div>\n",
       "<style scoped>\n",
       "    .dataframe tbody tr th:only-of-type {\n",
       "        vertical-align: middle;\n",
       "    }\n",
       "\n",
       "    .dataframe tbody tr th {\n",
       "        vertical-align: top;\n",
       "    }\n",
       "\n",
       "    .dataframe thead th {\n",
       "        text-align: right;\n",
       "    }\n",
       "</style>\n",
       "<table border=\"1\" class=\"dataframe\">\n",
       "  <thead>\n",
       "    <tr style=\"text-align: right;\">\n",
       "      <th></th>\n",
       "      <th>grade</th>\n",
       "      <th>height</th>\n",
       "    </tr>\n",
       "  </thead>\n",
       "  <tbody>\n",
       "    <tr>\n",
       "      <th>Tomas</th>\n",
       "      <td>45</td>\n",
       "      <td>34</td>\n",
       "    </tr>\n",
       "    <tr>\n",
       "      <th>Angel</th>\n",
       "      <td>56</td>\n",
       "      <td>35</td>\n",
       "    </tr>\n",
       "    <tr>\n",
       "      <th>Stacy</th>\n",
       "      <td>78</td>\n",
       "      <td>36</td>\n",
       "    </tr>\n",
       "    <tr>\n",
       "      <th>Michaela</th>\n",
       "      <td>89</td>\n",
       "      <td>37</td>\n",
       "    </tr>\n",
       "    <tr>\n",
       "      <th>Haden</th>\n",
       "      <td>90</td>\n",
       "      <td>38</td>\n",
       "    </tr>\n",
       "  </tbody>\n",
       "</table>\n",
       "</div>"
      ],
      "text/plain": [
       "          grade  height\n",
       "Tomas        45      34\n",
       "Angel        56      35\n",
       "Stacy        78      36\n",
       "Michaela     89      37\n",
       "Haden        90      38"
      ]
     },
     "execution_count": 25,
     "metadata": {},
     "output_type": "execute_result"
    }
   ],
   "source": [
    "students = pd.DataFrame({'grade':student_grades, 'height':student_heights})\n",
    "students"
   ]
  },
  {
   "cell_type": "markdown",
   "metadata": {},
   "source": [
    "Hay al menos dos maneras de pensar en un dataframe.\n",
    "\n",
    "Una es como una serie múltiple con índice coincidente. La otra es como un array de numpy con columnas y filas explícitamente etiquetadas.\n",
    "\n",
    "La verdad es que un dataframe es AMBAS."
   ]
  },
  {
   "cell_type": "code",
   "execution_count": 26,
   "metadata": {},
   "outputs": [
    {
     "data": {
      "text/plain": [
       "array([[45, 34],\n",
       "       [56, 35],\n",
       "       [78, 36],\n",
       "       [89, 37],\n",
       "       [90, 38]], dtype=int64)"
      ]
     },
     "execution_count": 26,
     "metadata": {},
     "output_type": "execute_result"
    }
   ],
   "source": [
    "# numpy array:\n",
    "students.values"
   ]
  },
  {
   "cell_type": "code",
   "execution_count": 27,
   "metadata": {},
   "outputs": [
    {
     "data": {
      "text/plain": [
       "Tomas       45\n",
       "Angel       56\n",
       "Stacy       78\n",
       "Michaela    89\n",
       "Haden       90\n",
       "Name: grade, dtype: int64"
      ]
     },
     "execution_count": 27,
     "metadata": {},
     "output_type": "execute_result"
    }
   ],
   "source": [
    "# pandas series:\n",
    "students['grade']"
   ]
  },
  {
   "cell_type": "markdown",
   "metadata": {},
   "source": [
    "También podemos crear DataFrames a partir de arrays de numpy o listas con etiquetas e índices proporcionados. El parámetro `columns=` especifica los nombres de las columnas; el `index=` especifica los nombres de las filas."
   ]
  },
  {
   "cell_type": "code",
   "execution_count": 28,
   "metadata": {
    "scrolled": true
   },
   "outputs": [
    {
     "data": {
      "text/html": [
       "<div>\n",
       "<style scoped>\n",
       "    .dataframe tbody tr th:only-of-type {\n",
       "        vertical-align: middle;\n",
       "    }\n",
       "\n",
       "    .dataframe tbody tr th {\n",
       "        vertical-align: top;\n",
       "    }\n",
       "\n",
       "    .dataframe thead th {\n",
       "        text-align: right;\n",
       "    }\n",
       "</style>\n",
       "<table border=\"1\" class=\"dataframe\">\n",
       "  <thead>\n",
       "    <tr style=\"text-align: right;\">\n",
       "      <th></th>\n",
       "      <th>a</th>\n",
       "      <th>b</th>\n",
       "      <th>c</th>\n",
       "    </tr>\n",
       "  </thead>\n",
       "  <tbody>\n",
       "    <tr>\n",
       "      <th>foo</th>\n",
       "      <td>1</td>\n",
       "      <td>2</td>\n",
       "      <td>3</td>\n",
       "    </tr>\n",
       "    <tr>\n",
       "      <th>bar</th>\n",
       "      <td>4</td>\n",
       "      <td>5</td>\n",
       "      <td>6</td>\n",
       "    </tr>\n",
       "  </tbody>\n",
       "</table>\n",
       "</div>"
      ],
      "text/plain": [
       "     a  b  c\n",
       "foo  1  2  3\n",
       "bar  4  5  6"
      ]
     },
     "execution_count": 28,
     "metadata": {},
     "output_type": "execute_result"
    }
   ],
   "source": [
    "pd.DataFrame(\n",
    "    data = [[1, 2, 3], \n",
    "            [4, 5, 6]], \n",
    "    columns=['a', 'b', 'c'], \n",
    "    index=['foo', 'bar'])"
   ]
  },
  {
   "cell_type": "markdown",
   "metadata": {},
   "source": [
    "Hay MUCHAS maneras de hacer cualquier cosa. Esto hace que el aprendizaje sea más difícil. Pero aquí vamos de todos modos."
   ]
  },
  {
   "cell_type": "markdown",
   "metadata": {},
   "source": [
    "### 8.- Hacer un DataFrame 'classrooms' que contenga:\n",
    "\n",
    "```python \n",
    "> print(classrooms)\n",
    "\n",
    "         chairs  projectors\n",
    "gym           0           1\n",
    "history       2           3\n",
    "math          4           5\n",
    "english       6           7\n",
    "```"
   ]
  },
  {
   "cell_type": "code",
   "execution_count": 29,
   "metadata": {},
   "outputs": [
    {
     "name": "stdout",
     "output_type": "stream",
     "text": [
      "         chairs  projectors\n",
      "gym           0           1\n",
      "history       2           3\n",
      "math          4           5\n",
      "english       6           7\n"
     ]
    }
   ],
   "source": [
    "# Nuevo dataframe\n",
    "data = [[0,1],[2,3],[4,5],[6,7]]\n",
    "columns = ['chairs','projectors']\n",
    "index = ['gym','history','math','english']\n",
    "classrooms = pd.DataFrame(data = data, columns = columns, index = index)\n",
    "print(classrooms)"
   ]
  },
  {
   "cell_type": "markdown",
   "metadata": {},
   "source": [
    "### 9.- Hacer la Serie 'Chairs':\n",
    "\n",
    "```python \n",
    "gym        0\n",
    "history    2\n",
    "math       4\n",
    "english    6\n",
    "Name: chairs, dtype: int64\n",
    "```"
   ]
  },
  {
   "cell_type": "code",
   "execution_count": 30,
   "metadata": {},
   "outputs": [
    {
     "name": "stdout",
     "output_type": "stream",
     "text": [
      "gym        0\n",
      "history    2\n",
      "math       4\n",
      "english    6\n",
      "Name: chairs, dtype: int64\n"
     ]
    }
   ],
   "source": [
    "# Solo la serie\n",
    "serie_c = classrooms[\"chairs\"]\n",
    "print(serie_c)"
   ]
  },
  {
   "cell_type": "markdown",
   "metadata": {},
   "source": [
    "### 10.- Hacer la serie 'projectors' \n",
    "\n",
    "```python \n",
    "gym        1\n",
    "history    3\n",
    "math       5\n",
    "english    7\n",
    "Name: projectors, dtype: int64\n",
    "```"
   ]
  },
  {
   "cell_type": "code",
   "execution_count": 31,
   "metadata": {},
   "outputs": [
    {
     "name": "stdout",
     "output_type": "stream",
     "text": [
      "gym        1\n",
      "history    3\n",
      "math       5\n",
      "english    7\n",
      "Name: projectors, dtype: int64\n"
     ]
    }
   ],
   "source": [
    "# Solo la serie\n",
    "serie_p = classrooms[\"projectors\"]\n",
    "print(serie_p)"
   ]
  },
  {
   "cell_type": "markdown",
   "metadata": {},
   "source": [
    "### 11.- Hacer de nuevo el DataFrame 'classrooms' , pero esta vez utilizando las series 'chairs' y 'projectors'\n",
    "\n",
    "```python \n",
    "> print(classrooms)\n",
    "\n",
    "         chairs  projectors\n",
    "gym           0           1\n",
    "history       2           3\n",
    "math          4           5\n",
    "english       6           7\n",
    "```"
   ]
  },
  {
   "cell_type": "code",
   "execution_count": 32,
   "metadata": {},
   "outputs": [
    {
     "name": "stdout",
     "output_type": "stream",
     "text": [
      "         chairs  projectors\n",
      "gym           0           1\n",
      "history       2           3\n",
      "math          4           5\n",
      "english       6           7\n"
     ]
    }
   ],
   "source": [
    "# Nuevo DF\n",
    "classrooms = pd.DataFrame({'chairs':serie_c, 'projectors':serie_p})\n",
    "print(classrooms)"
   ]
  },
  {
   "cell_type": "markdown",
   "metadata": {},
   "source": [
    "### 12.- Crear el DataFrame 'down_up' con dos columnas: 'decreasing' e 'increasing' con los números 1-10 en cada orden\n",
    "\n",
    "\n",
    "```python\n",
    "> print(down_up)\n",
    "\n",
    "   decreasing  increasing\n",
    "0          10           1\n",
    "1           9           2\n",
    "2           8           3\n",
    "3           7           4\n",
    "4           6           5\n",
    "5           5           6\n",
    "6           4           7\n",
    "7           3           8\n",
    "8           2           9\n",
    "9           1          10\n",
    "```"
   ]
  },
  {
   "cell_type": "code",
   "execution_count": 33,
   "metadata": {},
   "outputs": [
    {
     "name": "stdout",
     "output_type": "stream",
     "text": [
      "   decreasing  increasing\n",
      "0          10           1\n",
      "1           9           2\n",
      "2           8           3\n",
      "3           7           4\n",
      "4           6           5\n",
      "5           5           6\n",
      "6           4           7\n",
      "7           3           8\n",
      "8           2           9\n",
      "9           1          10\n"
     ]
    }
   ],
   "source": [
    "# Crear DF\n",
    "\n",
    "# Arrays\n",
    "array1 = np.arange(1, 11) # 1 al 10\n",
    "array2 = array1[::-1] # 10 al 1\n",
    "\n",
    "# DF\n",
    "down_up = pd.DataFrame({'decreasing':array2,'increasing':array1})\n",
    "print(down_up)"
   ]
  },
  {
   "cell_type": "markdown",
   "metadata": {},
   "source": [
    "También puede poner una Serie en un DataFrame siempre que tenga un índice que coincida."
   ]
  },
  {
   "cell_type": "markdown",
   "metadata": {},
   "source": [
    "## Modificar DataFrames"
   ]
  },
  {
   "cell_type": "markdown",
   "metadata": {},
   "source": [
    "Los dataframes son MUY parecidos a los arrays de numpy con columnas e índices añadidos.\n",
    "\n",
    "Pero a diferencia de los arrays (que tienen un tamaño fijo), ¡podemos añadir columnas a un dataframe!"
   ]
  },
  {
   "cell_type": "code",
   "execution_count": 34,
   "metadata": {
    "scrolled": true
   },
   "outputs": [
    {
     "data": {
      "text/html": [
       "<div>\n",
       "<style scoped>\n",
       "    .dataframe tbody tr th:only-of-type {\n",
       "        vertical-align: middle;\n",
       "    }\n",
       "\n",
       "    .dataframe tbody tr th {\n",
       "        vertical-align: top;\n",
       "    }\n",
       "\n",
       "    .dataframe thead th {\n",
       "        text-align: right;\n",
       "    }\n",
       "</style>\n",
       "<table border=\"1\" class=\"dataframe\">\n",
       "  <thead>\n",
       "    <tr style=\"text-align: right;\">\n",
       "      <th></th>\n",
       "      <th>grade</th>\n",
       "      <th>height</th>\n",
       "      <th>was_late</th>\n",
       "    </tr>\n",
       "  </thead>\n",
       "  <tbody>\n",
       "    <tr>\n",
       "      <th>Tomas</th>\n",
       "      <td>45</td>\n",
       "      <td>34</td>\n",
       "      <td>True</td>\n",
       "    </tr>\n",
       "    <tr>\n",
       "      <th>Angel</th>\n",
       "      <td>56</td>\n",
       "      <td>35</td>\n",
       "      <td>False</td>\n",
       "    </tr>\n",
       "    <tr>\n",
       "      <th>Stacy</th>\n",
       "      <td>78</td>\n",
       "      <td>36</td>\n",
       "      <td>True</td>\n",
       "    </tr>\n",
       "    <tr>\n",
       "      <th>Michaela</th>\n",
       "      <td>89</td>\n",
       "      <td>37</td>\n",
       "      <td>False</td>\n",
       "    </tr>\n",
       "    <tr>\n",
       "      <th>Haden</th>\n",
       "      <td>90</td>\n",
       "      <td>38</td>\n",
       "      <td>False</td>\n",
       "    </tr>\n",
       "  </tbody>\n",
       "</table>\n",
       "</div>"
      ],
      "text/plain": [
       "          grade  height  was_late\n",
       "Tomas        45      34      True\n",
       "Angel        56      35     False\n",
       "Stacy        78      36      True\n",
       "Michaela     89      37     False\n",
       "Haden        90      38     False"
      ]
     },
     "execution_count": 34,
     "metadata": {},
     "output_type": "execute_result"
    }
   ],
   "source": [
    "students['was_late'] = [True, False, True, False, False]\n",
    "students"
   ]
  },
  {
   "cell_type": "markdown",
   "metadata": {},
   "source": [
    "Tambien es posible a través de un array"
   ]
  },
  {
   "cell_type": "code",
   "execution_count": 35,
   "metadata": {},
   "outputs": [
    {
     "data": {
      "text/html": [
       "<div>\n",
       "<style scoped>\n",
       "    .dataframe tbody tr th:only-of-type {\n",
       "        vertical-align: middle;\n",
       "    }\n",
       "\n",
       "    .dataframe tbody tr th {\n",
       "        vertical-align: top;\n",
       "    }\n",
       "\n",
       "    .dataframe thead th {\n",
       "        text-align: right;\n",
       "    }\n",
       "</style>\n",
       "<table border=\"1\" class=\"dataframe\">\n",
       "  <thead>\n",
       "    <tr style=\"text-align: right;\">\n",
       "      <th></th>\n",
       "      <th>grade</th>\n",
       "      <th>height</th>\n",
       "      <th>was_late</th>\n",
       "    </tr>\n",
       "  </thead>\n",
       "  <tbody>\n",
       "    <tr>\n",
       "      <th>Tomas</th>\n",
       "      <td>45</td>\n",
       "      <td>34</td>\n",
       "      <td>True</td>\n",
       "    </tr>\n",
       "    <tr>\n",
       "      <th>Angel</th>\n",
       "      <td>56</td>\n",
       "      <td>35</td>\n",
       "      <td>False</td>\n",
       "    </tr>\n",
       "    <tr>\n",
       "      <th>Stacy</th>\n",
       "      <td>78</td>\n",
       "      <td>36</td>\n",
       "      <td>True</td>\n",
       "    </tr>\n",
       "    <tr>\n",
       "      <th>Michaela</th>\n",
       "      <td>89</td>\n",
       "      <td>37</td>\n",
       "      <td>False</td>\n",
       "    </tr>\n",
       "    <tr>\n",
       "      <th>Haden</th>\n",
       "      <td>90</td>\n",
       "      <td>38</td>\n",
       "      <td>False</td>\n",
       "    </tr>\n",
       "  </tbody>\n",
       "</table>\n",
       "</div>"
      ],
      "text/plain": [
       "          grade  height  was_late\n",
       "Tomas        45      34      True\n",
       "Angel        56      35     False\n",
       "Stacy        78      36      True\n",
       "Michaela     89      37     False\n",
       "Haden        90      38     False"
      ]
     },
     "execution_count": 35,
     "metadata": {},
     "output_type": "execute_result"
    }
   ],
   "source": [
    "students['was_late'] = np.array([True, False, True, False, False])\n",
    "students"
   ]
  },
  {
   "cell_type": "markdown",
   "metadata": {},
   "source": [
    "Pero el arry debe tener una forma de (n, ) o (1, n). No (n, 1). Lo que tiene un poco de sentido, porque eso es tratar de encajar una fila en una columna."
   ]
  },
  {
   "cell_type": "code",
   "execution_count": 36,
   "metadata": {},
   "outputs": [
    {
     "data": {
      "text/html": [
       "<div>\n",
       "<style scoped>\n",
       "    .dataframe tbody tr th:only-of-type {\n",
       "        vertical-align: middle;\n",
       "    }\n",
       "\n",
       "    .dataframe tbody tr th {\n",
       "        vertical-align: top;\n",
       "    }\n",
       "\n",
       "    .dataframe thead th {\n",
       "        text-align: right;\n",
       "    }\n",
       "</style>\n",
       "<table border=\"1\" class=\"dataframe\">\n",
       "  <thead>\n",
       "    <tr style=\"text-align: right;\">\n",
       "      <th></th>\n",
       "      <th>grade</th>\n",
       "      <th>height</th>\n",
       "      <th>was_late</th>\n",
       "    </tr>\n",
       "  </thead>\n",
       "  <tbody>\n",
       "    <tr>\n",
       "      <th>Tomas</th>\n",
       "      <td>45</td>\n",
       "      <td>34</td>\n",
       "      <td>True</td>\n",
       "    </tr>\n",
       "    <tr>\n",
       "      <th>Angel</th>\n",
       "      <td>56</td>\n",
       "      <td>35</td>\n",
       "      <td>False</td>\n",
       "    </tr>\n",
       "    <tr>\n",
       "      <th>Stacy</th>\n",
       "      <td>78</td>\n",
       "      <td>36</td>\n",
       "      <td>True</td>\n",
       "    </tr>\n",
       "    <tr>\n",
       "      <th>Michaela</th>\n",
       "      <td>89</td>\n",
       "      <td>37</td>\n",
       "      <td>False</td>\n",
       "    </tr>\n",
       "    <tr>\n",
       "      <th>Haden</th>\n",
       "      <td>90</td>\n",
       "      <td>38</td>\n",
       "      <td>False</td>\n",
       "    </tr>\n",
       "  </tbody>\n",
       "</table>\n",
       "</div>"
      ],
      "text/plain": [
       "          grade  height  was_late\n",
       "Tomas        45      34      True\n",
       "Angel        56      35     False\n",
       "Stacy        78      36      True\n",
       "Michaela     89      37     False\n",
       "Haden        90      38     False"
      ]
     },
     "execution_count": 36,
     "metadata": {},
     "output_type": "execute_result"
    }
   ],
   "source": [
    "students['was_late'] = np.array([True, False, True, False, False]).reshape(-1,1)\n",
    "students"
   ]
  },
  {
   "cell_type": "markdown",
   "metadata": {},
   "source": [
    "```python\n",
    "# Esto debe dar un error\n",
    "students['was_late'] = np.array([True, False, True, False, False]).reshape(1,-1)\n",
    "students\n",
    "```"
   ]
  },
  {
   "cell_type": "markdown",
   "metadata": {},
   "source": [
    "### 13.- Agregar la columna 'top_crush' a 'students'. El cual es el nombre del crush de cada estudiante\n",
    "\n",
    "```python\n",
    "> print(students)\n",
    "\n",
    "          grade  height  was_late     top_crush\n",
    "Tomas        45      34      True         Angel\n",
    "Angel        56      35     False         Haden\n",
    "Stacy        78      36      True      Michaela\n",
    "Michaela     89      37     False         Tomas\n",
    "Haden        90      38     False  Edgar A. Poe\n",
    "```"
   ]
  },
  {
   "cell_type": "code",
   "execution_count": 37,
   "metadata": {},
   "outputs": [
    {
     "name": "stdout",
     "output_type": "stream",
     "text": [
      "          grade  height  was_late     top_crush\n",
      "Tomas        45      34      True         Angel\n",
      "Angel        56      35     False         Haden\n",
      "Stacy        78      36      True      Michaela\n",
      "Michaela     89      37     False         Tomas\n",
      "Haden        90      38     False  Edgar A. Poe\n"
     ]
    }
   ],
   "source": [
    "# Agregar columna\n",
    "students['top_crush'] = [\"Angel\",\"Haden\",\"Michaela\",\"Tomas\",\"Edgar A. Poe\"]\n",
    "print(students)"
   ]
  },
  {
   "cell_type": "markdown",
   "metadata": {},
   "source": [
    "## Proyección"
   ]
  },
  {
   "cell_type": "markdown",
   "metadata": {},
   "source": [
    "Al igual que en numpy, es posible hacer una proyección de una serie"
   ]
  },
  {
   "cell_type": "code",
   "execution_count": 38,
   "metadata": {},
   "outputs": [
    {
     "data": {
      "text/plain": [
       "Tomas       False\n",
       "Angel       False\n",
       "Stacy        True\n",
       "Michaela     True\n",
       "Haden        True\n",
       "Name: grade, dtype: bool"
      ]
     },
     "execution_count": 38,
     "metadata": {},
     "output_type": "execute_result"
    }
   ],
   "source": [
    "students['grade']>75"
   ]
  },
  {
   "cell_type": "markdown",
   "metadata": {},
   "source": [
    "Para crear la columna 'above_75_percent'"
   ]
  },
  {
   "cell_type": "code",
   "execution_count": 39,
   "metadata": {},
   "outputs": [
    {
     "data": {
      "text/html": [
       "<div>\n",
       "<style scoped>\n",
       "    .dataframe tbody tr th:only-of-type {\n",
       "        vertical-align: middle;\n",
       "    }\n",
       "\n",
       "    .dataframe tbody tr th {\n",
       "        vertical-align: top;\n",
       "    }\n",
       "\n",
       "    .dataframe thead th {\n",
       "        text-align: right;\n",
       "    }\n",
       "</style>\n",
       "<table border=\"1\" class=\"dataframe\">\n",
       "  <thead>\n",
       "    <tr style=\"text-align: right;\">\n",
       "      <th></th>\n",
       "      <th>grade</th>\n",
       "      <th>height</th>\n",
       "      <th>was_late</th>\n",
       "      <th>top_crush</th>\n",
       "      <th>above_75_percent</th>\n",
       "    </tr>\n",
       "  </thead>\n",
       "  <tbody>\n",
       "    <tr>\n",
       "      <th>Tomas</th>\n",
       "      <td>45</td>\n",
       "      <td>34</td>\n",
       "      <td>True</td>\n",
       "      <td>Angel</td>\n",
       "      <td>False</td>\n",
       "    </tr>\n",
       "    <tr>\n",
       "      <th>Angel</th>\n",
       "      <td>56</td>\n",
       "      <td>35</td>\n",
       "      <td>False</td>\n",
       "      <td>Haden</td>\n",
       "      <td>False</td>\n",
       "    </tr>\n",
       "    <tr>\n",
       "      <th>Stacy</th>\n",
       "      <td>78</td>\n",
       "      <td>36</td>\n",
       "      <td>True</td>\n",
       "      <td>Michaela</td>\n",
       "      <td>True</td>\n",
       "    </tr>\n",
       "    <tr>\n",
       "      <th>Michaela</th>\n",
       "      <td>89</td>\n",
       "      <td>37</td>\n",
       "      <td>False</td>\n",
       "      <td>Tomas</td>\n",
       "      <td>True</td>\n",
       "    </tr>\n",
       "    <tr>\n",
       "      <th>Haden</th>\n",
       "      <td>90</td>\n",
       "      <td>38</td>\n",
       "      <td>False</td>\n",
       "      <td>Edgar A. Poe</td>\n",
       "      <td>True</td>\n",
       "    </tr>\n",
       "  </tbody>\n",
       "</table>\n",
       "</div>"
      ],
      "text/plain": [
       "          grade  height  was_late     top_crush  above_75_percent\n",
       "Tomas        45      34      True         Angel             False\n",
       "Angel        56      35     False         Haden             False\n",
       "Stacy        78      36      True      Michaela              True\n",
       "Michaela     89      37     False         Tomas              True\n",
       "Haden        90      38     False  Edgar A. Poe              True"
      ]
     },
     "execution_count": 39,
     "metadata": {},
     "output_type": "execute_result"
    }
   ],
   "source": [
    "students['above_75_percent'] = students['grade']>75\n",
    "students"
   ]
  },
  {
   "cell_type": "markdown",
   "metadata": {},
   "source": [
    "Este tipo de proyecciones resultan de gran utilidad."
   ]
  },
  {
   "cell_type": "markdown",
   "metadata": {},
   "source": [
    "### 14.- Agregar la columna 'taller_than_35' a students\n",
    "\n",
    "```python\n",
    "> print(students[['grade', 'height', 'taller_than_35']])\n",
    "\n",
    "          grade  height  taller_than_35\n",
    "Tomas        45      34           False\n",
    "Angel        56      35           False\n",
    "Stacy        78      36            True\n",
    "Michaela     89      37            True\n",
    "Haden        90      38            True\n",
    "```"
   ]
  },
  {
   "cell_type": "code",
   "execution_count": 40,
   "metadata": {},
   "outputs": [
    {
     "name": "stdout",
     "output_type": "stream",
     "text": [
      "          grade  height  taller_than_35\n",
      "Tomas        45      34           False\n",
      "Angel        56      35           False\n",
      "Stacy        78      36            True\n",
      "Michaela     89      37            True\n",
      "Haden        90      38            True\n"
     ]
    }
   ],
   "source": [
    "# Agregar columna proyectada\n",
    "students['taller_than_35'] = students[\"height\"]>35\n",
    "print(students[['grade', 'height', 'taller_than_35']])"
   ]
  },
  {
   "cell_type": "markdown",
   "metadata": {},
   "source": [
    "Los elementos se emparejan por **index**."
   ]
  },
  {
   "cell_type": "markdown",
   "metadata": {},
   "source": [
    "## Índices"
   ]
  },
  {
   "cell_type": "code",
   "execution_count": 41,
   "metadata": {},
   "outputs": [],
   "source": [
    "df = pd.DataFrame(\n",
    "    [[1, 2, 3], [4, 5, 6]], \n",
    "    columns=['a', 'b', 'c'], \n",
    "    index=['foo', 'bar'])"
   ]
  },
  {
   "cell_type": "code",
   "execution_count": 42,
   "metadata": {},
   "outputs": [
    {
     "data": {
      "text/html": [
       "<div>\n",
       "<style scoped>\n",
       "    .dataframe tbody tr th:only-of-type {\n",
       "        vertical-align: middle;\n",
       "    }\n",
       "\n",
       "    .dataframe tbody tr th {\n",
       "        vertical-align: top;\n",
       "    }\n",
       "\n",
       "    .dataframe thead th {\n",
       "        text-align: right;\n",
       "    }\n",
       "</style>\n",
       "<table border=\"1\" class=\"dataframe\">\n",
       "  <thead>\n",
       "    <tr style=\"text-align: right;\">\n",
       "      <th></th>\n",
       "      <th>a</th>\n",
       "      <th>b</th>\n",
       "      <th>c</th>\n",
       "      <th>d</th>\n",
       "    </tr>\n",
       "  </thead>\n",
       "  <tbody>\n",
       "    <tr>\n",
       "      <th>foo</th>\n",
       "      <td>1</td>\n",
       "      <td>2</td>\n",
       "      <td>3</td>\n",
       "      <td>5</td>\n",
       "    </tr>\n",
       "    <tr>\n",
       "      <th>bar</th>\n",
       "      <td>4</td>\n",
       "      <td>5</td>\n",
       "      <td>6</td>\n",
       "      <td>4</td>\n",
       "    </tr>\n",
       "  </tbody>\n",
       "</table>\n",
       "</div>"
      ],
      "text/plain": [
       "     a  b  c  d\n",
       "foo  1  2  3  5\n",
       "bar  4  5  6  4"
      ]
     },
     "execution_count": 42,
     "metadata": {},
     "output_type": "execute_result"
    }
   ],
   "source": [
    "# El índice está invertido\n",
    "df['d'] = pd.Series([4, 5], index=['bar', 'foo'])\n",
    "df"
   ]
  },
  {
   "cell_type": "markdown",
   "metadata": {},
   "source": [
    "Si el índice no coincide el valor se convierte en NaN"
   ]
  },
  {
   "cell_type": "code",
   "execution_count": 43,
   "metadata": {},
   "outputs": [
    {
     "data": {
      "text/html": [
       "<div>\n",
       "<style scoped>\n",
       "    .dataframe tbody tr th:only-of-type {\n",
       "        vertical-align: middle;\n",
       "    }\n",
       "\n",
       "    .dataframe tbody tr th {\n",
       "        vertical-align: top;\n",
       "    }\n",
       "\n",
       "    .dataframe thead th {\n",
       "        text-align: right;\n",
       "    }\n",
       "</style>\n",
       "<table border=\"1\" class=\"dataframe\">\n",
       "  <thead>\n",
       "    <tr style=\"text-align: right;\">\n",
       "      <th></th>\n",
       "      <th>a</th>\n",
       "      <th>b</th>\n",
       "      <th>c</th>\n",
       "      <th>d</th>\n",
       "    </tr>\n",
       "  </thead>\n",
       "  <tbody>\n",
       "    <tr>\n",
       "      <th>foo</th>\n",
       "      <td>1</td>\n",
       "      <td>2</td>\n",
       "      <td>3</td>\n",
       "      <td>NaN</td>\n",
       "    </tr>\n",
       "    <tr>\n",
       "      <th>bar</th>\n",
       "      <td>4</td>\n",
       "      <td>5</td>\n",
       "      <td>6</td>\n",
       "      <td>4.0</td>\n",
       "    </tr>\n",
       "  </tbody>\n",
       "</table>\n",
       "</div>"
      ],
      "text/plain": [
       "     a  b  c    d\n",
       "foo  1  2  3  NaN\n",
       "bar  4  5  6  4.0"
      ]
     },
     "execution_count": 43,
     "metadata": {},
     "output_type": "execute_result"
    }
   ],
   "source": [
    "df['d'] = pd.Series([4, 5], index=['bar', 'baz'])\n",
    "df"
   ]
  },
  {
   "cell_type": "markdown",
   "metadata": {},
   "source": [
    "Al agregar una lista o vector en un DataFrame sin índice la columna se inserta en orden"
   ]
  },
  {
   "cell_type": "code",
   "execution_count": 44,
   "metadata": {},
   "outputs": [
    {
     "data": {
      "text/html": [
       "<div>\n",
       "<style scoped>\n",
       "    .dataframe tbody tr th:only-of-type {\n",
       "        vertical-align: middle;\n",
       "    }\n",
       "\n",
       "    .dataframe tbody tr th {\n",
       "        vertical-align: top;\n",
       "    }\n",
       "\n",
       "    .dataframe thead th {\n",
       "        text-align: right;\n",
       "    }\n",
       "</style>\n",
       "<table border=\"1\" class=\"dataframe\">\n",
       "  <thead>\n",
       "    <tr style=\"text-align: right;\">\n",
       "      <th></th>\n",
       "      <th>a</th>\n",
       "      <th>b</th>\n",
       "      <th>c</th>\n",
       "      <th>d</th>\n",
       "      <th>e</th>\n",
       "    </tr>\n",
       "  </thead>\n",
       "  <tbody>\n",
       "    <tr>\n",
       "      <th>foo</th>\n",
       "      <td>1</td>\n",
       "      <td>2</td>\n",
       "      <td>3</td>\n",
       "      <td>NaN</td>\n",
       "      <td>1</td>\n",
       "    </tr>\n",
       "    <tr>\n",
       "      <th>bar</th>\n",
       "      <td>4</td>\n",
       "      <td>5</td>\n",
       "      <td>6</td>\n",
       "      <td>4.0</td>\n",
       "      <td>2</td>\n",
       "    </tr>\n",
       "  </tbody>\n",
       "</table>\n",
       "</div>"
      ],
      "text/plain": [
       "     a  b  c    d  e\n",
       "foo  1  2  3  NaN  1\n",
       "bar  4  5  6  4.0  2"
      ]
     },
     "execution_count": 44,
     "metadata": {},
     "output_type": "execute_result"
    }
   ],
   "source": [
    "df['e'] = [1, 2]\n",
    "df"
   ]
  },
  {
   "cell_type": "markdown",
   "metadata": {},
   "source": [
    "Utilizando una Serie se debe tener cuidado ya que si no existe un índice, todos los valores se convierten a NaN"
   ]
  },
  {
   "cell_type": "code",
   "execution_count": 45,
   "metadata": {
    "scrolled": true
   },
   "outputs": [
    {
     "data": {
      "text/html": [
       "<div>\n",
       "<style scoped>\n",
       "    .dataframe tbody tr th:only-of-type {\n",
       "        vertical-align: middle;\n",
       "    }\n",
       "\n",
       "    .dataframe tbody tr th {\n",
       "        vertical-align: top;\n",
       "    }\n",
       "\n",
       "    .dataframe thead th {\n",
       "        text-align: right;\n",
       "    }\n",
       "</style>\n",
       "<table border=\"1\" class=\"dataframe\">\n",
       "  <thead>\n",
       "    <tr style=\"text-align: right;\">\n",
       "      <th></th>\n",
       "      <th>grade</th>\n",
       "      <th>height</th>\n",
       "      <th>was_late</th>\n",
       "      <th>top_crush</th>\n",
       "      <th>above_75_percent</th>\n",
       "      <th>taller_than_35</th>\n",
       "    </tr>\n",
       "  </thead>\n",
       "  <tbody>\n",
       "    <tr>\n",
       "      <th>Tomas</th>\n",
       "      <td>45</td>\n",
       "      <td>34</td>\n",
       "      <td>NaN</td>\n",
       "      <td>Angel</td>\n",
       "      <td>False</td>\n",
       "      <td>False</td>\n",
       "    </tr>\n",
       "    <tr>\n",
       "      <th>Angel</th>\n",
       "      <td>56</td>\n",
       "      <td>35</td>\n",
       "      <td>NaN</td>\n",
       "      <td>Haden</td>\n",
       "      <td>False</td>\n",
       "      <td>False</td>\n",
       "    </tr>\n",
       "    <tr>\n",
       "      <th>Stacy</th>\n",
       "      <td>78</td>\n",
       "      <td>36</td>\n",
       "      <td>NaN</td>\n",
       "      <td>Michaela</td>\n",
       "      <td>True</td>\n",
       "      <td>True</td>\n",
       "    </tr>\n",
       "    <tr>\n",
       "      <th>Michaela</th>\n",
       "      <td>89</td>\n",
       "      <td>37</td>\n",
       "      <td>NaN</td>\n",
       "      <td>Tomas</td>\n",
       "      <td>True</td>\n",
       "      <td>True</td>\n",
       "    </tr>\n",
       "    <tr>\n",
       "      <th>Haden</th>\n",
       "      <td>90</td>\n",
       "      <td>38</td>\n",
       "      <td>NaN</td>\n",
       "      <td>Edgar A. Poe</td>\n",
       "      <td>True</td>\n",
       "      <td>True</td>\n",
       "    </tr>\n",
       "  </tbody>\n",
       "</table>\n",
       "</div>"
      ],
      "text/plain": [
       "          grade  height was_late     top_crush  above_75_percent  \\\n",
       "Tomas        45      34      NaN         Angel             False   \n",
       "Angel        56      35      NaN         Haden             False   \n",
       "Stacy        78      36      NaN      Michaela              True   \n",
       "Michaela     89      37      NaN         Tomas              True   \n",
       "Haden        90      38      NaN  Edgar A. Poe              True   \n",
       "\n",
       "          taller_than_35  \n",
       "Tomas              False  \n",
       "Angel              False  \n",
       "Stacy               True  \n",
       "Michaela            True  \n",
       "Haden               True  "
      ]
     },
     "execution_count": 45,
     "metadata": {},
     "output_type": "execute_result"
    }
   ],
   "source": [
    "students['was_late'] = pd.Series([True, False, True, False, False])\n",
    "students"
   ]
  },
  {
   "cell_type": "markdown",
   "metadata": {},
   "source": [
    "Agregar el índice:"
   ]
  },
  {
   "cell_type": "code",
   "execution_count": 46,
   "metadata": {},
   "outputs": [
    {
     "data": {
      "text/html": [
       "<div>\n",
       "<style scoped>\n",
       "    .dataframe tbody tr th:only-of-type {\n",
       "        vertical-align: middle;\n",
       "    }\n",
       "\n",
       "    .dataframe tbody tr th {\n",
       "        vertical-align: top;\n",
       "    }\n",
       "\n",
       "    .dataframe thead th {\n",
       "        text-align: right;\n",
       "    }\n",
       "</style>\n",
       "<table border=\"1\" class=\"dataframe\">\n",
       "  <thead>\n",
       "    <tr style=\"text-align: right;\">\n",
       "      <th></th>\n",
       "      <th>grade</th>\n",
       "      <th>height</th>\n",
       "      <th>was_late</th>\n",
       "      <th>top_crush</th>\n",
       "      <th>above_75_percent</th>\n",
       "      <th>taller_than_35</th>\n",
       "    </tr>\n",
       "  </thead>\n",
       "  <tbody>\n",
       "    <tr>\n",
       "      <th>Tomas</th>\n",
       "      <td>45</td>\n",
       "      <td>34</td>\n",
       "      <td>True</td>\n",
       "      <td>Angel</td>\n",
       "      <td>False</td>\n",
       "      <td>False</td>\n",
       "    </tr>\n",
       "    <tr>\n",
       "      <th>Angel</th>\n",
       "      <td>56</td>\n",
       "      <td>35</td>\n",
       "      <td>False</td>\n",
       "      <td>Haden</td>\n",
       "      <td>False</td>\n",
       "      <td>False</td>\n",
       "    </tr>\n",
       "    <tr>\n",
       "      <th>Stacy</th>\n",
       "      <td>78</td>\n",
       "      <td>36</td>\n",
       "      <td>True</td>\n",
       "      <td>Michaela</td>\n",
       "      <td>True</td>\n",
       "      <td>True</td>\n",
       "    </tr>\n",
       "    <tr>\n",
       "      <th>Michaela</th>\n",
       "      <td>89</td>\n",
       "      <td>37</td>\n",
       "      <td>False</td>\n",
       "      <td>Tomas</td>\n",
       "      <td>True</td>\n",
       "      <td>True</td>\n",
       "    </tr>\n",
       "    <tr>\n",
       "      <th>Haden</th>\n",
       "      <td>90</td>\n",
       "      <td>38</td>\n",
       "      <td>False</td>\n",
       "      <td>Edgar A. Poe</td>\n",
       "      <td>True</td>\n",
       "      <td>True</td>\n",
       "    </tr>\n",
       "  </tbody>\n",
       "</table>\n",
       "</div>"
      ],
      "text/plain": [
       "          grade  height  was_late     top_crush  above_75_percent  \\\n",
       "Tomas        45      34      True         Angel             False   \n",
       "Angel        56      35     False         Haden             False   \n",
       "Stacy        78      36      True      Michaela              True   \n",
       "Michaela     89      37     False         Tomas              True   \n",
       "Haden        90      38     False  Edgar A. Poe              True   \n",
       "\n",
       "          taller_than_35  \n",
       "Tomas              False  \n",
       "Angel              False  \n",
       "Stacy               True  \n",
       "Michaela            True  \n",
       "Haden               True  "
      ]
     },
     "execution_count": 46,
     "metadata": {},
     "output_type": "execute_result"
    }
   ],
   "source": [
    "students['was_late'] = pd.Series([True, False, True, False, False], index=students.index)\n",
    "students"
   ]
  },
  {
   "cell_type": "markdown",
   "metadata": {},
   "source": [
    "### 15.- Crear el  dataframe 'numbers' con la columna `increasing`, la cual contenga numeros de 1-50 en este orden. Después, insertar una columna `evens`, que contenga solo números pares si el número es par en `increasing` \n",
    "\n",
    "```python\n",
    "> print(numbers)\n",
    "\n",
    "    increasing  evens\n",
    "0            0    0.0\n",
    "1            1    NaN\n",
    "2            2    2.0\n",
    "3            3    NaN\n",
    "4            4    4.0\n",
    "5            5    NaN\n",
    "6            6    6.0\n",
    "7            7    NaN\n",
    "8            8    8.0\n",
    "9            9    NaN\n",
    "10          10   10.0\n",
    ".            .      .\n",
    ".            .      .\n",
    ".            .      .\n",
    "\n",
    "```"
   ]
  },
  {
   "cell_type": "code",
   "execution_count": 47,
   "metadata": {},
   "outputs": [
    {
     "name": "stdout",
     "output_type": "stream",
     "text": [
      "    increasing  evens\n",
      "0            1    NaN\n",
      "1            2    2.0\n",
      "2            3    NaN\n",
      "3            4    4.0\n",
      "4            5    NaN\n",
      "5            6    6.0\n",
      "6            7    NaN\n",
      "7            8    8.0\n",
      "8            9    NaN\n",
      "9           10   10.0\n",
      "10          11    NaN\n",
      "11          12   12.0\n",
      "12          13    NaN\n",
      "13          14   14.0\n",
      "14          15    NaN\n",
      "15          16   16.0\n",
      "16          17    NaN\n",
      "17          18   18.0\n",
      "18          19    NaN\n",
      "19          20   20.0\n",
      "20          21    NaN\n",
      "21          22   22.0\n",
      "22          23    NaN\n",
      "23          24   24.0\n",
      "24          25    NaN\n",
      "25          26   26.0\n",
      "26          27    NaN\n",
      "27          28   28.0\n",
      "28          29    NaN\n",
      "29          30   30.0\n",
      "30          31    NaN\n",
      "31          32   32.0\n",
      "32          33    NaN\n",
      "33          34   34.0\n",
      "34          35    NaN\n",
      "35          36   36.0\n",
      "36          37    NaN\n",
      "37          38   38.0\n",
      "38          39    NaN\n",
      "39          40   40.0\n",
      "40          41    NaN\n",
      "41          42   42.0\n",
      "42          43    NaN\n",
      "43          44   44.0\n",
      "44          45    NaN\n",
      "45          46   46.0\n",
      "46          47    NaN\n",
      "47          48   48.0\n",
      "48          49    NaN\n",
      "49          50   50.0\n"
     ]
    }
   ],
   "source": [
    "# Crear DF\n",
    "\n",
    "# Arrays\n",
    "array1 = np.arange(1, 51) # 1 al 50\n",
    "# DF\n",
    "numbers = pd.DataFrame({'increasing':array1})\n",
    "# Columna\n",
    "numbers['evens'] = numbers['increasing'][numbers['increasing'] % 2 == 0]\n",
    "\n",
    "print(numbers)"
   ]
  },
  {
   "cell_type": "markdown",
   "metadata": {},
   "source": [
    "### 16.- Agregar la siguiente información en una columna 'pickup_time'\n",
    "\n",
    "Haden = 4,\n",
    "Tomas = 5,\n",
    "Stacy = 3\n",
    "\n",
    "\n",
    "```python\n",
    "> print(students[['grade', 'height', 'pickup_time']])\n",
    "\n",
    "          grade  height  pickup_time\n",
    "Tomas        45      34          5.0\n",
    "Angel        56      35          NaN\n",
    "Stacy        78      36          3.0\n",
    "Michaela     89      37          NaN\n",
    "Haden        90      38          4.0\n",
    "\n",
    "```"
   ]
  },
  {
   "cell_type": "code",
   "execution_count": 48,
   "metadata": {},
   "outputs": [
    {
     "name": "stdout",
     "output_type": "stream",
     "text": [
      "          grade  height  pickup_time\n",
      "Tomas        45      34          5.0\n",
      "Angel        56      35          NaN\n",
      "Stacy        78      36          3.0\n",
      "Michaela     89      37          NaN\n",
      "Haden        90      38          4.0\n"
     ]
    }
   ],
   "source": [
    "# Nueva columna\n",
    "students['pickup_time'] = pd.Series([4,5,3],index=['Haden','Tomas','Stacy'])\n",
    "print(students[['grade', 'height', 'pickup_time']])"
   ]
  },
  {
   "cell_type": "markdown",
   "metadata": {},
   "source": [
    "### 17.- Agregar la siguiente informaión para los primeros tres estudiantes, el resto puede ser NaN\n",
    "\n",
    "4,5,3\n",
    "\n",
    "\n",
    "```python\n",
    "> print(students[['grade', 'height', 'pickup_time']])\n",
    "\n",
    "          grade  height  pickup_time\n",
    "Tomas        45      34          4.0\n",
    "Angel        56      35          5.0\n",
    "Stacy        78      36          2.0\n",
    "Michaela     89      37          NaN\n",
    "Haden        90      38          NaN\n",
    "\n",
    "```\n",
    "\n",
    "(NaN is input as np.NaN)"
   ]
  },
  {
   "cell_type": "code",
   "execution_count": 49,
   "metadata": {},
   "outputs": [
    {
     "name": "stdout",
     "output_type": "stream",
     "text": [
      "          grade  height  pickup_time\n",
      "Tomas        45      34          4.0\n",
      "Angel        56      35          5.0\n",
      "Stacy        78      36          3.0\n",
      "Michaela     89      37          NaN\n",
      "Haden        90      38          NaN\n"
     ]
    }
   ],
   "source": [
    "# Nueva columna sin index\n",
    "students['pickup_time'] =[4,5,3,np.nan,np.nan]\n",
    "print(students[['grade', 'height', 'pickup_time']])"
   ]
  },
  {
   "cell_type": "markdown",
   "metadata": {},
   "source": [
    "## Carga de información"
   ]
  },
  {
   "cell_type": "markdown",
   "metadata": {},
   "source": [
    "Para cargar información externa en Pandas primero debemos localizarla"
   ]
  },
  {
   "cell_type": "markdown",
   "metadata": {},
   "source": [
    "El comando 'ls' es de ayuda para esto"
   ]
  },
  {
   "cell_type": "code",
   "execution_count": 50,
   "metadata": {},
   "outputs": [
    {
     "name": "stdout",
     "output_type": "stream",
     "text": [
      " Volume in drive C has no label.\n",
      " Volume Serial Number is 00D6-38B9\n",
      "\n",
      " Directory of C:\\Users\\vecamo15\\OneDrive - Arca Continental S.A.B. de C.V\\Documentos\\Data Translation\\Curso DT\\Modulo 01\n",
      "\n",
      "09/15/2023  07:18 PM    <DIR>          .\n",
      "09/15/2023  07:18 PM    <DIR>          ..\n",
      "09/15/2023  05:50 PM    <DIR>          .ipynb_checkpoints\n",
      "09/15/2023  05:33 PM            31,999 1.- Review Python General.ipynb\n",
      "09/15/2023  07:18 PM           200,811 Actividad 1 R2.ipynb\n",
      "09/15/2023  06:07 PM    <DIR>          files\n",
      "09/15/2023  06:08 PM        14,277,551 files.zip\n",
      "               3 File(s)     14,510,361 bytes\n",
      "               4 Dir(s)  98,364,456,960 bytes free\n"
     ]
    }
   ],
   "source": [
    "ls"
   ]
  },
  {
   "cell_type": "markdown",
   "metadata": {},
   "source": [
    "probablemente se encuentre en 'data/'"
   ]
  },
  {
   "cell_type": "code",
   "execution_count": 51,
   "metadata": {},
   "outputs": [
    {
     "name": "stdout",
     "output_type": "stream",
     "text": [
      " Volume in drive C has no label.\n",
      " Volume Serial Number is 00D6-38B9\n",
      "\n",
      " Directory of C:\\Users\\vecamo15\\OneDrive - Arca Continental S.A.B. de C.V\\Documentos\\Data Translation\\Curso DT\\Modulo 01\\files\n",
      "\n",
      "09/15/2023  06:07 PM    <DIR>          .\n",
      "09/15/2023  06:07 PM    <DIR>          ..\n",
      "09/15/2023  05:46 PM         7,652,596 chess_games.csv\n",
      "09/13/2023  06:03 PM         3,695,322 exo_planet.csv\n",
      "09/15/2023  05:47 PM        53,229,557 hospital-costs.csv\n",
      "09/15/2023  05:47 PM               502 playgolf.csv\n",
      "09/15/2023  05:47 PM            84,199 winequality-red.csv\n",
      "09/15/2023  05:47 PM           264,426 winequality-white.csv\n",
      "               6 File(s)     64,926,602 bytes\n",
      "               2 Dir(s)  98,364,395,520 bytes free\n"
     ]
    }
   ],
   "source": [
    "ls files"
   ]
  },
  {
   "cell_type": "markdown",
   "metadata": {},
   "source": [
    "Pandas puede cargar csv, aunque algunas veces el csv no está separado por comas. Revisemos lo que está dentro de playgolf.csv"
   ]
  },
  {
   "cell_type": "code",
   "execution_count": 52,
   "metadata": {},
   "outputs": [
    {
     "name": "stdout",
     "output_type": "stream",
     "text": [
      "Bash no funciona en mis configuraciones de empresa\n"
     ]
    }
   ],
   "source": [
    "# '!' significa que estamos ejecutando un comando de bash\n",
    "#!head -1 files/playgolf.csv\n",
    "print(\"Bash no funciona en mis configuraciones de empresa\")"
   ]
  },
  {
   "cell_type": "code",
   "execution_count": 53,
   "metadata": {},
   "outputs": [
    {
     "name": "stdout",
     "output_type": "stream",
     "text": [
      "Bash no funciona en mis configuraciones de empresa\n"
     ]
    }
   ],
   "source": [
    "#!head -1 files/playgolf.csv\n",
    "print(\"Bash no funciona en mis configuraciones de empresa\")"
   ]
  },
  {
   "cell_type": "markdown",
   "metadata": {},
   "source": [
    "###  Cargar datos desde csv\n",
    "\n",
    "Un csv (valores separados por comas) es un formato de archivo utilizado para almacenar datos separados por un **delimitador**.\n",
    "\n",
    "Un delimitador es el **carácter único** que divide los elementos de datos en un archivo.  La coma es una opción tradicional de delimitador, pero relativamente pobre porque a menudo forma parte de los propios elementos.  Las mejores opciones son el pipe (`|`) y el tabulador (`\\t`)."
   ]
  },
  {
   "cell_type": "markdown",
   "metadata": {},
   "source": [
    "En un extraño giro de la historia, los archivos separados por comas a menudo se separan con caracteres diferentes a las comas.  No hay una convención consistente de usar una extensión de archivo diferente, pero algunas personas usan `.psv` o `.tsv`.\n",
    "\n",
    "Pandas tiene una función `read_csv` que carga un fichero delimitado en un `DataFrame`.  "
   ]
  },
  {
   "cell_type": "code",
   "execution_count": 54,
   "metadata": {},
   "outputs": [],
   "source": [
    "golf_df = pd.read_csv('files/playgolf.csv', delimiter=',')"
   ]
  },
  {
   "cell_type": "code",
   "execution_count": 55,
   "metadata": {},
   "outputs": [
    {
     "data": {
      "text/html": [
       "<div>\n",
       "<style scoped>\n",
       "    .dataframe tbody tr th:only-of-type {\n",
       "        vertical-align: middle;\n",
       "    }\n",
       "\n",
       "    .dataframe tbody tr th {\n",
       "        vertical-align: top;\n",
       "    }\n",
       "\n",
       "    .dataframe thead th {\n",
       "        text-align: right;\n",
       "    }\n",
       "</style>\n",
       "<table border=\"1\" class=\"dataframe\">\n",
       "  <thead>\n",
       "    <tr style=\"text-align: right;\">\n",
       "      <th></th>\n",
       "      <th>Date</th>\n",
       "      <th>Outlook</th>\n",
       "      <th>Temperature</th>\n",
       "      <th>Humidity</th>\n",
       "      <th>Windy</th>\n",
       "      <th>Result</th>\n",
       "    </tr>\n",
       "  </thead>\n",
       "  <tbody>\n",
       "    <tr>\n",
       "      <th>0</th>\n",
       "      <td>7/1/14</td>\n",
       "      <td>sunny</td>\n",
       "      <td>85</td>\n",
       "      <td>85</td>\n",
       "      <td>False</td>\n",
       "      <td>Don't Play</td>\n",
       "    </tr>\n",
       "    <tr>\n",
       "      <th>1</th>\n",
       "      <td>7/2/14</td>\n",
       "      <td>sunny</td>\n",
       "      <td>80</td>\n",
       "      <td>90</td>\n",
       "      <td>True</td>\n",
       "      <td>Don't Play</td>\n",
       "    </tr>\n",
       "    <tr>\n",
       "      <th>2</th>\n",
       "      <td>7/3/14</td>\n",
       "      <td>overcast</td>\n",
       "      <td>83</td>\n",
       "      <td>78</td>\n",
       "      <td>False</td>\n",
       "      <td>Play</td>\n",
       "    </tr>\n",
       "    <tr>\n",
       "      <th>3</th>\n",
       "      <td>7/4/14</td>\n",
       "      <td>rain</td>\n",
       "      <td>70</td>\n",
       "      <td>96</td>\n",
       "      <td>False</td>\n",
       "      <td>Play</td>\n",
       "    </tr>\n",
       "    <tr>\n",
       "      <th>4</th>\n",
       "      <td>7/5/14</td>\n",
       "      <td>rain</td>\n",
       "      <td>68</td>\n",
       "      <td>80</td>\n",
       "      <td>False</td>\n",
       "      <td>Play</td>\n",
       "    </tr>\n",
       "    <tr>\n",
       "      <th>5</th>\n",
       "      <td>7/6/14</td>\n",
       "      <td>rain</td>\n",
       "      <td>65</td>\n",
       "      <td>70</td>\n",
       "      <td>True</td>\n",
       "      <td>Don't Play</td>\n",
       "    </tr>\n",
       "    <tr>\n",
       "      <th>6</th>\n",
       "      <td>7/7/14</td>\n",
       "      <td>overcast</td>\n",
       "      <td>64</td>\n",
       "      <td>65</td>\n",
       "      <td>True</td>\n",
       "      <td>Play</td>\n",
       "    </tr>\n",
       "    <tr>\n",
       "      <th>7</th>\n",
       "      <td>7/8/14</td>\n",
       "      <td>sunny</td>\n",
       "      <td>72</td>\n",
       "      <td>95</td>\n",
       "      <td>False</td>\n",
       "      <td>Don't Play</td>\n",
       "    </tr>\n",
       "    <tr>\n",
       "      <th>8</th>\n",
       "      <td>7/9/14</td>\n",
       "      <td>sunny</td>\n",
       "      <td>69</td>\n",
       "      <td>70</td>\n",
       "      <td>False</td>\n",
       "      <td>Play</td>\n",
       "    </tr>\n",
       "    <tr>\n",
       "      <th>9</th>\n",
       "      <td>7/10/14</td>\n",
       "      <td>rain</td>\n",
       "      <td>75</td>\n",
       "      <td>80</td>\n",
       "      <td>False</td>\n",
       "      <td>Play</td>\n",
       "    </tr>\n",
       "    <tr>\n",
       "      <th>10</th>\n",
       "      <td>7/11/14</td>\n",
       "      <td>sunny</td>\n",
       "      <td>75</td>\n",
       "      <td>70</td>\n",
       "      <td>True</td>\n",
       "      <td>Play</td>\n",
       "    </tr>\n",
       "    <tr>\n",
       "      <th>11</th>\n",
       "      <td>7/12/14</td>\n",
       "      <td>overcast</td>\n",
       "      <td>72</td>\n",
       "      <td>90</td>\n",
       "      <td>True</td>\n",
       "      <td>Play</td>\n",
       "    </tr>\n",
       "    <tr>\n",
       "      <th>12</th>\n",
       "      <td>7/13/14</td>\n",
       "      <td>overcast</td>\n",
       "      <td>81</td>\n",
       "      <td>75</td>\n",
       "      <td>False</td>\n",
       "      <td>Play</td>\n",
       "    </tr>\n",
       "    <tr>\n",
       "      <th>13</th>\n",
       "      <td>7/14/14</td>\n",
       "      <td>rain</td>\n",
       "      <td>71</td>\n",
       "      <td>80</td>\n",
       "      <td>True</td>\n",
       "      <td>Don't Play</td>\n",
       "    </tr>\n",
       "  </tbody>\n",
       "</table>\n",
       "</div>"
      ],
      "text/plain": [
       "       Date   Outlook  Temperature  Humidity  Windy      Result\n",
       "0    7/1/14     sunny           85        85  False  Don't Play\n",
       "1    7/2/14     sunny           80        90   True  Don't Play\n",
       "2    7/3/14  overcast           83        78  False        Play\n",
       "3    7/4/14      rain           70        96  False        Play\n",
       "4    7/5/14      rain           68        80  False        Play\n",
       "5    7/6/14      rain           65        70   True  Don't Play\n",
       "6    7/7/14  overcast           64        65   True        Play\n",
       "7    7/8/14     sunny           72        95  False  Don't Play\n",
       "8    7/9/14     sunny           69        70  False        Play\n",
       "9   7/10/14      rain           75        80  False        Play\n",
       "10  7/11/14     sunny           75        70   True        Play\n",
       "11  7/12/14  overcast           72        90   True        Play\n",
       "12  7/13/14  overcast           81        75  False        Play\n",
       "13  7/14/14      rain           71        80   True  Don't Play"
      ]
     },
     "execution_count": 55,
     "metadata": {},
     "output_type": "execute_result"
    }
   ],
   "source": [
    "golf_df"
   ]
  },
  {
   "cell_type": "markdown",
   "metadata": {},
   "source": [
    "### 18.- Cargar hospital-costs.csv como 'hospital_costs'.\n"
   ]
  },
  {
   "cell_type": "code",
   "execution_count": 56,
   "metadata": {},
   "outputs": [
    {
     "data": {
      "text/html": [
       "<div>\n",
       "<style scoped>\n",
       "    .dataframe tbody tr th:only-of-type {\n",
       "        vertical-align: middle;\n",
       "    }\n",
       "\n",
       "    .dataframe tbody tr th {\n",
       "        vertical-align: top;\n",
       "    }\n",
       "\n",
       "    .dataframe thead th {\n",
       "        text-align: right;\n",
       "    }\n",
       "</style>\n",
       "<table border=\"1\" class=\"dataframe\">\n",
       "  <thead>\n",
       "    <tr style=\"text-align: right;\">\n",
       "      <th></th>\n",
       "      <th>Year</th>\n",
       "      <th>Facility Id</th>\n",
       "      <th>Facility Name</th>\n",
       "      <th>APR DRG Code</th>\n",
       "      <th>APR Severity of Illness Code</th>\n",
       "      <th>APR DRG Description</th>\n",
       "      <th>APR Severity of Illness Description</th>\n",
       "      <th>APR Medical Surgical Code</th>\n",
       "      <th>APR Medical Surgical Description</th>\n",
       "      <th>Discharges</th>\n",
       "      <th>Mean Charge</th>\n",
       "      <th>Median Charge</th>\n",
       "      <th>Mean Cost</th>\n",
       "      <th>Median Cost</th>\n",
       "    </tr>\n",
       "  </thead>\n",
       "  <tbody>\n",
       "    <tr>\n",
       "      <th>0</th>\n",
       "      <td>2011</td>\n",
       "      <td>324</td>\n",
       "      <td>Adirondack Medical Center-Saranac Lake Site</td>\n",
       "      <td>4</td>\n",
       "      <td>4</td>\n",
       "      <td>Tracheostomy W MV 96+ Hours W Extensive Proced...</td>\n",
       "      <td>Extreme</td>\n",
       "      <td>P</td>\n",
       "      <td>Surgical</td>\n",
       "      <td>3</td>\n",
       "      <td>361289.0</td>\n",
       "      <td>210882.0</td>\n",
       "      <td>196080.0</td>\n",
       "      <td>123347.0</td>\n",
       "    </tr>\n",
       "    <tr>\n",
       "      <th>1</th>\n",
       "      <td>2011</td>\n",
       "      <td>324</td>\n",
       "      <td>Adirondack Medical Center-Saranac Lake Site</td>\n",
       "      <td>5</td>\n",
       "      <td>4</td>\n",
       "      <td>Tracheostomy W MV 96+ Hours W/O Extensive Proc...</td>\n",
       "      <td>Extreme</td>\n",
       "      <td>P</td>\n",
       "      <td>Surgical</td>\n",
       "      <td>1</td>\n",
       "      <td>102190.0</td>\n",
       "      <td>102190.0</td>\n",
       "      <td>59641.0</td>\n",
       "      <td>59641.0</td>\n",
       "    </tr>\n",
       "    <tr>\n",
       "      <th>2</th>\n",
       "      <td>2011</td>\n",
       "      <td>324</td>\n",
       "      <td>Adirondack Medical Center-Saranac Lake Site</td>\n",
       "      <td>24</td>\n",
       "      <td>2</td>\n",
       "      <td>Extracranial Vascular Procedures</td>\n",
       "      <td>Moderate</td>\n",
       "      <td>P</td>\n",
       "      <td>Surgical</td>\n",
       "      <td>6</td>\n",
       "      <td>14172.0</td>\n",
       "      <td>13506.0</td>\n",
       "      <td>6888.0</td>\n",
       "      <td>6445.0</td>\n",
       "    </tr>\n",
       "    <tr>\n",
       "      <th>3</th>\n",
       "      <td>2011</td>\n",
       "      <td>324</td>\n",
       "      <td>Adirondack Medical Center-Saranac Lake Site</td>\n",
       "      <td>26</td>\n",
       "      <td>1</td>\n",
       "      <td>Other Nervous System &amp; Related Procedures</td>\n",
       "      <td>Minor</td>\n",
       "      <td>P</td>\n",
       "      <td>Surgical</td>\n",
       "      <td>1</td>\n",
       "      <td>8833.0</td>\n",
       "      <td>8833.0</td>\n",
       "      <td>4259.0</td>\n",
       "      <td>4259.0</td>\n",
       "    </tr>\n",
       "    <tr>\n",
       "      <th>4</th>\n",
       "      <td>2011</td>\n",
       "      <td>324</td>\n",
       "      <td>Adirondack Medical Center-Saranac Lake Site</td>\n",
       "      <td>41</td>\n",
       "      <td>1</td>\n",
       "      <td>Nervous System Malignancy</td>\n",
       "      <td>Minor</td>\n",
       "      <td>M</td>\n",
       "      <td>Medical</td>\n",
       "      <td>1</td>\n",
       "      <td>5264.0</td>\n",
       "      <td>5264.0</td>\n",
       "      <td>1727.0</td>\n",
       "      <td>1727.0</td>\n",
       "    </tr>\n",
       "  </tbody>\n",
       "</table>\n",
       "</div>"
      ],
      "text/plain": [
       "   Year  Facility Id                                Facility Name  \\\n",
       "0  2011          324  Adirondack Medical Center-Saranac Lake Site   \n",
       "1  2011          324  Adirondack Medical Center-Saranac Lake Site   \n",
       "2  2011          324  Adirondack Medical Center-Saranac Lake Site   \n",
       "3  2011          324  Adirondack Medical Center-Saranac Lake Site   \n",
       "4  2011          324  Adirondack Medical Center-Saranac Lake Site   \n",
       "\n",
       "   APR DRG Code  APR Severity of Illness Code  \\\n",
       "0             4                             4   \n",
       "1             5                             4   \n",
       "2            24                             2   \n",
       "3            26                             1   \n",
       "4            41                             1   \n",
       "\n",
       "                                 APR DRG Description  \\\n",
       "0  Tracheostomy W MV 96+ Hours W Extensive Proced...   \n",
       "1  Tracheostomy W MV 96+ Hours W/O Extensive Proc...   \n",
       "2                   Extracranial Vascular Procedures   \n",
       "3          Other Nervous System & Related Procedures   \n",
       "4                          Nervous System Malignancy   \n",
       "\n",
       "  APR Severity of Illness Description APR Medical Surgical Code  \\\n",
       "0                             Extreme                         P   \n",
       "1                             Extreme                         P   \n",
       "2                            Moderate                         P   \n",
       "3                               Minor                         P   \n",
       "4                               Minor                         M   \n",
       "\n",
       "  APR Medical Surgical Description  Discharges  Mean Charge  Median Charge  \\\n",
       "0                         Surgical           3     361289.0       210882.0   \n",
       "1                         Surgical           1     102190.0       102190.0   \n",
       "2                         Surgical           6      14172.0        13506.0   \n",
       "3                         Surgical           1       8833.0         8833.0   \n",
       "4                          Medical           1       5264.0         5264.0   \n",
       "\n",
       "   Mean Cost  Median Cost  \n",
       "0   196080.0     123347.0  \n",
       "1    59641.0      59641.0  \n",
       "2     6888.0       6445.0  \n",
       "3     4259.0       4259.0  \n",
       "4     1727.0       1727.0  "
      ]
     },
     "execution_count": 56,
     "metadata": {},
     "output_type": "execute_result"
    }
   ],
   "source": [
    "# Cargar hospital\n",
    "hospital_costs = pd.read_csv('files/hospital-costs.csv', delimiter=',')\n",
    "hospital_costs.head()"
   ]
  },
  {
   "cell_type": "markdown",
   "metadata": {},
   "source": [
    "### 19.- Cargar winnequality-white.csv como 'wine_quality_white'."
   ]
  },
  {
   "cell_type": "code",
   "execution_count": 57,
   "metadata": {},
   "outputs": [
    {
     "data": {
      "text/html": [
       "<div>\n",
       "<style scoped>\n",
       "    .dataframe tbody tr th:only-of-type {\n",
       "        vertical-align: middle;\n",
       "    }\n",
       "\n",
       "    .dataframe tbody tr th {\n",
       "        vertical-align: top;\n",
       "    }\n",
       "\n",
       "    .dataframe thead th {\n",
       "        text-align: right;\n",
       "    }\n",
       "</style>\n",
       "<table border=\"1\" class=\"dataframe\">\n",
       "  <thead>\n",
       "    <tr style=\"text-align: right;\">\n",
       "      <th></th>\n",
       "      <th>fixed acidity</th>\n",
       "      <th>volatile acidity</th>\n",
       "      <th>citric acid</th>\n",
       "      <th>residual sugar</th>\n",
       "      <th>chlorides</th>\n",
       "      <th>free sulfur dioxide</th>\n",
       "      <th>total sulfur dioxide</th>\n",
       "      <th>density</th>\n",
       "      <th>pH</th>\n",
       "      <th>sulphates</th>\n",
       "      <th>alcohol</th>\n",
       "      <th>quality</th>\n",
       "    </tr>\n",
       "  </thead>\n",
       "  <tbody>\n",
       "    <tr>\n",
       "      <th>0</th>\n",
       "      <td>7.0</td>\n",
       "      <td>0.27</td>\n",
       "      <td>0.36</td>\n",
       "      <td>20.7</td>\n",
       "      <td>0.045</td>\n",
       "      <td>45.0</td>\n",
       "      <td>170.0</td>\n",
       "      <td>1.0010</td>\n",
       "      <td>3.00</td>\n",
       "      <td>0.45</td>\n",
       "      <td>8.8</td>\n",
       "      <td>6</td>\n",
       "    </tr>\n",
       "    <tr>\n",
       "      <th>1</th>\n",
       "      <td>6.3</td>\n",
       "      <td>0.30</td>\n",
       "      <td>0.34</td>\n",
       "      <td>1.6</td>\n",
       "      <td>0.049</td>\n",
       "      <td>14.0</td>\n",
       "      <td>132.0</td>\n",
       "      <td>0.9940</td>\n",
       "      <td>3.30</td>\n",
       "      <td>0.49</td>\n",
       "      <td>9.5</td>\n",
       "      <td>6</td>\n",
       "    </tr>\n",
       "    <tr>\n",
       "      <th>2</th>\n",
       "      <td>8.1</td>\n",
       "      <td>0.28</td>\n",
       "      <td>0.40</td>\n",
       "      <td>6.9</td>\n",
       "      <td>0.050</td>\n",
       "      <td>30.0</td>\n",
       "      <td>97.0</td>\n",
       "      <td>0.9951</td>\n",
       "      <td>3.26</td>\n",
       "      <td>0.44</td>\n",
       "      <td>10.1</td>\n",
       "      <td>6</td>\n",
       "    </tr>\n",
       "    <tr>\n",
       "      <th>3</th>\n",
       "      <td>7.2</td>\n",
       "      <td>0.23</td>\n",
       "      <td>0.32</td>\n",
       "      <td>8.5</td>\n",
       "      <td>0.058</td>\n",
       "      <td>47.0</td>\n",
       "      <td>186.0</td>\n",
       "      <td>0.9956</td>\n",
       "      <td>3.19</td>\n",
       "      <td>0.40</td>\n",
       "      <td>9.9</td>\n",
       "      <td>6</td>\n",
       "    </tr>\n",
       "    <tr>\n",
       "      <th>4</th>\n",
       "      <td>7.2</td>\n",
       "      <td>0.23</td>\n",
       "      <td>0.32</td>\n",
       "      <td>8.5</td>\n",
       "      <td>0.058</td>\n",
       "      <td>47.0</td>\n",
       "      <td>186.0</td>\n",
       "      <td>0.9956</td>\n",
       "      <td>3.19</td>\n",
       "      <td>0.40</td>\n",
       "      <td>9.9</td>\n",
       "      <td>6</td>\n",
       "    </tr>\n",
       "  </tbody>\n",
       "</table>\n",
       "</div>"
      ],
      "text/plain": [
       "   fixed acidity  volatile acidity  citric acid  residual sugar  chlorides  \\\n",
       "0            7.0              0.27         0.36            20.7      0.045   \n",
       "1            6.3              0.30         0.34             1.6      0.049   \n",
       "2            8.1              0.28         0.40             6.9      0.050   \n",
       "3            7.2              0.23         0.32             8.5      0.058   \n",
       "4            7.2              0.23         0.32             8.5      0.058   \n",
       "\n",
       "   free sulfur dioxide  total sulfur dioxide  density    pH  sulphates  \\\n",
       "0                 45.0                 170.0   1.0010  3.00       0.45   \n",
       "1                 14.0                 132.0   0.9940  3.30       0.49   \n",
       "2                 30.0                  97.0   0.9951  3.26       0.44   \n",
       "3                 47.0                 186.0   0.9956  3.19       0.40   \n",
       "4                 47.0                 186.0   0.9956  3.19       0.40   \n",
       "\n",
       "   alcohol  quality  \n",
       "0      8.8        6  \n",
       "1      9.5        6  \n",
       "2     10.1        6  \n",
       "3      9.9        6  \n",
       "4      9.9        6  "
      ]
     },
     "execution_count": 57,
     "metadata": {},
     "output_type": "execute_result"
    }
   ],
   "source": [
    "# Cargar vinos\n",
    "wine_quality_white = pd.read_csv('files/winequality-white.csv', delimiter=';')\n",
    "wine_quality_white.head()"
   ]
  },
  {
   "cell_type": "markdown",
   "metadata": {},
   "source": [
    "## Extraer información del DataFrame"
   ]
  },
  {
   "cell_type": "markdown",
   "metadata": {},
   "source": [
    "#### Índices de Fila y Columna"
   ]
  },
  {
   "cell_type": "markdown",
   "metadata": {},
   "source": [
    "Como hemos visto, se pueden extraer columnas individuales de un `DataFrame` como una `Serie` utilizando la indexación habitual de estilo `__getitem__` utilizando el nombre de la columna.  \n",
    "\n",
    "Esto es similar a cómo indexamos un diccionario."
   ]
  },
  {
   "cell_type": "code",
   "execution_count": 58,
   "metadata": {},
   "outputs": [
    {
     "data": {
      "text/plain": [
       "0     85\n",
       "1     80\n",
       "2     83\n",
       "3     70\n",
       "4     68\n",
       "5     65\n",
       "6     64\n",
       "7     72\n",
       "8     69\n",
       "9     75\n",
       "10    75\n",
       "11    72\n",
       "12    81\n",
       "13    71\n",
       "Name: Temperature, dtype: int64"
      ]
     },
     "execution_count": 58,
     "metadata": {},
     "output_type": "execute_result"
    }
   ],
   "source": [
    "golf_df['Temperature']"
   ]
  },
  {
   "cell_type": "markdown",
   "metadata": {},
   "source": [
    "Para extraer valores individuales"
   ]
  },
  {
   "cell_type": "code",
   "execution_count": 59,
   "metadata": {},
   "outputs": [
    {
     "data": {
      "text/plain": [
       "85"
      ]
     },
     "execution_count": 59,
     "metadata": {},
     "output_type": "execute_result"
    }
   ],
   "source": [
    "golf_df['Temperature'][0]"
   ]
  },
  {
   "cell_type": "markdown",
   "metadata": {},
   "source": [
    "Para extraer múltiples columnas"
   ]
  },
  {
   "cell_type": "code",
   "execution_count": 60,
   "metadata": {},
   "outputs": [
    {
     "data": {
      "text/html": [
       "<div>\n",
       "<style scoped>\n",
       "    .dataframe tbody tr th:only-of-type {\n",
       "        vertical-align: middle;\n",
       "    }\n",
       "\n",
       "    .dataframe tbody tr th {\n",
       "        vertical-align: top;\n",
       "    }\n",
       "\n",
       "    .dataframe thead th {\n",
       "        text-align: right;\n",
       "    }\n",
       "</style>\n",
       "<table border=\"1\" class=\"dataframe\">\n",
       "  <thead>\n",
       "    <tr style=\"text-align: right;\">\n",
       "      <th></th>\n",
       "      <th>Temperature</th>\n",
       "      <th>Humidity</th>\n",
       "    </tr>\n",
       "  </thead>\n",
       "  <tbody>\n",
       "    <tr>\n",
       "      <th>0</th>\n",
       "      <td>85</td>\n",
       "      <td>85</td>\n",
       "    </tr>\n",
       "    <tr>\n",
       "      <th>1</th>\n",
       "      <td>80</td>\n",
       "      <td>90</td>\n",
       "    </tr>\n",
       "    <tr>\n",
       "      <th>2</th>\n",
       "      <td>83</td>\n",
       "      <td>78</td>\n",
       "    </tr>\n",
       "    <tr>\n",
       "      <th>3</th>\n",
       "      <td>70</td>\n",
       "      <td>96</td>\n",
       "    </tr>\n",
       "    <tr>\n",
       "      <th>4</th>\n",
       "      <td>68</td>\n",
       "      <td>80</td>\n",
       "    </tr>\n",
       "    <tr>\n",
       "      <th>5</th>\n",
       "      <td>65</td>\n",
       "      <td>70</td>\n",
       "    </tr>\n",
       "    <tr>\n",
       "      <th>6</th>\n",
       "      <td>64</td>\n",
       "      <td>65</td>\n",
       "    </tr>\n",
       "    <tr>\n",
       "      <th>7</th>\n",
       "      <td>72</td>\n",
       "      <td>95</td>\n",
       "    </tr>\n",
       "    <tr>\n",
       "      <th>8</th>\n",
       "      <td>69</td>\n",
       "      <td>70</td>\n",
       "    </tr>\n",
       "    <tr>\n",
       "      <th>9</th>\n",
       "      <td>75</td>\n",
       "      <td>80</td>\n",
       "    </tr>\n",
       "    <tr>\n",
       "      <th>10</th>\n",
       "      <td>75</td>\n",
       "      <td>70</td>\n",
       "    </tr>\n",
       "    <tr>\n",
       "      <th>11</th>\n",
       "      <td>72</td>\n",
       "      <td>90</td>\n",
       "    </tr>\n",
       "    <tr>\n",
       "      <th>12</th>\n",
       "      <td>81</td>\n",
       "      <td>75</td>\n",
       "    </tr>\n",
       "    <tr>\n",
       "      <th>13</th>\n",
       "      <td>71</td>\n",
       "      <td>80</td>\n",
       "    </tr>\n",
       "  </tbody>\n",
       "</table>\n",
       "</div>"
      ],
      "text/plain": [
       "    Temperature  Humidity\n",
       "0            85        85\n",
       "1            80        90\n",
       "2            83        78\n",
       "3            70        96\n",
       "4            68        80\n",
       "5            65        70\n",
       "6            64        65\n",
       "7            72        95\n",
       "8            69        70\n",
       "9            75        80\n",
       "10           75        70\n",
       "11           72        90\n",
       "12           81        75\n",
       "13           71        80"
      ]
     },
     "execution_count": 60,
     "metadata": {},
     "output_type": "execute_result"
    }
   ],
   "source": [
    "golf_df[['Temperature', 'Humidity']]"
   ]
  },
  {
   "cell_type": "markdown",
   "metadata": {},
   "source": [
    "Para extraer un número limitado de filas"
   ]
  },
  {
   "cell_type": "code",
   "execution_count": 61,
   "metadata": {},
   "outputs": [
    {
     "data": {
      "text/html": [
       "<div>\n",
       "<style scoped>\n",
       "    .dataframe tbody tr th:only-of-type {\n",
       "        vertical-align: middle;\n",
       "    }\n",
       "\n",
       "    .dataframe tbody tr th {\n",
       "        vertical-align: top;\n",
       "    }\n",
       "\n",
       "    .dataframe thead th {\n",
       "        text-align: right;\n",
       "    }\n",
       "</style>\n",
       "<table border=\"1\" class=\"dataframe\">\n",
       "  <thead>\n",
       "    <tr style=\"text-align: right;\">\n",
       "      <th></th>\n",
       "      <th>Date</th>\n",
       "      <th>Outlook</th>\n",
       "      <th>Temperature</th>\n",
       "      <th>Humidity</th>\n",
       "      <th>Windy</th>\n",
       "      <th>Result</th>\n",
       "    </tr>\n",
       "  </thead>\n",
       "  <tbody>\n",
       "    <tr>\n",
       "      <th>0</th>\n",
       "      <td>7/1/14</td>\n",
       "      <td>sunny</td>\n",
       "      <td>85</td>\n",
       "      <td>85</td>\n",
       "      <td>False</td>\n",
       "      <td>Don't Play</td>\n",
       "    </tr>\n",
       "    <tr>\n",
       "      <th>1</th>\n",
       "      <td>7/2/14</td>\n",
       "      <td>sunny</td>\n",
       "      <td>80</td>\n",
       "      <td>90</td>\n",
       "      <td>True</td>\n",
       "      <td>Don't Play</td>\n",
       "    </tr>\n",
       "    <tr>\n",
       "      <th>2</th>\n",
       "      <td>7/3/14</td>\n",
       "      <td>overcast</td>\n",
       "      <td>83</td>\n",
       "      <td>78</td>\n",
       "      <td>False</td>\n",
       "      <td>Play</td>\n",
       "    </tr>\n",
       "    <tr>\n",
       "      <th>3</th>\n",
       "      <td>7/4/14</td>\n",
       "      <td>rain</td>\n",
       "      <td>70</td>\n",
       "      <td>96</td>\n",
       "      <td>False</td>\n",
       "      <td>Play</td>\n",
       "    </tr>\n",
       "    <tr>\n",
       "      <th>4</th>\n",
       "      <td>7/5/14</td>\n",
       "      <td>rain</td>\n",
       "      <td>68</td>\n",
       "      <td>80</td>\n",
       "      <td>False</td>\n",
       "      <td>Play</td>\n",
       "    </tr>\n",
       "  </tbody>\n",
       "</table>\n",
       "</div>"
      ],
      "text/plain": [
       "     Date   Outlook  Temperature  Humidity  Windy      Result\n",
       "0  7/1/14     sunny           85        85  False  Don't Play\n",
       "1  7/2/14     sunny           80        90   True  Don't Play\n",
       "2  7/3/14  overcast           83        78  False        Play\n",
       "3  7/4/14      rain           70        96  False        Play\n",
       "4  7/5/14      rain           68        80  False        Play"
      ]
     },
     "execution_count": 61,
     "metadata": {},
     "output_type": "execute_result"
    }
   ],
   "source": [
    "short_df = golf_df[0:5]\n",
    "short_df"
   ]
  },
  {
   "cell_type": "markdown",
   "metadata": {},
   "source": [
    "### 20.- Extraer las columnas Facility Id, Year, Discharges, and Mean Charge de hospital_costs\n",
    "\n",
    "```python\n",
    "        Facility Id  Year  Discharges  Mean Charge\n",
    "0               324  2011           3     361289.0\n",
    "1               324  2011           1     102190.0\n",
    "2               324  2011           6      14172.0\n",
    "3               324  2011           1       8833.0\n",
    "4               324  2011           1       5264.0\n",
    "...             ...   ...         ...          ...\n",
    "383488         1153  2009           5      13572.0\n",
    "383489         1153  2009           4       8323.0\n",
    "383490         1153  2009           5       7746.0\n",
    "383491         1153  2009           1       7892.0\n",
    "383492         1153  2009           3       1069.0\n",
    "```"
   ]
  },
  {
   "cell_type": "code",
   "execution_count": 62,
   "metadata": {},
   "outputs": [
    {
     "data": {
      "text/html": [
       "<div>\n",
       "<style scoped>\n",
       "    .dataframe tbody tr th:only-of-type {\n",
       "        vertical-align: middle;\n",
       "    }\n",
       "\n",
       "    .dataframe tbody tr th {\n",
       "        vertical-align: top;\n",
       "    }\n",
       "\n",
       "    .dataframe thead th {\n",
       "        text-align: right;\n",
       "    }\n",
       "</style>\n",
       "<table border=\"1\" class=\"dataframe\">\n",
       "  <thead>\n",
       "    <tr style=\"text-align: right;\">\n",
       "      <th></th>\n",
       "      <th>Facility Id</th>\n",
       "      <th>Year</th>\n",
       "      <th>Discharges</th>\n",
       "      <th>Mean Charge</th>\n",
       "    </tr>\n",
       "  </thead>\n",
       "  <tbody>\n",
       "    <tr>\n",
       "      <th>0</th>\n",
       "      <td>324</td>\n",
       "      <td>2011</td>\n",
       "      <td>3</td>\n",
       "      <td>361289.0</td>\n",
       "    </tr>\n",
       "    <tr>\n",
       "      <th>1</th>\n",
       "      <td>324</td>\n",
       "      <td>2011</td>\n",
       "      <td>1</td>\n",
       "      <td>102190.0</td>\n",
       "    </tr>\n",
       "    <tr>\n",
       "      <th>2</th>\n",
       "      <td>324</td>\n",
       "      <td>2011</td>\n",
       "      <td>6</td>\n",
       "      <td>14172.0</td>\n",
       "    </tr>\n",
       "    <tr>\n",
       "      <th>3</th>\n",
       "      <td>324</td>\n",
       "      <td>2011</td>\n",
       "      <td>1</td>\n",
       "      <td>8833.0</td>\n",
       "    </tr>\n",
       "    <tr>\n",
       "      <th>4</th>\n",
       "      <td>324</td>\n",
       "      <td>2011</td>\n",
       "      <td>1</td>\n",
       "      <td>5264.0</td>\n",
       "    </tr>\n",
       "    <tr>\n",
       "      <th>...</th>\n",
       "      <td>...</td>\n",
       "      <td>...</td>\n",
       "      <td>...</td>\n",
       "      <td>...</td>\n",
       "    </tr>\n",
       "    <tr>\n",
       "      <th>383488</th>\n",
       "      <td>1153</td>\n",
       "      <td>2009</td>\n",
       "      <td>5</td>\n",
       "      <td>13572.0</td>\n",
       "    </tr>\n",
       "    <tr>\n",
       "      <th>383489</th>\n",
       "      <td>1153</td>\n",
       "      <td>2009</td>\n",
       "      <td>4</td>\n",
       "      <td>8323.0</td>\n",
       "    </tr>\n",
       "    <tr>\n",
       "      <th>383490</th>\n",
       "      <td>1153</td>\n",
       "      <td>2009</td>\n",
       "      <td>5</td>\n",
       "      <td>7746.0</td>\n",
       "    </tr>\n",
       "    <tr>\n",
       "      <th>383491</th>\n",
       "      <td>1153</td>\n",
       "      <td>2009</td>\n",
       "      <td>1</td>\n",
       "      <td>7892.0</td>\n",
       "    </tr>\n",
       "    <tr>\n",
       "      <th>383492</th>\n",
       "      <td>1153</td>\n",
       "      <td>2009</td>\n",
       "      <td>3</td>\n",
       "      <td>1069.0</td>\n",
       "    </tr>\n",
       "  </tbody>\n",
       "</table>\n",
       "<p>383493 rows × 4 columns</p>\n",
       "</div>"
      ],
      "text/plain": [
       "        Facility Id  Year  Discharges  Mean Charge\n",
       "0               324  2011           3     361289.0\n",
       "1               324  2011           1     102190.0\n",
       "2               324  2011           6      14172.0\n",
       "3               324  2011           1       8833.0\n",
       "4               324  2011           1       5264.0\n",
       "...             ...   ...         ...          ...\n",
       "383488         1153  2009           5      13572.0\n",
       "383489         1153  2009           4       8323.0\n",
       "383490         1153  2009           5       7746.0\n",
       "383491         1153  2009           1       7892.0\n",
       "383492         1153  2009           3       1069.0\n",
       "\n",
       "[383493 rows x 4 columns]"
      ]
     },
     "execution_count": 62,
     "metadata": {},
     "output_type": "execute_result"
    }
   ],
   "source": [
    "# Extraer columnas\n",
    "hospital_costs[['Facility Id','Year','Discharges','Mean Charge']]"
   ]
  },
  {
   "cell_type": "markdown",
   "metadata": {},
   "source": [
    "## Índie Booleano / Logico"
   ]
  },
  {
   "cell_type": "markdown",
   "metadata": {},
   "source": [
    "También podemos indexar un `DataFrame` utilizando una lista de **booleanos** (es decir, valores `True` y `False`). Esto también operará sobre las filas."
   ]
  },
  {
   "cell_type": "code",
   "execution_count": 63,
   "metadata": {},
   "outputs": [
    {
     "data": {
      "text/html": [
       "<div>\n",
       "<style scoped>\n",
       "    .dataframe tbody tr th:only-of-type {\n",
       "        vertical-align: middle;\n",
       "    }\n",
       "\n",
       "    .dataframe tbody tr th {\n",
       "        vertical-align: top;\n",
       "    }\n",
       "\n",
       "    .dataframe thead th {\n",
       "        text-align: right;\n",
       "    }\n",
       "</style>\n",
       "<table border=\"1\" class=\"dataframe\">\n",
       "  <thead>\n",
       "    <tr style=\"text-align: right;\">\n",
       "      <th></th>\n",
       "      <th>Date</th>\n",
       "      <th>Outlook</th>\n",
       "      <th>Temperature</th>\n",
       "      <th>Humidity</th>\n",
       "      <th>Windy</th>\n",
       "      <th>Result</th>\n",
       "    </tr>\n",
       "  </thead>\n",
       "  <tbody>\n",
       "    <tr>\n",
       "      <th>0</th>\n",
       "      <td>7/1/14</td>\n",
       "      <td>sunny</td>\n",
       "      <td>85</td>\n",
       "      <td>85</td>\n",
       "      <td>False</td>\n",
       "      <td>Don't Play</td>\n",
       "    </tr>\n",
       "    <tr>\n",
       "      <th>2</th>\n",
       "      <td>7/3/14</td>\n",
       "      <td>overcast</td>\n",
       "      <td>83</td>\n",
       "      <td>78</td>\n",
       "      <td>False</td>\n",
       "      <td>Play</td>\n",
       "    </tr>\n",
       "    <tr>\n",
       "      <th>4</th>\n",
       "      <td>7/5/14</td>\n",
       "      <td>rain</td>\n",
       "      <td>68</td>\n",
       "      <td>80</td>\n",
       "      <td>False</td>\n",
       "      <td>Play</td>\n",
       "    </tr>\n",
       "  </tbody>\n",
       "</table>\n",
       "</div>"
      ],
      "text/plain": [
       "     Date   Outlook  Temperature  Humidity  Windy      Result\n",
       "0  7/1/14     sunny           85        85  False  Don't Play\n",
       "2  7/3/14  overcast           83        78  False        Play\n",
       "4  7/5/14      rain           68        80  False        Play"
      ]
     },
     "execution_count": 63,
     "metadata": {},
     "output_type": "execute_result"
    }
   ],
   "source": [
    "# Filas 0, 2, y 4.\n",
    "short_df[[True, False, True, False, True]]"
   ]
  },
  {
   "cell_type": "markdown",
   "metadata": {},
   "source": [
    "Es de utilidad para crear `Series` booleanas a partir de una comparación"
   ]
  },
  {
   "cell_type": "code",
   "execution_count": 64,
   "metadata": {},
   "outputs": [
    {
     "data": {
      "text/plain": [
       "0      True\n",
       "1      True\n",
       "2      True\n",
       "3     False\n",
       "4     False\n",
       "5     False\n",
       "6     False\n",
       "7      True\n",
       "8     False\n",
       "9      True\n",
       "10     True\n",
       "11     True\n",
       "12     True\n",
       "13     True\n",
       "Name: Temperature, dtype: bool"
      ]
     },
     "execution_count": 64,
     "metadata": {},
     "output_type": "execute_result"
    }
   ],
   "source": [
    "# A series of booleans.\n",
    "golf_df['Temperature'] > 70"
   ]
  },
  {
   "cell_type": "markdown",
   "metadata": {},
   "source": [
    "Y después elegir las columnas del DataFrame"
   ]
  },
  {
   "cell_type": "code",
   "execution_count": 65,
   "metadata": {},
   "outputs": [
    {
     "data": {
      "text/html": [
       "<div>\n",
       "<style scoped>\n",
       "    .dataframe tbody tr th:only-of-type {\n",
       "        vertical-align: middle;\n",
       "    }\n",
       "\n",
       "    .dataframe tbody tr th {\n",
       "        vertical-align: top;\n",
       "    }\n",
       "\n",
       "    .dataframe thead th {\n",
       "        text-align: right;\n",
       "    }\n",
       "</style>\n",
       "<table border=\"1\" class=\"dataframe\">\n",
       "  <thead>\n",
       "    <tr style=\"text-align: right;\">\n",
       "      <th></th>\n",
       "      <th>Date</th>\n",
       "      <th>Windy</th>\n",
       "    </tr>\n",
       "  </thead>\n",
       "  <tbody>\n",
       "    <tr>\n",
       "      <th>0</th>\n",
       "      <td>7/1/14</td>\n",
       "      <td>False</td>\n",
       "    </tr>\n",
       "    <tr>\n",
       "      <th>1</th>\n",
       "      <td>7/2/14</td>\n",
       "      <td>True</td>\n",
       "    </tr>\n",
       "    <tr>\n",
       "      <th>2</th>\n",
       "      <td>7/3/14</td>\n",
       "      <td>False</td>\n",
       "    </tr>\n",
       "    <tr>\n",
       "      <th>7</th>\n",
       "      <td>7/8/14</td>\n",
       "      <td>False</td>\n",
       "    </tr>\n",
       "    <tr>\n",
       "      <th>9</th>\n",
       "      <td>7/10/14</td>\n",
       "      <td>False</td>\n",
       "    </tr>\n",
       "    <tr>\n",
       "      <th>10</th>\n",
       "      <td>7/11/14</td>\n",
       "      <td>True</td>\n",
       "    </tr>\n",
       "    <tr>\n",
       "      <th>11</th>\n",
       "      <td>7/12/14</td>\n",
       "      <td>True</td>\n",
       "    </tr>\n",
       "    <tr>\n",
       "      <th>12</th>\n",
       "      <td>7/13/14</td>\n",
       "      <td>False</td>\n",
       "    </tr>\n",
       "    <tr>\n",
       "      <th>13</th>\n",
       "      <td>7/14/14</td>\n",
       "      <td>True</td>\n",
       "    </tr>\n",
       "  </tbody>\n",
       "</table>\n",
       "</div>"
      ],
      "text/plain": [
       "       Date  Windy\n",
       "0    7/1/14  False\n",
       "1    7/2/14   True\n",
       "2    7/3/14  False\n",
       "7    7/8/14  False\n",
       "9   7/10/14  False\n",
       "10  7/11/14   True\n",
       "11  7/12/14   True\n",
       "12  7/13/14  False\n",
       "13  7/14/14   True"
      ]
     },
     "execution_count": 65,
     "metadata": {},
     "output_type": "execute_result"
    }
   ],
   "source": [
    "golf_df[golf_df['Temperature'] > 70][[\"Date\", \"Windy\"]]"
   ]
  },
  {
   "cell_type": "markdown",
   "metadata": {},
   "source": [
    "Esto es esencialmente aplicar una condición lógica para seleccionar filas de un `DataFrame`.  Este es uno de los patrones más comunes en Pandas."
   ]
  },
  {
   "cell_type": "markdown",
   "metadata": {},
   "source": [
    "Para repasar: si indexas un `DataFrame` con un **valor único** o una **lista de valores**, selecciona las **columnas**.\n",
    "\n",
    "Si utilizas un **corte** o una **secuencia de booleanos**, selecciona las **filas**. "
   ]
  },
  {
   "cell_type": "markdown",
   "metadata": {},
   "source": [
    "### 21.- Seleccionar los días en que la humedad es mayor a 90 en 'golf_df'.\n",
    "\n",
    "```python\n",
    "     Date Outlook  Temperature  Humidity  Windy      Result\n",
    "3  7/4/14    rain           70        96  False        Play\n",
    "7  7/8/14   sunny           72        95  False  Don't Play\n",
    "```"
   ]
  },
  {
   "cell_type": "code",
   "execution_count": 66,
   "metadata": {},
   "outputs": [
    {
     "data": {
      "text/html": [
       "<div>\n",
       "<style scoped>\n",
       "    .dataframe tbody tr th:only-of-type {\n",
       "        vertical-align: middle;\n",
       "    }\n",
       "\n",
       "    .dataframe tbody tr th {\n",
       "        vertical-align: top;\n",
       "    }\n",
       "\n",
       "    .dataframe thead th {\n",
       "        text-align: right;\n",
       "    }\n",
       "</style>\n",
       "<table border=\"1\" class=\"dataframe\">\n",
       "  <thead>\n",
       "    <tr style=\"text-align: right;\">\n",
       "      <th></th>\n",
       "      <th>Date</th>\n",
       "      <th>Outlook</th>\n",
       "      <th>Temperature</th>\n",
       "      <th>Humidity</th>\n",
       "      <th>Windy</th>\n",
       "      <th>Result</th>\n",
       "    </tr>\n",
       "  </thead>\n",
       "  <tbody>\n",
       "    <tr>\n",
       "      <th>3</th>\n",
       "      <td>7/4/14</td>\n",
       "      <td>rain</td>\n",
       "      <td>70</td>\n",
       "      <td>96</td>\n",
       "      <td>False</td>\n",
       "      <td>Play</td>\n",
       "    </tr>\n",
       "    <tr>\n",
       "      <th>7</th>\n",
       "      <td>7/8/14</td>\n",
       "      <td>sunny</td>\n",
       "      <td>72</td>\n",
       "      <td>95</td>\n",
       "      <td>False</td>\n",
       "      <td>Don't Play</td>\n",
       "    </tr>\n",
       "  </tbody>\n",
       "</table>\n",
       "</div>"
      ],
      "text/plain": [
       "     Date Outlook  Temperature  Humidity  Windy      Result\n",
       "3  7/4/14    rain           70        96  False        Play\n",
       "7  7/8/14   sunny           72        95  False  Don't Play"
      ]
     },
     "execution_count": 66,
     "metadata": {},
     "output_type": "execute_result"
    }
   ],
   "source": [
    "# Condicion boleana\n",
    "alta_humedad = golf_df[golf_df['Humidity'] > 90]\n",
    "alta_humedad"
   ]
  },
  {
   "cell_type": "markdown",
   "metadata": {},
   "source": [
    "## Operadores lógicos"
   ]
  },
  {
   "cell_type": "code",
   "execution_count": 67,
   "metadata": {},
   "outputs": [
    {
     "data": {
      "text/plain": [
       "0     False\n",
       "1     False\n",
       "2     False\n",
       "3      True\n",
       "4     False\n",
       "5     False\n",
       "6     False\n",
       "7      True\n",
       "8     False\n",
       "9     False\n",
       "10    False\n",
       "11    False\n",
       "12    False\n",
       "13    False\n",
       "dtype: bool"
      ]
     },
     "execution_count": 67,
     "metadata": {},
     "output_type": "execute_result"
    }
   ],
   "source": [
    "(golf_df['Humidity']>90) | (golf_df['Outlook']==\"Sunny\") # '|' es 'OR'"
   ]
  },
  {
   "cell_type": "code",
   "execution_count": 68,
   "metadata": {},
   "outputs": [
    {
     "data": {
      "text/plain": [
       "0     False\n",
       "1      True\n",
       "2     False\n",
       "3     False\n",
       "4     False\n",
       "5      True\n",
       "6     False\n",
       "7     False\n",
       "8     False\n",
       "9     False\n",
       "10    False\n",
       "11    False\n",
       "12    False\n",
       "13     True\n",
       "dtype: bool"
      ]
     },
     "execution_count": 68,
     "metadata": {},
     "output_type": "execute_result"
    }
   ],
   "source": [
    "(golf_df['Result']==\"Don't Play\") & golf_df['Windy'] # '&' es 'AND'"
   ]
  },
  {
   "cell_type": "markdown",
   "metadata": {},
   "source": [
    "### 22.- Seleccionar los días lluviosos con una temperatura menor a 70 grados en 'play_golf'"
   ]
  },
  {
   "cell_type": "code",
   "execution_count": 69,
   "metadata": {},
   "outputs": [
    {
     "data": {
      "text/html": [
       "<div>\n",
       "<style scoped>\n",
       "    .dataframe tbody tr th:only-of-type {\n",
       "        vertical-align: middle;\n",
       "    }\n",
       "\n",
       "    .dataframe tbody tr th {\n",
       "        vertical-align: top;\n",
       "    }\n",
       "\n",
       "    .dataframe thead th {\n",
       "        text-align: right;\n",
       "    }\n",
       "</style>\n",
       "<table border=\"1\" class=\"dataframe\">\n",
       "  <thead>\n",
       "    <tr style=\"text-align: right;\">\n",
       "      <th></th>\n",
       "      <th>Date</th>\n",
       "      <th>Outlook</th>\n",
       "      <th>Temperature</th>\n",
       "      <th>Humidity</th>\n",
       "      <th>Windy</th>\n",
       "      <th>Result</th>\n",
       "    </tr>\n",
       "  </thead>\n",
       "  <tbody>\n",
       "    <tr>\n",
       "      <th>4</th>\n",
       "      <td>7/5/14</td>\n",
       "      <td>rain</td>\n",
       "      <td>68</td>\n",
       "      <td>80</td>\n",
       "      <td>False</td>\n",
       "      <td>Play</td>\n",
       "    </tr>\n",
       "    <tr>\n",
       "      <th>5</th>\n",
       "      <td>7/6/14</td>\n",
       "      <td>rain</td>\n",
       "      <td>65</td>\n",
       "      <td>70</td>\n",
       "      <td>True</td>\n",
       "      <td>Don't Play</td>\n",
       "    </tr>\n",
       "  </tbody>\n",
       "</table>\n",
       "</div>"
      ],
      "text/plain": [
       "     Date Outlook  Temperature  Humidity  Windy      Result\n",
       "4  7/5/14    rain           68        80  False        Play\n",
       "5  7/6/14    rain           65        70   True  Don't Play"
      ]
     },
     "execution_count": 69,
     "metadata": {},
     "output_type": "execute_result"
    }
   ],
   "source": [
    "# Condiciones boleana\n",
    "lluvia_70 = golf_df[(golf_df['Temperature'] < 70)&(golf_df['Outlook'] == \"rain\")]\n",
    "lluvia_70"
   ]
  },
  {
   "cell_type": "markdown",
   "metadata": {},
   "source": [
    "### 23.- Seleccionar la fecha y el resultado de los días lluviosos en que la humedad es mayor a 90 en 'play_golf'\n",
    "\n",
    "```python\n",
    "     Date Result\n",
    "3  7/4/14   Play\n",
    "```"
   ]
  },
  {
   "cell_type": "code",
   "execution_count": 70,
   "metadata": {},
   "outputs": [
    {
     "data": {
      "text/html": [
       "<div>\n",
       "<style scoped>\n",
       "    .dataframe tbody tr th:only-of-type {\n",
       "        vertical-align: middle;\n",
       "    }\n",
       "\n",
       "    .dataframe tbody tr th {\n",
       "        vertical-align: top;\n",
       "    }\n",
       "\n",
       "    .dataframe thead th {\n",
       "        text-align: right;\n",
       "    }\n",
       "</style>\n",
       "<table border=\"1\" class=\"dataframe\">\n",
       "  <thead>\n",
       "    <tr style=\"text-align: right;\">\n",
       "      <th></th>\n",
       "      <th>Date</th>\n",
       "      <th>Result</th>\n",
       "    </tr>\n",
       "  </thead>\n",
       "  <tbody>\n",
       "    <tr>\n",
       "      <th>3</th>\n",
       "      <td>7/4/14</td>\n",
       "      <td>Play</td>\n",
       "    </tr>\n",
       "  </tbody>\n",
       "</table>\n",
       "</div>"
      ],
      "text/plain": [
       "     Date Result\n",
       "3  7/4/14   Play"
      ]
     },
     "execution_count": 70,
     "metadata": {},
     "output_type": "execute_result"
    }
   ],
   "source": [
    "# Condicion boleana, seleccionar columnas\n",
    "alta_humedad = golf_df[(golf_df['Humidity'] > 90)&(golf_df['Outlook'] == \"rain\")][['Date','Result']]\n",
    "alta_humedad"
   ]
  },
  {
   "cell_type": "markdown",
   "metadata": {},
   "source": [
    "## Doble índice"
   ]
  },
  {
   "cell_type": "markdown",
   "metadata": {},
   "source": [
    "Supongamos que queremos establecer el valor de la columna `Windy` donde `Temperature > 70` como True."
   ]
  },
  {
   "cell_type": "code",
   "execution_count": 71,
   "metadata": {},
   "outputs": [
    {
     "name": "stderr",
     "output_type": "stream",
     "text": [
      "C:\\Users\\vecamo15\\.conda\\envs\\data_translation\\lib\\site-packages\\ipykernel_launcher.py:1: SettingWithCopyWarning: \n",
      "A value is trying to be set on a copy of a slice from a DataFrame.\n",
      "Try using .loc[row_indexer,col_indexer] = value instead\n",
      "\n",
      "See the caveats in the documentation: https://pandas.pydata.org/pandas-docs/stable/user_guide/indexing.html#returning-a-view-versus-a-copy\n",
      "  \"\"\"Entry point for launching an IPython kernel.\n"
     ]
    }
   ],
   "source": [
    "golf_df[golf_df['Temperature'] > 70][\"Windy\"] = True"
   ]
  },
  {
   "cell_type": "markdown",
   "metadata": {},
   "source": [
    "Vaya, un error"
   ]
  },
  {
   "cell_type": "code",
   "execution_count": 72,
   "metadata": {},
   "outputs": [
    {
     "data": {
      "text/plain": [
       "0     False\n",
       "1      True\n",
       "2     False\n",
       "7     False\n",
       "9     False\n",
       "10     True\n",
       "11     True\n",
       "12    False\n",
       "13     True\n",
       "Name: Windy, dtype: bool"
      ]
     },
     "execution_count": 72,
     "metadata": {},
     "output_type": "execute_result"
    }
   ],
   "source": [
    "golf_df[golf_df['Temperature'] > 70][\"Windy\"]"
   ]
  },
  {
   "cell_type": "markdown",
   "metadata": {},
   "source": [
    "Al parecer, aún es Falso"
   ]
  },
  {
   "cell_type": "markdown",
   "metadata": {},
   "source": [
    "Este patrón se llama doble indexación, ¡y es un antipatrón!  ¡Pandas no puede garantizar que las asignaciones se mantengan cuando se indexa dos veces!\n",
    "\n",
    "Para solucionar estos problemas, tenemos que estudiar las otras opciones de indexación que proporciona Pandas."
   ]
  },
  {
   "cell_type": "markdown",
   "metadata": {},
   "source": [
    "#### .loc e .iloc"
   ]
  },
  {
   "cell_type": "markdown",
   "metadata": {},
   "source": [
    "Hay algunos otros objetos de indexación en pandas, los cuales toman un valor para elegir las filas y un valor para elegir las columnas.\n",
    "\n",
    "  - `df.iloc` está **basado en la posición**.  Este indexador acepta enteros y trozos de enteros, y esencialmente trata el marco de datos como si fuera una simple matriz.\n",
    "  - `df.loc` está **basado en etiquetas**.  Este indexador trabaja con índices/etiquetas de filas y columnas."
   ]
  },
  {
   "cell_type": "code",
   "execution_count": 73,
   "metadata": {},
   "outputs": [
    {
     "data": {
      "text/html": [
       "<div>\n",
       "<style scoped>\n",
       "    .dataframe tbody tr th:only-of-type {\n",
       "        vertical-align: middle;\n",
       "    }\n",
       "\n",
       "    .dataframe tbody tr th {\n",
       "        vertical-align: top;\n",
       "    }\n",
       "\n",
       "    .dataframe thead th {\n",
       "        text-align: right;\n",
       "    }\n",
       "</style>\n",
       "<table border=\"1\" class=\"dataframe\">\n",
       "  <thead>\n",
       "    <tr style=\"text-align: right;\">\n",
       "      <th></th>\n",
       "      <th>some_integers</th>\n",
       "      <th>some_strings</th>\n",
       "      <th>some_booleans</th>\n",
       "    </tr>\n",
       "  </thead>\n",
       "  <tbody>\n",
       "    <tr>\n",
       "      <th>a</th>\n",
       "      <td>0</td>\n",
       "      <td>x</td>\n",
       "      <td>0</td>\n",
       "    </tr>\n",
       "    <tr>\n",
       "      <th>b</th>\n",
       "      <td>0</td>\n",
       "      <td>y</td>\n",
       "      <td>0</td>\n",
       "    </tr>\n",
       "    <tr>\n",
       "      <th>c</th>\n",
       "      <td>1</td>\n",
       "      <td>z</td>\n",
       "      <td>1</td>\n",
       "    </tr>\n",
       "    <tr>\n",
       "      <th>d</th>\n",
       "      <td>1</td>\n",
       "      <td>x</td>\n",
       "      <td>0</td>\n",
       "    </tr>\n",
       "    <tr>\n",
       "      <th>e</th>\n",
       "      <td>2</td>\n",
       "      <td>y</td>\n",
       "      <td>1</td>\n",
       "    </tr>\n",
       "    <tr>\n",
       "      <th>f</th>\n",
       "      <td>2</td>\n",
       "      <td>z</td>\n",
       "      <td>1</td>\n",
       "    </tr>\n",
       "  </tbody>\n",
       "</table>\n",
       "</div>"
      ],
      "text/plain": [
       "   some_integers some_strings  some_booleans\n",
       "a              0            x              0\n",
       "b              0            y              0\n",
       "c              1            z              1\n",
       "d              1            x              0\n",
       "e              2            y              1\n",
       "f              2            z              1"
      ]
     },
     "execution_count": 73,
     "metadata": {},
     "output_type": "execute_result"
    }
   ],
   "source": [
    "df = pd.DataFrame({\n",
    "    'some_integers': [0, 0, 1, 1, 2, 2],\n",
    "    'some_strings': ['x', 'y', 'z', 'x', 'y', 'z'],\n",
    "    'some_booleans': [0, 0, 1, 0, 1, 1]},\n",
    "    index=['a', 'b', 'c', 'd', 'e', 'f']\n",
    ")\n",
    "df"
   ]
  },
  {
   "cell_type": "code",
   "execution_count": 74,
   "metadata": {},
   "outputs": [
    {
     "data": {
      "text/html": [
       "<div>\n",
       "<style scoped>\n",
       "    .dataframe tbody tr th:only-of-type {\n",
       "        vertical-align: middle;\n",
       "    }\n",
       "\n",
       "    .dataframe tbody tr th {\n",
       "        vertical-align: top;\n",
       "    }\n",
       "\n",
       "    .dataframe thead th {\n",
       "        text-align: right;\n",
       "    }\n",
       "</style>\n",
       "<table border=\"1\" class=\"dataframe\">\n",
       "  <thead>\n",
       "    <tr style=\"text-align: right;\">\n",
       "      <th></th>\n",
       "      <th>some_integers</th>\n",
       "      <th>some_strings</th>\n",
       "    </tr>\n",
       "  </thead>\n",
       "  <tbody>\n",
       "    <tr>\n",
       "      <th>c</th>\n",
       "      <td>1</td>\n",
       "      <td>z</td>\n",
       "    </tr>\n",
       "    <tr>\n",
       "      <th>d</th>\n",
       "      <td>1</td>\n",
       "      <td>x</td>\n",
       "    </tr>\n",
       "  </tbody>\n",
       "</table>\n",
       "</div>"
      ],
      "text/plain": [
       "   some_integers some_strings\n",
       "c              1            z\n",
       "d              1            x"
      ]
     },
     "execution_count": 74,
     "metadata": {},
     "output_type": "execute_result"
    }
   ],
   "source": [
    "df.iloc[2:4, 0:2]"
   ]
  },
  {
   "cell_type": "code",
   "execution_count": 75,
   "metadata": {},
   "outputs": [
    {
     "data": {
      "text/html": [
       "<div>\n",
       "<style scoped>\n",
       "    .dataframe tbody tr th:only-of-type {\n",
       "        vertical-align: middle;\n",
       "    }\n",
       "\n",
       "    .dataframe tbody tr th {\n",
       "        vertical-align: top;\n",
       "    }\n",
       "\n",
       "    .dataframe thead th {\n",
       "        text-align: right;\n",
       "    }\n",
       "</style>\n",
       "<table border=\"1\" class=\"dataframe\">\n",
       "  <thead>\n",
       "    <tr style=\"text-align: right;\">\n",
       "      <th></th>\n",
       "      <th>some_integers</th>\n",
       "      <th>some_booleans</th>\n",
       "    </tr>\n",
       "  </thead>\n",
       "  <tbody>\n",
       "    <tr>\n",
       "      <th>b</th>\n",
       "      <td>0</td>\n",
       "      <td>0</td>\n",
       "    </tr>\n",
       "    <tr>\n",
       "      <th>c</th>\n",
       "      <td>1</td>\n",
       "      <td>1</td>\n",
       "    </tr>\n",
       "    <tr>\n",
       "      <th>d</th>\n",
       "      <td>1</td>\n",
       "      <td>0</td>\n",
       "    </tr>\n",
       "    <tr>\n",
       "      <th>e</th>\n",
       "      <td>2</td>\n",
       "      <td>1</td>\n",
       "    </tr>\n",
       "  </tbody>\n",
       "</table>\n",
       "</div>"
      ],
      "text/plain": [
       "   some_integers  some_booleans\n",
       "b              0              0\n",
       "c              1              1\n",
       "d              1              0\n",
       "e              2              1"
      ]
     },
     "execution_count": 75,
     "metadata": {},
     "output_type": "execute_result"
    }
   ],
   "source": [
    "df.loc['b':'e', ['some_integers', 'some_booleans']]"
   ]
  },
  {
   "cell_type": "markdown",
   "metadata": {},
   "source": [
    "### 24.- Seleccionar las filas a,b,c, y f \n",
    "\n",
    "```python\n",
    "   some_integers some_strings  some_booleans\n",
    "a              0            x              0\n",
    "b              0            y              0\n",
    "c              1            z              1\n",
    "f              2            z              1\n",
    "```"
   ]
  },
  {
   "cell_type": "code",
   "execution_count": 76,
   "metadata": {},
   "outputs": [
    {
     "data": {
      "text/html": [
       "<div>\n",
       "<style scoped>\n",
       "    .dataframe tbody tr th:only-of-type {\n",
       "        vertical-align: middle;\n",
       "    }\n",
       "\n",
       "    .dataframe tbody tr th {\n",
       "        vertical-align: top;\n",
       "    }\n",
       "\n",
       "    .dataframe thead th {\n",
       "        text-align: right;\n",
       "    }\n",
       "</style>\n",
       "<table border=\"1\" class=\"dataframe\">\n",
       "  <thead>\n",
       "    <tr style=\"text-align: right;\">\n",
       "      <th></th>\n",
       "      <th>some_integers</th>\n",
       "      <th>some_strings</th>\n",
       "      <th>some_booleans</th>\n",
       "    </tr>\n",
       "  </thead>\n",
       "  <tbody>\n",
       "    <tr>\n",
       "      <th>a</th>\n",
       "      <td>0</td>\n",
       "      <td>x</td>\n",
       "      <td>0</td>\n",
       "    </tr>\n",
       "    <tr>\n",
       "      <th>b</th>\n",
       "      <td>0</td>\n",
       "      <td>y</td>\n",
       "      <td>0</td>\n",
       "    </tr>\n",
       "    <tr>\n",
       "      <th>c</th>\n",
       "      <td>1</td>\n",
       "      <td>z</td>\n",
       "      <td>1</td>\n",
       "    </tr>\n",
       "    <tr>\n",
       "      <th>f</th>\n",
       "      <td>2</td>\n",
       "      <td>z</td>\n",
       "      <td>1</td>\n",
       "    </tr>\n",
       "  </tbody>\n",
       "</table>\n",
       "</div>"
      ],
      "text/plain": [
       "   some_integers some_strings  some_booleans\n",
       "a              0            x              0\n",
       "b              0            y              0\n",
       "c              1            z              1\n",
       "f              2            z              1"
      ]
     },
     "execution_count": 76,
     "metadata": {},
     "output_type": "execute_result"
    }
   ],
   "source": [
    "# Seleccionar filas\n",
    "df.loc[['a','b','c','f'],:]"
   ]
  },
  {
   "cell_type": "markdown",
   "metadata": {},
   "source": [
    "### 25.- Seleccionar la fila 0, 1a y 5a\n",
    "\n",
    "```python\n",
    "   some_integers some_strings  some_booleans\n",
    "a              0            x              0\n",
    "b              0            y              0\n",
    "f              2            z              1\n",
    "```"
   ]
  },
  {
   "cell_type": "code",
   "execution_count": 77,
   "metadata": {},
   "outputs": [
    {
     "data": {
      "text/html": [
       "<div>\n",
       "<style scoped>\n",
       "    .dataframe tbody tr th:only-of-type {\n",
       "        vertical-align: middle;\n",
       "    }\n",
       "\n",
       "    .dataframe tbody tr th {\n",
       "        vertical-align: top;\n",
       "    }\n",
       "\n",
       "    .dataframe thead th {\n",
       "        text-align: right;\n",
       "    }\n",
       "</style>\n",
       "<table border=\"1\" class=\"dataframe\">\n",
       "  <thead>\n",
       "    <tr style=\"text-align: right;\">\n",
       "      <th></th>\n",
       "      <th>some_integers</th>\n",
       "      <th>some_strings</th>\n",
       "      <th>some_booleans</th>\n",
       "    </tr>\n",
       "  </thead>\n",
       "  <tbody>\n",
       "    <tr>\n",
       "      <th>a</th>\n",
       "      <td>0</td>\n",
       "      <td>x</td>\n",
       "      <td>0</td>\n",
       "    </tr>\n",
       "    <tr>\n",
       "      <th>b</th>\n",
       "      <td>0</td>\n",
       "      <td>y</td>\n",
       "      <td>0</td>\n",
       "    </tr>\n",
       "    <tr>\n",
       "      <th>f</th>\n",
       "      <td>2</td>\n",
       "      <td>z</td>\n",
       "      <td>1</td>\n",
       "    </tr>\n",
       "  </tbody>\n",
       "</table>\n",
       "</div>"
      ],
      "text/plain": [
       "   some_integers some_strings  some_booleans\n",
       "a              0            x              0\n",
       "b              0            y              0\n",
       "f              2            z              1"
      ]
     },
     "execution_count": 77,
     "metadata": {},
     "output_type": "execute_result"
    }
   ],
   "source": [
    "# Seleccionar filas\n",
    "df.iloc[[0,1,5],:]"
   ]
  },
  {
   "cell_type": "markdown",
   "metadata": {},
   "source": [
    "### 26.- Seleccionar los estudiantes 0 y 4o\n",
    "\n",
    "```python\n",
    "       grade  height was_late     top_crush   ...\n",
    "Tomas     45      34      NaN         Angel\n",
    "Haden     90      38      NaN  Edgar A. Poe\n",
    "```"
   ]
  },
  {
   "cell_type": "code",
   "execution_count": 78,
   "metadata": {},
   "outputs": [
    {
     "data": {
      "text/html": [
       "<div>\n",
       "<style scoped>\n",
       "    .dataframe tbody tr th:only-of-type {\n",
       "        vertical-align: middle;\n",
       "    }\n",
       "\n",
       "    .dataframe tbody tr th {\n",
       "        vertical-align: top;\n",
       "    }\n",
       "\n",
       "    .dataframe thead th {\n",
       "        text-align: right;\n",
       "    }\n",
       "</style>\n",
       "<table border=\"1\" class=\"dataframe\">\n",
       "  <thead>\n",
       "    <tr style=\"text-align: right;\">\n",
       "      <th></th>\n",
       "      <th>grade</th>\n",
       "      <th>height</th>\n",
       "      <th>was_late</th>\n",
       "      <th>top_crush</th>\n",
       "      <th>above_75_percent</th>\n",
       "      <th>taller_than_35</th>\n",
       "      <th>pickup_time</th>\n",
       "    </tr>\n",
       "  </thead>\n",
       "  <tbody>\n",
       "    <tr>\n",
       "      <th>Tomas</th>\n",
       "      <td>45</td>\n",
       "      <td>34</td>\n",
       "      <td>True</td>\n",
       "      <td>Angel</td>\n",
       "      <td>False</td>\n",
       "      <td>False</td>\n",
       "      <td>4.0</td>\n",
       "    </tr>\n",
       "    <tr>\n",
       "      <th>Haden</th>\n",
       "      <td>90</td>\n",
       "      <td>38</td>\n",
       "      <td>False</td>\n",
       "      <td>Edgar A. Poe</td>\n",
       "      <td>True</td>\n",
       "      <td>True</td>\n",
       "      <td>NaN</td>\n",
       "    </tr>\n",
       "  </tbody>\n",
       "</table>\n",
       "</div>"
      ],
      "text/plain": [
       "       grade  height  was_late     top_crush  above_75_percent  \\\n",
       "Tomas     45      34      True         Angel             False   \n",
       "Haden     90      38     False  Edgar A. Poe              True   \n",
       "\n",
       "       taller_than_35  pickup_time  \n",
       "Tomas           False          4.0  \n",
       "Haden            True          NaN  "
      ]
     },
     "execution_count": 78,
     "metadata": {},
     "output_type": "execute_result"
    }
   ],
   "source": [
    "# Seleccionar filas\n",
    "students.iloc[[0,4],:]"
   ]
  },
  {
   "cell_type": "markdown",
   "metadata": {},
   "source": [
    "### 27.- Seleccionar a Haden, Angel y Micaela en ese orden\n",
    "\n",
    "```python\n",
    "          grade  height was_late     top_crush\n",
    "Haden        90      38      NaN  Edgar A. Poe\n",
    "Angel        56      35      NaN         Haden\n",
    "Michaela     89      37      NaN         Tomas\n",
    "```"
   ]
  },
  {
   "cell_type": "code",
   "execution_count": 79,
   "metadata": {},
   "outputs": [
    {
     "data": {
      "text/html": [
       "<div>\n",
       "<style scoped>\n",
       "    .dataframe tbody tr th:only-of-type {\n",
       "        vertical-align: middle;\n",
       "    }\n",
       "\n",
       "    .dataframe tbody tr th {\n",
       "        vertical-align: top;\n",
       "    }\n",
       "\n",
       "    .dataframe thead th {\n",
       "        text-align: right;\n",
       "    }\n",
       "</style>\n",
       "<table border=\"1\" class=\"dataframe\">\n",
       "  <thead>\n",
       "    <tr style=\"text-align: right;\">\n",
       "      <th></th>\n",
       "      <th>grade</th>\n",
       "      <th>height</th>\n",
       "      <th>was_late</th>\n",
       "      <th>top_crush</th>\n",
       "      <th>above_75_percent</th>\n",
       "      <th>taller_than_35</th>\n",
       "      <th>pickup_time</th>\n",
       "    </tr>\n",
       "  </thead>\n",
       "  <tbody>\n",
       "    <tr>\n",
       "      <th>Haden</th>\n",
       "      <td>90</td>\n",
       "      <td>38</td>\n",
       "      <td>False</td>\n",
       "      <td>Edgar A. Poe</td>\n",
       "      <td>True</td>\n",
       "      <td>True</td>\n",
       "      <td>NaN</td>\n",
       "    </tr>\n",
       "    <tr>\n",
       "      <th>Angel</th>\n",
       "      <td>56</td>\n",
       "      <td>35</td>\n",
       "      <td>False</td>\n",
       "      <td>Haden</td>\n",
       "      <td>False</td>\n",
       "      <td>False</td>\n",
       "      <td>5.0</td>\n",
       "    </tr>\n",
       "    <tr>\n",
       "      <th>Michaela</th>\n",
       "      <td>89</td>\n",
       "      <td>37</td>\n",
       "      <td>False</td>\n",
       "      <td>Tomas</td>\n",
       "      <td>True</td>\n",
       "      <td>True</td>\n",
       "      <td>NaN</td>\n",
       "    </tr>\n",
       "  </tbody>\n",
       "</table>\n",
       "</div>"
      ],
      "text/plain": [
       "          grade  height  was_late     top_crush  above_75_percent  \\\n",
       "Haden        90      38     False  Edgar A. Poe              True   \n",
       "Angel        56      35     False         Haden             False   \n",
       "Michaela     89      37     False         Tomas              True   \n",
       "\n",
       "          taller_than_35  pickup_time  \n",
       "Haden               True          NaN  \n",
       "Angel              False          5.0  \n",
       "Michaela            True          NaN  "
      ]
     },
     "execution_count": 79,
     "metadata": {},
     "output_type": "execute_result"
    }
   ],
   "source": [
    "# Seleccionar filas\n",
    "students.loc[['Haden','Angel','Michaela'],:]"
   ]
  },
  {
   "cell_type": "markdown",
   "metadata": {},
   "source": [
    "## Índice mixto"
   ]
  },
  {
   "cell_type": "markdown",
   "metadata": {},
   "source": [
    "Entonces, ¿qué hacemos si queremos obtener las filas por posición, y obtener las columnas por etiqueta?  Es decir, si tenemos un uso para la **indexación mixta**."
   ]
  },
  {
   "cell_type": "markdown",
   "metadata": {},
   "source": [
    "```python\n",
    "# Mixto con iloc: no funciona.\n",
    ">>> df.iloc[2:4, ['some_integers', 'some_booleans']]\n",
    "\n",
    "---------------------------------------------------------------------------\n",
    "IndexError                                Traceback (most recent call last)\n",
    "<ipython-input-337-dcc694afee25> in <module>\n",
    "      1 # Mixto con iloc: no funciona.\n",
    "----> 2 df.iloc[2:4, ['some_integers', 'some_booleans']]\n",
    "```"
   ]
  },
  {
   "cell_type": "markdown",
   "metadata": {},
   "source": [
    "Hacer una indexación mixta en los pandas modernos es más explícito, menos mágico.  Es necesario utilizar los atributos `df.index` y `df.columns` para convertir explícitamente las posiciones en etiquetas."
   ]
  },
  {
   "cell_type": "markdown",
   "metadata": {},
   "source": [
    "#### Filas por posición, Columnas por nombre"
   ]
  },
  {
   "cell_type": "code",
   "execution_count": 80,
   "metadata": {},
   "outputs": [
    {
     "data": {
      "text/plain": [
       "Index(['c', 'd'], dtype='object')"
      ]
     },
     "execution_count": 80,
     "metadata": {},
     "output_type": "execute_result"
    }
   ],
   "source": [
    "df.index[2:4]"
   ]
  },
  {
   "cell_type": "code",
   "execution_count": 81,
   "metadata": {},
   "outputs": [
    {
     "data": {
      "text/html": [
       "<div>\n",
       "<style scoped>\n",
       "    .dataframe tbody tr th:only-of-type {\n",
       "        vertical-align: middle;\n",
       "    }\n",
       "\n",
       "    .dataframe tbody tr th {\n",
       "        vertical-align: top;\n",
       "    }\n",
       "\n",
       "    .dataframe thead th {\n",
       "        text-align: right;\n",
       "    }\n",
       "</style>\n",
       "<table border=\"1\" class=\"dataframe\">\n",
       "  <thead>\n",
       "    <tr style=\"text-align: right;\">\n",
       "      <th></th>\n",
       "      <th>some_integers</th>\n",
       "      <th>some_booleans</th>\n",
       "    </tr>\n",
       "  </thead>\n",
       "  <tbody>\n",
       "    <tr>\n",
       "      <th>c</th>\n",
       "      <td>1</td>\n",
       "      <td>1</td>\n",
       "    </tr>\n",
       "    <tr>\n",
       "      <th>d</th>\n",
       "      <td>1</td>\n",
       "      <td>0</td>\n",
       "    </tr>\n",
       "  </tbody>\n",
       "</table>\n",
       "</div>"
      ],
      "text/plain": [
       "   some_integers  some_booleans\n",
       "c              1              1\n",
       "d              1              0"
      ]
     },
     "execution_count": 81,
     "metadata": {},
     "output_type": "execute_result"
    }
   ],
   "source": [
    "df.loc[df.index[2:4], ['some_integers', 'some_booleans']]"
   ]
  },
  {
   "cell_type": "markdown",
   "metadata": {},
   "source": [
    "#### Filas por nombre, Columnas por posición"
   ]
  },
  {
   "cell_type": "code",
   "execution_count": 82,
   "metadata": {},
   "outputs": [
    {
     "data": {
      "text/plain": [
       "Index(['some_integers', 'some_booleans'], dtype='object')"
      ]
     },
     "execution_count": 82,
     "metadata": {},
     "output_type": "execute_result"
    }
   ],
   "source": [
    "df.columns[[0, 2]]"
   ]
  },
  {
   "cell_type": "code",
   "execution_count": 83,
   "metadata": {
    "scrolled": true
   },
   "outputs": [
    {
     "data": {
      "text/html": [
       "<div>\n",
       "<style scoped>\n",
       "    .dataframe tbody tr th:only-of-type {\n",
       "        vertical-align: middle;\n",
       "    }\n",
       "\n",
       "    .dataframe tbody tr th {\n",
       "        vertical-align: top;\n",
       "    }\n",
       "\n",
       "    .dataframe thead th {\n",
       "        text-align: right;\n",
       "    }\n",
       "</style>\n",
       "<table border=\"1\" class=\"dataframe\">\n",
       "  <thead>\n",
       "    <tr style=\"text-align: right;\">\n",
       "      <th></th>\n",
       "      <th>some_integers</th>\n",
       "      <th>some_booleans</th>\n",
       "    </tr>\n",
       "  </thead>\n",
       "  <tbody>\n",
       "    <tr>\n",
       "      <th>c</th>\n",
       "      <td>1</td>\n",
       "      <td>1</td>\n",
       "    </tr>\n",
       "    <tr>\n",
       "      <th>d</th>\n",
       "      <td>1</td>\n",
       "      <td>0</td>\n",
       "    </tr>\n",
       "  </tbody>\n",
       "</table>\n",
       "</div>"
      ],
      "text/plain": [
       "   some_integers  some_booleans\n",
       "c              1              1\n",
       "d              1              0"
      ]
     },
     "execution_count": 83,
     "metadata": {},
     "output_type": "execute_result"
    }
   ],
   "source": [
    "df.loc[['c', 'd'], df.columns[[0, 2]]]"
   ]
  },
  {
   "cell_type": "markdown",
   "metadata": {},
   "source": [
    "### 28.- Utilizar el índice mixto para obtener la fila 0, 2a y 4a row de top_crush y pickup_time\n",
    "\n",
    "```python\n",
    "          top_crush  pickup_time\n",
    "Tomas         Angel          4.0\n",
    "Stacy      Michaela          2.0\n",
    "Haden  Edgar A. Poe          NaN\n",
    "```"
   ]
  },
  {
   "cell_type": "code",
   "execution_count": 84,
   "metadata": {},
   "outputs": [
    {
     "data": {
      "text/html": [
       "<div>\n",
       "<style scoped>\n",
       "    .dataframe tbody tr th:only-of-type {\n",
       "        vertical-align: middle;\n",
       "    }\n",
       "\n",
       "    .dataframe tbody tr th {\n",
       "        vertical-align: top;\n",
       "    }\n",
       "\n",
       "    .dataframe thead th {\n",
       "        text-align: right;\n",
       "    }\n",
       "</style>\n",
       "<table border=\"1\" class=\"dataframe\">\n",
       "  <thead>\n",
       "    <tr style=\"text-align: right;\">\n",
       "      <th></th>\n",
       "      <th>top_crush</th>\n",
       "      <th>pickup_time</th>\n",
       "    </tr>\n",
       "  </thead>\n",
       "  <tbody>\n",
       "    <tr>\n",
       "      <th>Tomas</th>\n",
       "      <td>Angel</td>\n",
       "      <td>4.0</td>\n",
       "    </tr>\n",
       "    <tr>\n",
       "      <th>Stacy</th>\n",
       "      <td>Michaela</td>\n",
       "      <td>3.0</td>\n",
       "    </tr>\n",
       "    <tr>\n",
       "      <th>Haden</th>\n",
       "      <td>Edgar A. Poe</td>\n",
       "      <td>NaN</td>\n",
       "    </tr>\n",
       "  </tbody>\n",
       "</table>\n",
       "</div>"
      ],
      "text/plain": [
       "          top_crush  pickup_time\n",
       "Tomas         Angel          4.0\n",
       "Stacy      Michaela          3.0\n",
       "Haden  Edgar A. Poe          NaN"
      ]
     },
     "execution_count": 84,
     "metadata": {},
     "output_type": "execute_result"
    }
   ],
   "source": [
    "# Filas y columnas\n",
    "students.loc[students.index[[0,2,4]],['top_crush','pickup_time']]"
   ]
  },
  {
   "cell_type": "markdown",
   "metadata": {},
   "source": [
    "### 29.- Utilizar el índice mixto para obtener el siguiente dataframe, utilizando posición en columns y nombre en filas\n",
    "\n",
    "```python\n",
    "       grade  was_late  above_75_percent  grade\n",
    "Stacy     78      True              True     78\n",
    "Haden     90     False              True     90\n",
    "```"
   ]
  },
  {
   "cell_type": "code",
   "execution_count": 85,
   "metadata": {},
   "outputs": [
    {
     "data": {
      "text/html": [
       "<div>\n",
       "<style scoped>\n",
       "    .dataframe tbody tr th:only-of-type {\n",
       "        vertical-align: middle;\n",
       "    }\n",
       "\n",
       "    .dataframe tbody tr th {\n",
       "        vertical-align: top;\n",
       "    }\n",
       "\n",
       "    .dataframe thead th {\n",
       "        text-align: right;\n",
       "    }\n",
       "</style>\n",
       "<table border=\"1\" class=\"dataframe\">\n",
       "  <thead>\n",
       "    <tr style=\"text-align: right;\">\n",
       "      <th></th>\n",
       "      <th>grade</th>\n",
       "      <th>was_late</th>\n",
       "      <th>above_75_percent</th>\n",
       "      <th>grade</th>\n",
       "    </tr>\n",
       "  </thead>\n",
       "  <tbody>\n",
       "    <tr>\n",
       "      <th>Stacy</th>\n",
       "      <td>78</td>\n",
       "      <td>True</td>\n",
       "      <td>True</td>\n",
       "      <td>78</td>\n",
       "    </tr>\n",
       "    <tr>\n",
       "      <th>Haden</th>\n",
       "      <td>90</td>\n",
       "      <td>False</td>\n",
       "      <td>True</td>\n",
       "      <td>90</td>\n",
       "    </tr>\n",
       "  </tbody>\n",
       "</table>\n",
       "</div>"
      ],
      "text/plain": [
       "       grade  was_late  above_75_percent  grade\n",
       "Stacy     78      True              True     78\n",
       "Haden     90     False              True     90"
      ]
     },
     "execution_count": 85,
     "metadata": {},
     "output_type": "execute_result"
    }
   ],
   "source": [
    "# Filas y columnas\n",
    "students.loc[['Stacy','Haden'],students.columns[[0,2,4,0]]]"
   ]
  },
  {
   "cell_type": "markdown",
   "metadata": {},
   "source": [
    "## Transformaciones"
   ]
  },
  {
   "cell_type": "markdown",
   "metadata": {},
   "source": [
    "Las operaciones aritméticas se aplican a las `Series` elemento a elemento. (como las matrices)"
   ]
  },
  {
   "cell_type": "code",
   "execution_count": 86,
   "metadata": {},
   "outputs": [],
   "source": [
    "# Ejemplo\n",
    "golf_df[\"TempHumid\"] = golf_df['Temperature'] + golf_df['Humidity']"
   ]
  },
  {
   "cell_type": "code",
   "execution_count": 87,
   "metadata": {},
   "outputs": [
    {
     "data": {
      "text/html": [
       "<div>\n",
       "<style scoped>\n",
       "    .dataframe tbody tr th:only-of-type {\n",
       "        vertical-align: middle;\n",
       "    }\n",
       "\n",
       "    .dataframe tbody tr th {\n",
       "        vertical-align: top;\n",
       "    }\n",
       "\n",
       "    .dataframe thead th {\n",
       "        text-align: right;\n",
       "    }\n",
       "</style>\n",
       "<table border=\"1\" class=\"dataframe\">\n",
       "  <thead>\n",
       "    <tr style=\"text-align: right;\">\n",
       "      <th></th>\n",
       "      <th>Date</th>\n",
       "      <th>Outlook</th>\n",
       "      <th>Temperature</th>\n",
       "      <th>Humidity</th>\n",
       "      <th>Windy</th>\n",
       "      <th>Result</th>\n",
       "      <th>TempHumid</th>\n",
       "    </tr>\n",
       "  </thead>\n",
       "  <tbody>\n",
       "    <tr>\n",
       "      <th>0</th>\n",
       "      <td>7/1/14</td>\n",
       "      <td>sunny</td>\n",
       "      <td>85</td>\n",
       "      <td>85</td>\n",
       "      <td>False</td>\n",
       "      <td>Don't Play</td>\n",
       "      <td>170</td>\n",
       "    </tr>\n",
       "    <tr>\n",
       "      <th>1</th>\n",
       "      <td>7/2/14</td>\n",
       "      <td>sunny</td>\n",
       "      <td>80</td>\n",
       "      <td>90</td>\n",
       "      <td>True</td>\n",
       "      <td>Don't Play</td>\n",
       "      <td>170</td>\n",
       "    </tr>\n",
       "    <tr>\n",
       "      <th>2</th>\n",
       "      <td>7/3/14</td>\n",
       "      <td>overcast</td>\n",
       "      <td>83</td>\n",
       "      <td>78</td>\n",
       "      <td>False</td>\n",
       "      <td>Play</td>\n",
       "      <td>161</td>\n",
       "    </tr>\n",
       "    <tr>\n",
       "      <th>3</th>\n",
       "      <td>7/4/14</td>\n",
       "      <td>rain</td>\n",
       "      <td>70</td>\n",
       "      <td>96</td>\n",
       "      <td>False</td>\n",
       "      <td>Play</td>\n",
       "      <td>166</td>\n",
       "    </tr>\n",
       "    <tr>\n",
       "      <th>4</th>\n",
       "      <td>7/5/14</td>\n",
       "      <td>rain</td>\n",
       "      <td>68</td>\n",
       "      <td>80</td>\n",
       "      <td>False</td>\n",
       "      <td>Play</td>\n",
       "      <td>148</td>\n",
       "    </tr>\n",
       "  </tbody>\n",
       "</table>\n",
       "</div>"
      ],
      "text/plain": [
       "     Date   Outlook  Temperature  Humidity  Windy      Result  TempHumid\n",
       "0  7/1/14     sunny           85        85  False  Don't Play        170\n",
       "1  7/2/14     sunny           80        90   True  Don't Play        170\n",
       "2  7/3/14  overcast           83        78  False        Play        161\n",
       "3  7/4/14      rain           70        96  False        Play        166\n",
       "4  7/5/14      rain           68        80  False        Play        148"
      ]
     },
     "execution_count": 87,
     "metadata": {},
     "output_type": "execute_result"
    }
   ],
   "source": [
    "golf_df.head()"
   ]
  },
  {
   "cell_type": "code",
   "execution_count": 88,
   "metadata": {},
   "outputs": [
    {
     "data": {
      "text/html": [
       "<div>\n",
       "<style scoped>\n",
       "    .dataframe tbody tr th:only-of-type {\n",
       "        vertical-align: middle;\n",
       "    }\n",
       "\n",
       "    .dataframe tbody tr th {\n",
       "        vertical-align: top;\n",
       "    }\n",
       "\n",
       "    .dataframe thead th {\n",
       "        text-align: right;\n",
       "    }\n",
       "</style>\n",
       "<table border=\"1\" class=\"dataframe\">\n",
       "  <thead>\n",
       "    <tr style=\"text-align: right;\">\n",
       "      <th></th>\n",
       "      <th>Temperature</th>\n",
       "      <th>Humidity</th>\n",
       "      <th>HeatIndex</th>\n",
       "    </tr>\n",
       "  </thead>\n",
       "  <tbody>\n",
       "    <tr>\n",
       "      <th>0</th>\n",
       "      <td>85</td>\n",
       "      <td>85</td>\n",
       "      <td>98.004631</td>\n",
       "    </tr>\n",
       "    <tr>\n",
       "      <th>1</th>\n",
       "      <td>80</td>\n",
       "      <td>90</td>\n",
       "      <td>84.474400</td>\n",
       "    </tr>\n",
       "    <tr>\n",
       "      <th>2</th>\n",
       "      <td>83</td>\n",
       "      <td>78</td>\n",
       "      <td>89.669911</td>\n",
       "    </tr>\n",
       "    <tr>\n",
       "      <th>3</th>\n",
       "      <td>70</td>\n",
       "      <td>96</td>\n",
       "      <td>62.847024</td>\n",
       "    </tr>\n",
       "    <tr>\n",
       "      <th>4</th>\n",
       "      <td>68</td>\n",
       "      <td>80</td>\n",
       "      <td>69.089776</td>\n",
       "    </tr>\n",
       "  </tbody>\n",
       "</table>\n",
       "</div>"
      ],
      "text/plain": [
       "   Temperature  Humidity  HeatIndex\n",
       "0           85        85  98.004631\n",
       "1           80        90  84.474400\n",
       "2           83        78  89.669911\n",
       "3           70        96  62.847024\n",
       "4           68        80  69.089776"
      ]
     },
     "execution_count": 88,
     "metadata": {},
     "output_type": "execute_result"
    }
   ],
   "source": [
    "# Calcular el índice de calor\n",
    "\n",
    "#    https://en.wikipedia.org/wiki/Heat_index\n",
    "temp = golf_df['Temperature']\n",
    "humid = golf_df['Humidity']\n",
    "golf_df['HeatIndex'] = (-42.37 + 2.05*temp + 10.14*humid\n",
    "                        - 0.225*temp*humid\n",
    "                        - 6.84e-3*temp**2 \n",
    "                        - 5.482e-2*humid**2\n",
    "                        + 1.23e-3*temp**2*humid\n",
    "                        + 8.53e-4*temp*humid**2\n",
    "                        - 1.99e-6*temp**2*humid**2\n",
    ")\n",
    "golf_df[['Temperature', 'Humidity', 'HeatIndex']].head()"
   ]
  },
  {
   "cell_type": "markdown",
   "metadata": {},
   "source": [
    "### 30.- Crear una columna 'smarty_pants' que devuelva 'Verdadero' si el grade de un estudiante es mayor a 2.2 veces su estatura\n",
    "\n",
    "```python\n",
    ">>> print(students[['grade','height', 'smarty_pants']])\n",
    "          grade  height  smarty_pants\n",
    "Tomas        45      34         False\n",
    "Angel        56      35         False\n",
    "Stacy        78      36         False\n",
    "Michaela     89      37          True\n",
    "Haden        90      38          True\n",
    "```"
   ]
  },
  {
   "cell_type": "code",
   "execution_count": 89,
   "metadata": {},
   "outputs": [
    {
     "name": "stdout",
     "output_type": "stream",
     "text": [
      "          grade  height  smarty_pants\n",
      "Tomas        45      34         False\n",
      "Angel        56      35         False\n",
      "Stacy        78      36         False\n",
      "Michaela     89      37          True\n",
      "Haden        90      38          True\n"
     ]
    }
   ],
   "source": [
    "# Nueva columna boleana\n",
    "students['smarty_pants']=students['grade']>(students['height']*2.2)\n",
    "print(students[['grade','height', 'smarty_pants']])"
   ]
  },
  {
   "cell_type": "markdown",
   "metadata": {},
   "source": [
    "### 31.- Crear una columna 'percent fixed acidity' que calcule la cantidad de acidez total que se encuentra en wine_quality_white.\n",
    "\n",
    "```python\n",
    ">>> print(wine_quality_white[['fixed acidity', 'volatile acidity', 'citric acid', 'percent fixed acidity']])\n",
    "      fixed acidity  volatile acidity  citric acid  percent fixed acidity\n",
    "0               7.0              0.27         0.36               0.917431\n",
    "1               6.3              0.30         0.34               0.907781\n",
    "2               8.1              0.28         0.40               0.922551\n",
    "3               7.2              0.23         0.32               0.929032\n",
    "4               7.2              0.23         0.32               0.929032\n",
    "...             ...               ...          ...                    ...\n",
    "4893            6.2              0.21         0.29               0.925373\n",
    "4894            6.6              0.32         0.36               0.906593\n",
    "4895            6.5              0.24         0.19               0.937951\n",
    "4896            5.5              0.29         0.30               0.903120\n",
    "4897            6.0              0.21         0.38               0.910470\n",
    "```"
   ]
  },
  {
   "cell_type": "code",
   "execution_count": 90,
   "metadata": {},
   "outputs": [
    {
     "name": "stdout",
     "output_type": "stream",
     "text": [
      "      fixed acidity  volatile acidity  citric acid  percent fixed acidity\n",
      "0               7.0              0.27         0.36               0.917431\n",
      "1               6.3              0.30         0.34               0.907781\n",
      "2               8.1              0.28         0.40               0.922551\n",
      "3               7.2              0.23         0.32               0.929032\n",
      "4               7.2              0.23         0.32               0.929032\n",
      "...             ...               ...          ...                    ...\n",
      "4893            6.2              0.21         0.29               0.925373\n",
      "4894            6.6              0.32         0.36               0.906593\n",
      "4895            6.5              0.24         0.19               0.937951\n",
      "4896            5.5              0.29         0.30               0.903120\n",
      "4897            6.0              0.21         0.38               0.910470\n",
      "\n",
      "[4898 rows x 4 columns]\n"
     ]
    }
   ],
   "source": [
    "# Nueva columna\n",
    "wine_quality_white[\"percent fixed acidity\"] = wine_quality_white[\"fixed acidity\"]/(wine_quality_white[\"fixed acidity\"]+wine_quality_white[\"volatile acidity\"]+wine_quality_white[\"citric acid\"])\n",
    "print(wine_quality_white[['fixed acidity', 'volatile acidity', 'citric acid', 'percent fixed acidity']])"
   ]
  },
  {
   "cell_type": "markdown",
   "metadata": {},
   "source": [
    "## Apply"
   ]
  },
  {
   "cell_type": "markdown",
   "metadata": {},
   "source": [
    "Es posible crear una nueva Serie al aplicar una función a una Serie existente\n",
    "\n",
    "Ejemplo: Extraer el día del mes en la columna 'date'"
   ]
  },
  {
   "cell_type": "code",
   "execution_count": 91,
   "metadata": {},
   "outputs": [
    {
     "data": {
      "text/html": [
       "<div>\n",
       "<style scoped>\n",
       "    .dataframe tbody tr th:only-of-type {\n",
       "        vertical-align: middle;\n",
       "    }\n",
       "\n",
       "    .dataframe tbody tr th {\n",
       "        vertical-align: top;\n",
       "    }\n",
       "\n",
       "    .dataframe thead th {\n",
       "        text-align: right;\n",
       "    }\n",
       "</style>\n",
       "<table border=\"1\" class=\"dataframe\">\n",
       "  <thead>\n",
       "    <tr style=\"text-align: right;\">\n",
       "      <th></th>\n",
       "      <th>Date</th>\n",
       "      <th>Outlook</th>\n",
       "      <th>Temperature</th>\n",
       "      <th>Humidity</th>\n",
       "      <th>Windy</th>\n",
       "      <th>Result</th>\n",
       "      <th>TempHumid</th>\n",
       "      <th>HeatIndex</th>\n",
       "    </tr>\n",
       "  </thead>\n",
       "  <tbody>\n",
       "    <tr>\n",
       "      <th>0</th>\n",
       "      <td>7/1/14</td>\n",
       "      <td>sunny</td>\n",
       "      <td>85</td>\n",
       "      <td>85</td>\n",
       "      <td>False</td>\n",
       "      <td>Don't Play</td>\n",
       "      <td>170</td>\n",
       "      <td>98.004631</td>\n",
       "    </tr>\n",
       "    <tr>\n",
       "      <th>1</th>\n",
       "      <td>7/2/14</td>\n",
       "      <td>sunny</td>\n",
       "      <td>80</td>\n",
       "      <td>90</td>\n",
       "      <td>True</td>\n",
       "      <td>Don't Play</td>\n",
       "      <td>170</td>\n",
       "      <td>84.474400</td>\n",
       "    </tr>\n",
       "    <tr>\n",
       "      <th>2</th>\n",
       "      <td>7/3/14</td>\n",
       "      <td>overcast</td>\n",
       "      <td>83</td>\n",
       "      <td>78</td>\n",
       "      <td>False</td>\n",
       "      <td>Play</td>\n",
       "      <td>161</td>\n",
       "      <td>89.669911</td>\n",
       "    </tr>\n",
       "    <tr>\n",
       "      <th>3</th>\n",
       "      <td>7/4/14</td>\n",
       "      <td>rain</td>\n",
       "      <td>70</td>\n",
       "      <td>96</td>\n",
       "      <td>False</td>\n",
       "      <td>Play</td>\n",
       "      <td>166</td>\n",
       "      <td>62.847024</td>\n",
       "    </tr>\n",
       "    <tr>\n",
       "      <th>4</th>\n",
       "      <td>7/5/14</td>\n",
       "      <td>rain</td>\n",
       "      <td>68</td>\n",
       "      <td>80</td>\n",
       "      <td>False</td>\n",
       "      <td>Play</td>\n",
       "      <td>148</td>\n",
       "      <td>69.089776</td>\n",
       "    </tr>\n",
       "    <tr>\n",
       "      <th>5</th>\n",
       "      <td>7/6/14</td>\n",
       "      <td>rain</td>\n",
       "      <td>65</td>\n",
       "      <td>70</td>\n",
       "      <td>True</td>\n",
       "      <td>Don't Play</td>\n",
       "      <td>135</td>\n",
       "      <td>73.668025</td>\n",
       "    </tr>\n",
       "    <tr>\n",
       "      <th>6</th>\n",
       "      <td>7/7/14</td>\n",
       "      <td>overcast</td>\n",
       "      <td>64</td>\n",
       "      <td>65</td>\n",
       "      <td>True</td>\n",
       "      <td>Play</td>\n",
       "      <td>129</td>\n",
       "      <td>75.987116</td>\n",
       "    </tr>\n",
       "    <tr>\n",
       "      <th>7</th>\n",
       "      <td>7/8/14</td>\n",
       "      <td>sunny</td>\n",
       "      <td>72</td>\n",
       "      <td>95</td>\n",
       "      <td>False</td>\n",
       "      <td>Don't Play</td>\n",
       "      <td>167</td>\n",
       "      <td>66.247396</td>\n",
       "    </tr>\n",
       "    <tr>\n",
       "      <th>8</th>\n",
       "      <td>7/9/14</td>\n",
       "      <td>sunny</td>\n",
       "      <td>69</td>\n",
       "      <td>70</td>\n",
       "      <td>False</td>\n",
       "      <td>Play</td>\n",
       "      <td>139</td>\n",
       "      <td>72.843649</td>\n",
       "    </tr>\n",
       "    <tr>\n",
       "      <th>9</th>\n",
       "      <td>7/10/14</td>\n",
       "      <td>rain</td>\n",
       "      <td>75</td>\n",
       "      <td>80</td>\n",
       "      <td>False</td>\n",
       "      <td>Play</td>\n",
       "      <td>155</td>\n",
       "      <td>74.557000</td>\n",
       "    </tr>\n",
       "    <tr>\n",
       "      <th>10</th>\n",
       "      <td>7/11/14</td>\n",
       "      <td>sunny</td>\n",
       "      <td>75</td>\n",
       "      <td>70</td>\n",
       "      <td>True</td>\n",
       "      <td>Play</td>\n",
       "      <td>145</td>\n",
       "      <td>75.777625</td>\n",
       "    </tr>\n",
       "    <tr>\n",
       "      <th>11</th>\n",
       "      <td>7/12/14</td>\n",
       "      <td>overcast</td>\n",
       "      <td>72</td>\n",
       "      <td>90</td>\n",
       "      <td>True</td>\n",
       "      <td>Play</td>\n",
       "      <td>162</td>\n",
       "      <td>68.106944</td>\n",
       "    </tr>\n",
       "    <tr>\n",
       "      <th>12</th>\n",
       "      <td>7/13/14</td>\n",
       "      <td>overcast</td>\n",
       "      <td>81</td>\n",
       "      <td>75</td>\n",
       "      <td>False</td>\n",
       "      <td>Play</td>\n",
       "      <td>156</td>\n",
       "      <td>84.523441</td>\n",
       "    </tr>\n",
       "    <tr>\n",
       "      <th>13</th>\n",
       "      <td>7/14/14</td>\n",
       "      <td>rain</td>\n",
       "      <td>71</td>\n",
       "      <td>80</td>\n",
       "      <td>True</td>\n",
       "      <td>Don't Play</td>\n",
       "      <td>151</td>\n",
       "      <td>70.486984</td>\n",
       "    </tr>\n",
       "  </tbody>\n",
       "</table>\n",
       "</div>"
      ],
      "text/plain": [
       "       Date   Outlook  Temperature  Humidity  Windy      Result  TempHumid  \\\n",
       "0    7/1/14     sunny           85        85  False  Don't Play        170   \n",
       "1    7/2/14     sunny           80        90   True  Don't Play        170   \n",
       "2    7/3/14  overcast           83        78  False        Play        161   \n",
       "3    7/4/14      rain           70        96  False        Play        166   \n",
       "4    7/5/14      rain           68        80  False        Play        148   \n",
       "5    7/6/14      rain           65        70   True  Don't Play        135   \n",
       "6    7/7/14  overcast           64        65   True        Play        129   \n",
       "7    7/8/14     sunny           72        95  False  Don't Play        167   \n",
       "8    7/9/14     sunny           69        70  False        Play        139   \n",
       "9   7/10/14      rain           75        80  False        Play        155   \n",
       "10  7/11/14     sunny           75        70   True        Play        145   \n",
       "11  7/12/14  overcast           72        90   True        Play        162   \n",
       "12  7/13/14  overcast           81        75  False        Play        156   \n",
       "13  7/14/14      rain           71        80   True  Don't Play        151   \n",
       "\n",
       "    HeatIndex  \n",
       "0   98.004631  \n",
       "1   84.474400  \n",
       "2   89.669911  \n",
       "3   62.847024  \n",
       "4   69.089776  \n",
       "5   73.668025  \n",
       "6   75.987116  \n",
       "7   66.247396  \n",
       "8   72.843649  \n",
       "9   74.557000  \n",
       "10  75.777625  \n",
       "11  68.106944  \n",
       "12  84.523441  \n",
       "13  70.486984  "
      ]
     },
     "execution_count": 91,
     "metadata": {},
     "output_type": "execute_result"
    }
   ],
   "source": [
    "golf_df"
   ]
  },
  {
   "cell_type": "code",
   "execution_count": 92,
   "metadata": {},
   "outputs": [
    {
     "data": {
      "text/plain": [
       "0      1\n",
       "1      2\n",
       "2      3\n",
       "3      4\n",
       "4      5\n",
       "5      6\n",
       "6      7\n",
       "7      8\n",
       "8      9\n",
       "9     10\n",
       "10    11\n",
       "11    12\n",
       "12    13\n",
       "13    14\n",
       "Name: Date, dtype: object"
      ]
     },
     "execution_count": 92,
     "metadata": {},
     "output_type": "execute_result"
    }
   ],
   "source": [
    "golf_df['Date'].apply(lambda x: x.split('/')[1])"
   ]
  },
  {
   "cell_type": "markdown",
   "metadata": {},
   "source": [
    "Apply toma cada elemento de la serie 'date' y le *aplica* la función. Las salidas se ordenan en un array de la misma forma e índice.\n",
    "\n",
    "Así que podemos guardarlo así"
   ]
  },
  {
   "cell_type": "code",
   "execution_count": 93,
   "metadata": {},
   "outputs": [
    {
     "data": {
      "text/html": [
       "<div>\n",
       "<style scoped>\n",
       "    .dataframe tbody tr th:only-of-type {\n",
       "        vertical-align: middle;\n",
       "    }\n",
       "\n",
       "    .dataframe tbody tr th {\n",
       "        vertical-align: top;\n",
       "    }\n",
       "\n",
       "    .dataframe thead th {\n",
       "        text-align: right;\n",
       "    }\n",
       "</style>\n",
       "<table border=\"1\" class=\"dataframe\">\n",
       "  <thead>\n",
       "    <tr style=\"text-align: right;\">\n",
       "      <th></th>\n",
       "      <th>Date</th>\n",
       "      <th>Outlook</th>\n",
       "      <th>Temperature</th>\n",
       "      <th>Humidity</th>\n",
       "      <th>Windy</th>\n",
       "      <th>Result</th>\n",
       "      <th>TempHumid</th>\n",
       "      <th>HeatIndex</th>\n",
       "      <th>day</th>\n",
       "    </tr>\n",
       "  </thead>\n",
       "  <tbody>\n",
       "    <tr>\n",
       "      <th>0</th>\n",
       "      <td>7/1/14</td>\n",
       "      <td>sunny</td>\n",
       "      <td>85</td>\n",
       "      <td>85</td>\n",
       "      <td>False</td>\n",
       "      <td>Don't Play</td>\n",
       "      <td>170</td>\n",
       "      <td>98.004631</td>\n",
       "      <td>1</td>\n",
       "    </tr>\n",
       "    <tr>\n",
       "      <th>1</th>\n",
       "      <td>7/2/14</td>\n",
       "      <td>sunny</td>\n",
       "      <td>80</td>\n",
       "      <td>90</td>\n",
       "      <td>True</td>\n",
       "      <td>Don't Play</td>\n",
       "      <td>170</td>\n",
       "      <td>84.474400</td>\n",
       "      <td>2</td>\n",
       "    </tr>\n",
       "    <tr>\n",
       "      <th>2</th>\n",
       "      <td>7/3/14</td>\n",
       "      <td>overcast</td>\n",
       "      <td>83</td>\n",
       "      <td>78</td>\n",
       "      <td>False</td>\n",
       "      <td>Play</td>\n",
       "      <td>161</td>\n",
       "      <td>89.669911</td>\n",
       "      <td>3</td>\n",
       "    </tr>\n",
       "    <tr>\n",
       "      <th>3</th>\n",
       "      <td>7/4/14</td>\n",
       "      <td>rain</td>\n",
       "      <td>70</td>\n",
       "      <td>96</td>\n",
       "      <td>False</td>\n",
       "      <td>Play</td>\n",
       "      <td>166</td>\n",
       "      <td>62.847024</td>\n",
       "      <td>4</td>\n",
       "    </tr>\n",
       "    <tr>\n",
       "      <th>4</th>\n",
       "      <td>7/5/14</td>\n",
       "      <td>rain</td>\n",
       "      <td>68</td>\n",
       "      <td>80</td>\n",
       "      <td>False</td>\n",
       "      <td>Play</td>\n",
       "      <td>148</td>\n",
       "      <td>69.089776</td>\n",
       "      <td>5</td>\n",
       "    </tr>\n",
       "    <tr>\n",
       "      <th>5</th>\n",
       "      <td>7/6/14</td>\n",
       "      <td>rain</td>\n",
       "      <td>65</td>\n",
       "      <td>70</td>\n",
       "      <td>True</td>\n",
       "      <td>Don't Play</td>\n",
       "      <td>135</td>\n",
       "      <td>73.668025</td>\n",
       "      <td>6</td>\n",
       "    </tr>\n",
       "    <tr>\n",
       "      <th>6</th>\n",
       "      <td>7/7/14</td>\n",
       "      <td>overcast</td>\n",
       "      <td>64</td>\n",
       "      <td>65</td>\n",
       "      <td>True</td>\n",
       "      <td>Play</td>\n",
       "      <td>129</td>\n",
       "      <td>75.987116</td>\n",
       "      <td>7</td>\n",
       "    </tr>\n",
       "    <tr>\n",
       "      <th>7</th>\n",
       "      <td>7/8/14</td>\n",
       "      <td>sunny</td>\n",
       "      <td>72</td>\n",
       "      <td>95</td>\n",
       "      <td>False</td>\n",
       "      <td>Don't Play</td>\n",
       "      <td>167</td>\n",
       "      <td>66.247396</td>\n",
       "      <td>8</td>\n",
       "    </tr>\n",
       "    <tr>\n",
       "      <th>8</th>\n",
       "      <td>7/9/14</td>\n",
       "      <td>sunny</td>\n",
       "      <td>69</td>\n",
       "      <td>70</td>\n",
       "      <td>False</td>\n",
       "      <td>Play</td>\n",
       "      <td>139</td>\n",
       "      <td>72.843649</td>\n",
       "      <td>9</td>\n",
       "    </tr>\n",
       "    <tr>\n",
       "      <th>9</th>\n",
       "      <td>7/10/14</td>\n",
       "      <td>rain</td>\n",
       "      <td>75</td>\n",
       "      <td>80</td>\n",
       "      <td>False</td>\n",
       "      <td>Play</td>\n",
       "      <td>155</td>\n",
       "      <td>74.557000</td>\n",
       "      <td>10</td>\n",
       "    </tr>\n",
       "    <tr>\n",
       "      <th>10</th>\n",
       "      <td>7/11/14</td>\n",
       "      <td>sunny</td>\n",
       "      <td>75</td>\n",
       "      <td>70</td>\n",
       "      <td>True</td>\n",
       "      <td>Play</td>\n",
       "      <td>145</td>\n",
       "      <td>75.777625</td>\n",
       "      <td>11</td>\n",
       "    </tr>\n",
       "    <tr>\n",
       "      <th>11</th>\n",
       "      <td>7/12/14</td>\n",
       "      <td>overcast</td>\n",
       "      <td>72</td>\n",
       "      <td>90</td>\n",
       "      <td>True</td>\n",
       "      <td>Play</td>\n",
       "      <td>162</td>\n",
       "      <td>68.106944</td>\n",
       "      <td>12</td>\n",
       "    </tr>\n",
       "    <tr>\n",
       "      <th>12</th>\n",
       "      <td>7/13/14</td>\n",
       "      <td>overcast</td>\n",
       "      <td>81</td>\n",
       "      <td>75</td>\n",
       "      <td>False</td>\n",
       "      <td>Play</td>\n",
       "      <td>156</td>\n",
       "      <td>84.523441</td>\n",
       "      <td>13</td>\n",
       "    </tr>\n",
       "    <tr>\n",
       "      <th>13</th>\n",
       "      <td>7/14/14</td>\n",
       "      <td>rain</td>\n",
       "      <td>71</td>\n",
       "      <td>80</td>\n",
       "      <td>True</td>\n",
       "      <td>Don't Play</td>\n",
       "      <td>151</td>\n",
       "      <td>70.486984</td>\n",
       "      <td>14</td>\n",
       "    </tr>\n",
       "  </tbody>\n",
       "</table>\n",
       "</div>"
      ],
      "text/plain": [
       "       Date   Outlook  Temperature  Humidity  Windy      Result  TempHumid  \\\n",
       "0    7/1/14     sunny           85        85  False  Don't Play        170   \n",
       "1    7/2/14     sunny           80        90   True  Don't Play        170   \n",
       "2    7/3/14  overcast           83        78  False        Play        161   \n",
       "3    7/4/14      rain           70        96  False        Play        166   \n",
       "4    7/5/14      rain           68        80  False        Play        148   \n",
       "5    7/6/14      rain           65        70   True  Don't Play        135   \n",
       "6    7/7/14  overcast           64        65   True        Play        129   \n",
       "7    7/8/14     sunny           72        95  False  Don't Play        167   \n",
       "8    7/9/14     sunny           69        70  False        Play        139   \n",
       "9   7/10/14      rain           75        80  False        Play        155   \n",
       "10  7/11/14     sunny           75        70   True        Play        145   \n",
       "11  7/12/14  overcast           72        90   True        Play        162   \n",
       "12  7/13/14  overcast           81        75  False        Play        156   \n",
       "13  7/14/14      rain           71        80   True  Don't Play        151   \n",
       "\n",
       "    HeatIndex day  \n",
       "0   98.004631   1  \n",
       "1   84.474400   2  \n",
       "2   89.669911   3  \n",
       "3   62.847024   4  \n",
       "4   69.089776   5  \n",
       "5   73.668025   6  \n",
       "6   75.987116   7  \n",
       "7   66.247396   8  \n",
       "8   72.843649   9  \n",
       "9   74.557000  10  \n",
       "10  75.777625  11  \n",
       "11  68.106944  12  \n",
       "12  84.523441  13  \n",
       "13  70.486984  14  "
      ]
     },
     "execution_count": 93,
     "metadata": {},
     "output_type": "execute_result"
    }
   ],
   "source": [
    "golf_df['day'] = golf_df['Date'].apply(lambda x: x.split('/')[1])\n",
    "golf_df"
   ]
  },
  {
   "cell_type": "markdown",
   "metadata": {},
   "source": [
    "lambda es sólo una forma de hacer una función. También podemos aplicar una función previamente definida."
   ]
  },
  {
   "cell_type": "code",
   "execution_count": 94,
   "metadata": {},
   "outputs": [
    {
     "data": {
      "text/plain": [
       "0      1\n",
       "1      2\n",
       "2      3\n",
       "3      4\n",
       "4      5\n",
       "5      6\n",
       "6      7\n",
       "7      8\n",
       "8      9\n",
       "9     10\n",
       "10    11\n",
       "11    12\n",
       "12    13\n",
       "13    14\n",
       "Name: Date, dtype: object"
      ]
     },
     "execution_count": 94,
     "metadata": {},
     "output_type": "execute_result"
    }
   ],
   "source": [
    "def get_day(x):\n",
    "    return x.split('/')[1]\n",
    "\n",
    "golf_df['Date'].apply(get_day)"
   ]
  },
  {
   "cell_type": "markdown",
   "metadata": {},
   "source": [
    "Es posible aplicar una función a cada fila del DataFrame especificando la columna y su eje=1"
   ]
  },
  {
   "cell_type": "code",
   "execution_count": 95,
   "metadata": {},
   "outputs": [
    {
     "data": {
      "text/plain": [
       "0     170\n",
       "1     170\n",
       "2     161\n",
       "3     166\n",
       "4     148\n",
       "5     135\n",
       "6     129\n",
       "7     167\n",
       "8     139\n",
       "9     155\n",
       "10    145\n",
       "11    162\n",
       "12    156\n",
       "13    151\n",
       "dtype: int64"
      ]
     },
     "execution_count": 95,
     "metadata": {},
     "output_type": "execute_result"
    }
   ],
   "source": [
    "golf_df.apply(lambda x: x['Temperature'] + x['Humidity'], axis=1)"
   ]
  },
  {
   "cell_type": "markdown",
   "metadata": {},
   "source": [
    "En general, `.apply` es útil para mapear funciones complejas en sus datos."
   ]
  },
  {
   "cell_type": "markdown",
   "metadata": {},
   "source": [
    "### 32.- Crear una columna 'report_card' que muestre 'FAILURE' si el 'grade' de un estudiante es menor a 60, y que muestre su calificación si es mayor a 60\n",
    "\n",
    "```python\n",
    ">>> print(students[['grade','height', 'report_card']])\n",
    "          grade  height report_card\n",
    "Tomas        45      34     FAILURE\n",
    "Angel        56      35     FAILURE\n",
    "Stacy        78      36          78\n",
    "Michaela     89      37          89\n",
    "Haden        90      38          90\n",
    "```"
   ]
  },
  {
   "cell_type": "code",
   "execution_count": 96,
   "metadata": {},
   "outputs": [
    {
     "name": "stdout",
     "output_type": "stream",
     "text": [
      "          grade  height report_card\n",
      "Tomas        45      34     FAILURE\n",
      "Angel        56      35     FAILURE\n",
      "Stacy        78      36          78\n",
      "Michaela     89      37          89\n",
      "Haden        90      38          90\n"
     ]
    }
   ],
   "source": [
    "# Funcion y lambda\n",
    "\n",
    "# Función para determinar el resultado\n",
    "def determine_result(grade):\n",
    "    if grade < 60:\n",
    "        return 'FAILURE'\n",
    "    else:\n",
    "        return grade\n",
    "    \n",
    "# Columna\n",
    "students['report_card'] = students['grade'].apply(determine_result)\n",
    "\n",
    "print(students[['grade','height', 'report_card']])"
   ]
  },
  {
   "cell_type": "markdown",
   "metadata": {},
   "source": [
    "### 33.- Crear una columna 'even_height' que muestre 'Even' si su estatura es un numero par, y que muestre 'odd' si su estatura es un número impar.\n",
    "\n",
    "```python\n",
    ">>> print(students[['grade','height', 'even_height']])\n",
    "          grade  height even_height\n",
    "Tomas        45      34        Even\n",
    "Angel        56      35         Odd\n",
    "Stacy        78      36        Even\n",
    "Michaela     89      37         Odd\n",
    "Haden        90      38        Even\n",
    "```"
   ]
  },
  {
   "cell_type": "code",
   "execution_count": 97,
   "metadata": {},
   "outputs": [
    {
     "name": "stdout",
     "output_type": "stream",
     "text": [
      "          grade  height even_height\n",
      "Tomas        45      34        even\n",
      "Angel        56      35         odd\n",
      "Stacy        78      36        even\n",
      "Michaela     89      37         odd\n",
      "Haden        90      38        even\n"
     ]
    }
   ],
   "source": [
    "# Funcion y lambda\n",
    "\n",
    "# Función para determinar el resultado\n",
    "def even_odd(height):\n",
    "    if height % 2 == 0:\n",
    "        return 'even'\n",
    "    else:\n",
    "        return 'odd'\n",
    "    \n",
    "# Columna\n",
    "students['even_height'] = students['height'].apply(even_odd)\n",
    "\n",
    "print(students[['grade','height', 'even_height']])"
   ]
  },
  {
   "cell_type": "markdown",
   "metadata": {},
   "source": [
    "## Agregaciones"
   ]
  },
  {
   "cell_type": "markdown",
   "metadata": {},
   "source": [
    "Existen MUCHOS métodos disponibles para nosotros dentro de cada dataframe. Algunos de ellos son agregaciones, al igual que en numpy."
   ]
  },
  {
   "cell_type": "code",
   "execution_count": 98,
   "metadata": {},
   "outputs": [
    {
     "data": {
      "text/plain": [
       "Date           14\n",
       "Outlook        14\n",
       "Temperature    14\n",
       "Humidity       14\n",
       "Windy          14\n",
       "Result         14\n",
       "TempHumid      14\n",
       "HeatIndex      14\n",
       "day            14\n",
       "dtype: int64"
      ]
     },
     "execution_count": 98,
     "metadata": {},
     "output_type": "execute_result"
    }
   ],
   "source": [
    "golf_df.count() #Cuenta items que no son None"
   ]
  },
  {
   "cell_type": "code",
   "execution_count": 99,
   "metadata": {},
   "outputs": [
    {
     "data": {
      "text/plain": [
       "0     9\n",
       "1     9\n",
       "2     9\n",
       "3     9\n",
       "4     9\n",
       "5     9\n",
       "6     9\n",
       "7     9\n",
       "8     9\n",
       "9     9\n",
       "10    9\n",
       "11    9\n",
       "12    9\n",
       "13    9\n",
       "dtype: int64"
      ]
     },
     "execution_count": 99,
     "metadata": {},
     "output_type": "execute_result"
    }
   ],
   "source": [
    "golf_df.count(axis=1)"
   ]
  },
  {
   "cell_type": "code",
   "execution_count": 100,
   "metadata": {},
   "outputs": [
    {
     "data": {
      "text/plain": [
       "Temperature    7.357143e+01\n",
       "Humidity       8.028571e+01\n",
       "Windy          4.285714e-01\n",
       "TempHumid      1.538571e+02\n",
       "HeatIndex      7.616314e+01\n",
       "day            8.818342e+16\n",
       "dtype: float64"
      ]
     },
     "execution_count": 100,
     "metadata": {},
     "output_type": "execute_result"
    }
   ],
   "source": [
    "golf_df.mean()"
   ]
  },
  {
   "cell_type": "code",
   "execution_count": 101,
   "metadata": {},
   "outputs": [
    {
     "data": {
      "text/plain": [
       "Date           7/1/147/2/147/3/147/4/147/5/147/6/147/7/147/8/...\n",
       "Outlook        sunnysunnyovercastrainrainrainovercastsunnysun...\n",
       "Temperature                                                 1030\n",
       "Humidity                                                    1124\n",
       "Windy                                                          6\n",
       "Result         Don't PlayDon't PlayPlayPlayPlayDon't PlayPlay...\n",
       "TempHumid                                                   2154\n",
       "HeatIndex                                                1066.28\n",
       "day                                          1234567891011121314\n",
       "dtype: object"
      ]
     },
     "execution_count": 101,
     "metadata": {},
     "output_type": "execute_result"
    }
   ],
   "source": [
    "golf_df.sum()"
   ]
  },
  {
   "cell_type": "code",
   "execution_count": 102,
   "metadata": {},
   "outputs": [
    {
     "data": {
      "text/plain": [
       "Date               7/1/14\n",
       "Outlook          overcast\n",
       "Temperature            64\n",
       "Humidity               65\n",
       "Windy               False\n",
       "Result         Don't Play\n",
       "TempHumid             129\n",
       "HeatIndex          62.847\n",
       "day                     1\n",
       "dtype: object"
      ]
     },
     "execution_count": 102,
     "metadata": {},
     "output_type": "execute_result"
    }
   ],
   "source": [
    "golf_df.aggregate(min)"
   ]
  },
  {
   "cell_type": "markdown",
   "metadata": {},
   "source": [
    "¿Qué pasa si queremos calcular la temperatura mínima en días nublados, lluviosos o soleados? \n",
    "\n",
    "¡Usamos una sentencia groupby! Como en sql."
   ]
  },
  {
   "cell_type": "code",
   "execution_count": 103,
   "metadata": {},
   "outputs": [
    {
     "data": {
      "text/html": [
       "<div>\n",
       "<style scoped>\n",
       "    .dataframe tbody tr th:only-of-type {\n",
       "        vertical-align: middle;\n",
       "    }\n",
       "\n",
       "    .dataframe tbody tr th {\n",
       "        vertical-align: top;\n",
       "    }\n",
       "\n",
       "    .dataframe thead th {\n",
       "        text-align: right;\n",
       "    }\n",
       "</style>\n",
       "<table border=\"1\" class=\"dataframe\">\n",
       "  <thead>\n",
       "    <tr style=\"text-align: right;\">\n",
       "      <th></th>\n",
       "      <th>Date</th>\n",
       "      <th>Temperature</th>\n",
       "      <th>Humidity</th>\n",
       "      <th>Windy</th>\n",
       "      <th>Result</th>\n",
       "      <th>TempHumid</th>\n",
       "      <th>HeatIndex</th>\n",
       "      <th>day</th>\n",
       "    </tr>\n",
       "    <tr>\n",
       "      <th>Outlook</th>\n",
       "      <th></th>\n",
       "      <th></th>\n",
       "      <th></th>\n",
       "      <th></th>\n",
       "      <th></th>\n",
       "      <th></th>\n",
       "      <th></th>\n",
       "      <th></th>\n",
       "    </tr>\n",
       "  </thead>\n",
       "  <tbody>\n",
       "    <tr>\n",
       "      <th>overcast</th>\n",
       "      <td>7/12/14</td>\n",
       "      <td>64</td>\n",
       "      <td>65</td>\n",
       "      <td>False</td>\n",
       "      <td>Play</td>\n",
       "      <td>129</td>\n",
       "      <td>68.106944</td>\n",
       "      <td>12</td>\n",
       "    </tr>\n",
       "    <tr>\n",
       "      <th>rain</th>\n",
       "      <td>7/10/14</td>\n",
       "      <td>65</td>\n",
       "      <td>70</td>\n",
       "      <td>False</td>\n",
       "      <td>Don't Play</td>\n",
       "      <td>135</td>\n",
       "      <td>62.847024</td>\n",
       "      <td>10</td>\n",
       "    </tr>\n",
       "    <tr>\n",
       "      <th>sunny</th>\n",
       "      <td>7/1/14</td>\n",
       "      <td>69</td>\n",
       "      <td>70</td>\n",
       "      <td>False</td>\n",
       "      <td>Don't Play</td>\n",
       "      <td>139</td>\n",
       "      <td>66.247396</td>\n",
       "      <td>1</td>\n",
       "    </tr>\n",
       "  </tbody>\n",
       "</table>\n",
       "</div>"
      ],
      "text/plain": [
       "             Date  Temperature  Humidity  Windy      Result  TempHumid  \\\n",
       "Outlook                                                                  \n",
       "overcast  7/12/14           64        65  False        Play        129   \n",
       "rain      7/10/14           65        70  False  Don't Play        135   \n",
       "sunny      7/1/14           69        70  False  Don't Play        139   \n",
       "\n",
       "          HeatIndex day  \n",
       "Outlook                  \n",
       "overcast  68.106944  12  \n",
       "rain      62.847024  10  \n",
       "sunny     66.247396   1  "
      ]
     },
     "execution_count": 103,
     "metadata": {},
     "output_type": "execute_result"
    }
   ],
   "source": [
    "golf_df.groupby('Outlook').aggregate(min)"
   ]
  },
  {
   "cell_type": "markdown",
   "metadata": {},
   "source": [
    "Esto toma el mínimo de cada __Outlook__ de *cada* otra columna. ¡Y ahora __Outlook__ es el índice! \n",
    "\n",
    "Veamos lo que nos interesa, la temperatura."
   ]
  },
  {
   "cell_type": "code",
   "execution_count": 104,
   "metadata": {},
   "outputs": [
    {
     "data": {
      "text/html": [
       "<div>\n",
       "<style scoped>\n",
       "    .dataframe tbody tr th:only-of-type {\n",
       "        vertical-align: middle;\n",
       "    }\n",
       "\n",
       "    .dataframe tbody tr th {\n",
       "        vertical-align: top;\n",
       "    }\n",
       "\n",
       "    .dataframe thead th {\n",
       "        text-align: right;\n",
       "    }\n",
       "</style>\n",
       "<table border=\"1\" class=\"dataframe\">\n",
       "  <thead>\n",
       "    <tr style=\"text-align: right;\">\n",
       "      <th></th>\n",
       "      <th>Temperature</th>\n",
       "    </tr>\n",
       "    <tr>\n",
       "      <th>Outlook</th>\n",
       "      <th></th>\n",
       "    </tr>\n",
       "  </thead>\n",
       "  <tbody>\n",
       "    <tr>\n",
       "      <th>overcast</th>\n",
       "      <td>64</td>\n",
       "    </tr>\n",
       "    <tr>\n",
       "      <th>rain</th>\n",
       "      <td>65</td>\n",
       "    </tr>\n",
       "    <tr>\n",
       "      <th>sunny</th>\n",
       "      <td>69</td>\n",
       "    </tr>\n",
       "  </tbody>\n",
       "</table>\n",
       "</div>"
      ],
      "text/plain": [
       "          Temperature\n",
       "Outlook              \n",
       "overcast           64\n",
       "rain               65\n",
       "sunny              69"
      ]
     },
     "execution_count": 104,
     "metadata": {},
     "output_type": "execute_result"
    }
   ],
   "source": [
    "golf_df.groupby('Outlook').aggregate(min)[['Temperature']]"
   ]
  },
  {
   "cell_type": "markdown",
   "metadata": {},
   "source": [
    "### 34.- Calcular los datos promedio de clima para cada Outlook.\n",
    "\n",
    "```python\n",
    "          Temperature  Humidity  Windy  TempHumid  HeatIndex\n",
    "Outlook                                                     \n",
    "overcast         75.0      77.0    0.5      152.0  79.571853\n",
    "rain             69.8      81.2    0.4      151.0  70.129762\n",
    "sunny            76.2      82.0    0.4      158.2  79.469540\n",
    "```"
   ]
  },
  {
   "cell_type": "code",
   "execution_count": 105,
   "metadata": {},
   "outputs": [
    {
     "data": {
      "text/html": [
       "<div>\n",
       "<style scoped>\n",
       "    .dataframe tbody tr th:only-of-type {\n",
       "        vertical-align: middle;\n",
       "    }\n",
       "\n",
       "    .dataframe tbody tr th {\n",
       "        vertical-align: top;\n",
       "    }\n",
       "\n",
       "    .dataframe thead th {\n",
       "        text-align: right;\n",
       "    }\n",
       "</style>\n",
       "<table border=\"1\" class=\"dataframe\">\n",
       "  <thead>\n",
       "    <tr style=\"text-align: right;\">\n",
       "      <th></th>\n",
       "      <th>Temperature</th>\n",
       "      <th>Humidity</th>\n",
       "      <th>Windy</th>\n",
       "      <th>TempHumid</th>\n",
       "      <th>HeatIndex</th>\n",
       "    </tr>\n",
       "    <tr>\n",
       "      <th>Outlook</th>\n",
       "      <th></th>\n",
       "      <th></th>\n",
       "      <th></th>\n",
       "      <th></th>\n",
       "      <th></th>\n",
       "    </tr>\n",
       "  </thead>\n",
       "  <tbody>\n",
       "    <tr>\n",
       "      <th>overcast</th>\n",
       "      <td>75.0</td>\n",
       "      <td>77.0</td>\n",
       "      <td>0.5</td>\n",
       "      <td>152.0</td>\n",
       "      <td>79.571853</td>\n",
       "    </tr>\n",
       "    <tr>\n",
       "      <th>rain</th>\n",
       "      <td>69.8</td>\n",
       "      <td>81.2</td>\n",
       "      <td>0.4</td>\n",
       "      <td>151.0</td>\n",
       "      <td>70.129762</td>\n",
       "    </tr>\n",
       "    <tr>\n",
       "      <th>sunny</th>\n",
       "      <td>76.2</td>\n",
       "      <td>82.0</td>\n",
       "      <td>0.4</td>\n",
       "      <td>158.2</td>\n",
       "      <td>79.469540</td>\n",
       "    </tr>\n",
       "  </tbody>\n",
       "</table>\n",
       "</div>"
      ],
      "text/plain": [
       "          Temperature  Humidity  Windy  TempHumid  HeatIndex\n",
       "Outlook                                                     \n",
       "overcast         75.0      77.0    0.5      152.0  79.571853\n",
       "rain             69.8      81.2    0.4      151.0  70.129762\n",
       "sunny            76.2      82.0    0.4      158.2  79.469540"
      ]
     },
     "execution_count": 105,
     "metadata": {},
     "output_type": "execute_result"
    }
   ],
   "source": [
    "# Agrupacion por media\n",
    "golf_df.groupby('Outlook').mean()"
   ]
  },
  {
   "cell_type": "markdown",
   "metadata": {},
   "source": [
    "### 35.- Calcular la temperatura Máxima en días windy y non-windy\n",
    "\n",
    "```python\n",
    "Windy\n",
    "False    85\n",
    "True     80\n",
    "```"
   ]
  },
  {
   "cell_type": "code",
   "execution_count": 131,
   "metadata": {},
   "outputs": [
    {
     "data": {
      "text/plain": [
       "Windy\n",
       "False    85\n",
       "True     80\n",
       "Name: Temperature, dtype: int64"
      ]
     },
     "execution_count": 131,
     "metadata": {},
     "output_type": "execute_result"
    }
   ],
   "source": [
    "# Agrupacion por media\n",
    "golf_df.groupby('Windy')['Temperature'].max()"
   ]
  },
  {
   "cell_type": "markdown",
   "metadata": {},
   "source": [
    "Documentación de ayuda para groupby: http://pandas.pydata.org/pandas-docs/stable/groupby.html\n",
    "\n"
   ]
  },
  {
   "cell_type": "markdown",
   "metadata": {},
   "source": [
    "## Summaries"
   ]
  },
  {
   "cell_type": "markdown",
   "metadata": {},
   "source": [
    "`info` funciona para revisar los tipos de datos por columna y revisar al mismo tiempo si existen NaN's"
   ]
  },
  {
   "cell_type": "code",
   "execution_count": 132,
   "metadata": {},
   "outputs": [
    {
     "name": "stdout",
     "output_type": "stream",
     "text": [
      "<class 'pandas.core.frame.DataFrame'>\n",
      "RangeIndex: 14 entries, 0 to 13\n",
      "Data columns (total 10 columns):\n",
      " #   Column       Non-Null Count  Dtype         \n",
      "---  ------       --------------  -----         \n",
      " 0   Date         14 non-null     object        \n",
      " 1   Outlook      14 non-null     object        \n",
      " 2   Temperature  14 non-null     int64         \n",
      " 3   Humidity     14 non-null     int64         \n",
      " 4   Windy        14 non-null     bool          \n",
      " 5   Result       14 non-null     object        \n",
      " 6   TempHumid    14 non-null     int64         \n",
      " 7   HeatIndex    14 non-null     float64       \n",
      " 8   day          14 non-null     object        \n",
      " 9   DateTime     14 non-null     datetime64[ns]\n",
      "dtypes: bool(1), datetime64[ns](1), float64(1), int64(3), object(4)\n",
      "memory usage: 1.1+ KB\n"
     ]
    }
   ],
   "source": [
    "golf_df.info()"
   ]
  },
  {
   "cell_type": "markdown",
   "metadata": {},
   "source": [
    "`describe` brinda un análisis descriptivo básico"
   ]
  },
  {
   "cell_type": "code",
   "execution_count": 133,
   "metadata": {},
   "outputs": [
    {
     "data": {
      "text/html": [
       "<div>\n",
       "<style scoped>\n",
       "    .dataframe tbody tr th:only-of-type {\n",
       "        vertical-align: middle;\n",
       "    }\n",
       "\n",
       "    .dataframe tbody tr th {\n",
       "        vertical-align: top;\n",
       "    }\n",
       "\n",
       "    .dataframe thead th {\n",
       "        text-align: right;\n",
       "    }\n",
       "</style>\n",
       "<table border=\"1\" class=\"dataframe\">\n",
       "  <thead>\n",
       "    <tr style=\"text-align: right;\">\n",
       "      <th></th>\n",
       "      <th>Temperature</th>\n",
       "      <th>Humidity</th>\n",
       "      <th>TempHumid</th>\n",
       "      <th>HeatIndex</th>\n",
       "    </tr>\n",
       "  </thead>\n",
       "  <tbody>\n",
       "    <tr>\n",
       "      <th>count</th>\n",
       "      <td>14.000000</td>\n",
       "      <td>14.000000</td>\n",
       "      <td>14.000000</td>\n",
       "      <td>14.000000</td>\n",
       "    </tr>\n",
       "    <tr>\n",
       "      <th>mean</th>\n",
       "      <td>73.571429</td>\n",
       "      <td>80.285714</td>\n",
       "      <td>153.857143</td>\n",
       "      <td>76.163137</td>\n",
       "    </tr>\n",
       "    <tr>\n",
       "      <th>std</th>\n",
       "      <td>6.571667</td>\n",
       "      <td>9.840486</td>\n",
       "      <td>13.242456</td>\n",
       "      <td>9.771440</td>\n",
       "    </tr>\n",
       "    <tr>\n",
       "      <th>min</th>\n",
       "      <td>64.000000</td>\n",
       "      <td>65.000000</td>\n",
       "      <td>129.000000</td>\n",
       "      <td>62.847024</td>\n",
       "    </tr>\n",
       "    <tr>\n",
       "      <th>25%</th>\n",
       "      <td>69.250000</td>\n",
       "      <td>71.250000</td>\n",
       "      <td>145.750000</td>\n",
       "      <td>69.439078</td>\n",
       "    </tr>\n",
       "    <tr>\n",
       "      <th>50%</th>\n",
       "      <td>72.000000</td>\n",
       "      <td>80.000000</td>\n",
       "      <td>155.500000</td>\n",
       "      <td>74.112513</td>\n",
       "    </tr>\n",
       "    <tr>\n",
       "      <th>75%</th>\n",
       "      <td>78.750000</td>\n",
       "      <td>88.750000</td>\n",
       "      <td>165.000000</td>\n",
       "      <td>82.352579</td>\n",
       "    </tr>\n",
       "    <tr>\n",
       "      <th>max</th>\n",
       "      <td>85.000000</td>\n",
       "      <td>96.000000</td>\n",
       "      <td>170.000000</td>\n",
       "      <td>98.004631</td>\n",
       "    </tr>\n",
       "  </tbody>\n",
       "</table>\n",
       "</div>"
      ],
      "text/plain": [
       "       Temperature   Humidity   TempHumid  HeatIndex\n",
       "count    14.000000  14.000000   14.000000  14.000000\n",
       "mean     73.571429  80.285714  153.857143  76.163137\n",
       "std       6.571667   9.840486   13.242456   9.771440\n",
       "min      64.000000  65.000000  129.000000  62.847024\n",
       "25%      69.250000  71.250000  145.750000  69.439078\n",
       "50%      72.000000  80.000000  155.500000  74.112513\n",
       "75%      78.750000  88.750000  165.000000  82.352579\n",
       "max      85.000000  96.000000  170.000000  98.004631"
      ]
     },
     "execution_count": 133,
     "metadata": {},
     "output_type": "execute_result"
    }
   ],
   "source": [
    "golf_df.describe()"
   ]
  },
  {
   "cell_type": "markdown",
   "metadata": {},
   "source": [
    "### 36.- Qué columna de wine_quality_white tiene la mayor desviación estándar?"
   ]
  },
  {
   "cell_type": "code",
   "execution_count": 140,
   "metadata": {},
   "outputs": [
    {
     "data": {
      "text/plain": [
       "'total sulfur dioxide'"
      ]
     },
     "execution_count": 140,
     "metadata": {},
     "output_type": "execute_result"
    }
   ],
   "source": [
    "wine_quality_white.describe().idxmax(axis=1)['std']"
   ]
  },
  {
   "cell_type": "markdown",
   "metadata": {},
   "source": [
    "### 37.- Qué columnas son enteros en wine_quality_white?\n"
   ]
  },
  {
   "cell_type": "code",
   "execution_count": 154,
   "metadata": {},
   "outputs": [
    {
     "data": {
      "text/plain": [
       "Index(['quality'], dtype='object')"
      ]
     },
     "execution_count": 154,
     "metadata": {},
     "output_type": "execute_result"
    }
   ],
   "source": [
    "wine_quality_white.select_dtypes(include='int64').columns"
   ]
  },
  {
   "cell_type": "markdown",
   "metadata": {},
   "source": [
    "### 38.- Qué columna tiene el percentil 75 más bajo?"
   ]
  },
  {
   "cell_type": "code",
   "execution_count": 148,
   "metadata": {},
   "outputs": [
    {
     "data": {
      "text/plain": [
       "'chlorides'"
      ]
     },
     "execution_count": 148,
     "metadata": {},
     "output_type": "execute_result"
    }
   ],
   "source": [
    "wine_quality_white.describe().idxmin(axis=1)['75%']"
   ]
  },
  {
   "cell_type": "markdown",
   "metadata": {},
   "source": [
    "## Crosstab"
   ]
  },
  {
   "cell_type": "markdown",
   "metadata": {},
   "source": [
    "`crosstab` devuelve un conteo de frecuencia entre dos columnas"
   ]
  },
  {
   "cell_type": "code",
   "execution_count": 155,
   "metadata": {},
   "outputs": [
    {
     "data": {
      "text/html": [
       "<div>\n",
       "<style scoped>\n",
       "    .dataframe tbody tr th:only-of-type {\n",
       "        vertical-align: middle;\n",
       "    }\n",
       "\n",
       "    .dataframe tbody tr th {\n",
       "        vertical-align: top;\n",
       "    }\n",
       "\n",
       "    .dataframe thead th {\n",
       "        text-align: right;\n",
       "    }\n",
       "</style>\n",
       "<table border=\"1\" class=\"dataframe\">\n",
       "  <thead>\n",
       "    <tr style=\"text-align: right;\">\n",
       "      <th>Result</th>\n",
       "      <th>Don't Play</th>\n",
       "      <th>Play</th>\n",
       "    </tr>\n",
       "    <tr>\n",
       "      <th>Outlook</th>\n",
       "      <th></th>\n",
       "      <th></th>\n",
       "    </tr>\n",
       "  </thead>\n",
       "  <tbody>\n",
       "    <tr>\n",
       "      <th>overcast</th>\n",
       "      <td>0</td>\n",
       "      <td>4</td>\n",
       "    </tr>\n",
       "    <tr>\n",
       "      <th>rain</th>\n",
       "      <td>2</td>\n",
       "      <td>3</td>\n",
       "    </tr>\n",
       "    <tr>\n",
       "      <th>sunny</th>\n",
       "      <td>3</td>\n",
       "      <td>2</td>\n",
       "    </tr>\n",
       "  </tbody>\n",
       "</table>\n",
       "</div>"
      ],
      "text/plain": [
       "Result    Don't Play  Play\n",
       "Outlook                   \n",
       "overcast           0     4\n",
       "rain               2     3\n",
       "sunny              3     2"
      ]
     },
     "execution_count": 155,
     "metadata": {},
     "output_type": "execute_result"
    }
   ],
   "source": [
    "pd.crosstab(golf_df['Outlook'], golf_df['Result'])"
   ]
  },
  {
   "cell_type": "markdown",
   "metadata": {},
   "source": [
    "## DateTimes"
   ]
  },
  {
   "cell_type": "markdown",
   "metadata": {},
   "source": [
    "Para convertir cadenas de texto a una columna de tipo fecha se utiliza la función `to_datetime`"
   ]
  },
  {
   "cell_type": "code",
   "execution_count": 156,
   "metadata": {},
   "outputs": [
    {
     "data": {
      "text/plain": [
       "0    2014-07-01\n",
       "1    2014-07-02\n",
       "2    2014-07-03\n",
       "3    2014-07-04\n",
       "4    2014-07-05\n",
       "5    2014-07-06\n",
       "6    2014-07-07\n",
       "7    2014-07-08\n",
       "8    2014-07-09\n",
       "9    2014-07-10\n",
       "10   2014-07-11\n",
       "11   2014-07-12\n",
       "12   2014-07-13\n",
       "13   2014-07-14\n",
       "Name: DateTime, dtype: datetime64[ns]"
      ]
     },
     "execution_count": 156,
     "metadata": {},
     "output_type": "execute_result"
    }
   ],
   "source": [
    "golf_df['DateTime'] = pd.to_datetime(golf_df['Date'])\n",
    "golf_df['DateTime']"
   ]
  },
  {
   "cell_type": "markdown",
   "metadata": {},
   "source": [
    "`day` vs `dayofweek` "
   ]
  },
  {
   "cell_type": "code",
   "execution_count": 157,
   "metadata": {},
   "outputs": [
    {
     "data": {
      "text/plain": [
       "0      1\n",
       "1      2\n",
       "2      3\n",
       "3      4\n",
       "4      5\n",
       "5      6\n",
       "6      7\n",
       "7      8\n",
       "8      9\n",
       "9     10\n",
       "10    11\n",
       "11    12\n",
       "12    13\n",
       "13    14\n",
       "Name: DateTime, dtype: int64"
      ]
     },
     "execution_count": 157,
     "metadata": {},
     "output_type": "execute_result"
    }
   ],
   "source": [
    "golf_df['DateTime'].dt.day"
   ]
  },
  {
   "cell_type": "code",
   "execution_count": 158,
   "metadata": {},
   "outputs": [
    {
     "data": {
      "text/plain": [
       "0     1\n",
       "1     2\n",
       "2     3\n",
       "3     4\n",
       "4     5\n",
       "5     6\n",
       "6     0\n",
       "7     1\n",
       "8     2\n",
       "9     3\n",
       "10    4\n",
       "11    5\n",
       "12    6\n",
       "13    0\n",
       "Name: DateTime, dtype: int64"
      ]
     },
     "execution_count": 158,
     "metadata": {},
     "output_type": "execute_result"
    }
   ],
   "source": [
    "golf_df['DateTime'].dt.dayofweek"
   ]
  },
  {
   "cell_type": "markdown",
   "metadata": {},
   "source": [
    "Month"
   ]
  },
  {
   "cell_type": "code",
   "execution_count": 159,
   "metadata": {},
   "outputs": [
    {
     "data": {
      "text/plain": [
       "0     7\n",
       "1     7\n",
       "2     7\n",
       "3     7\n",
       "4     7\n",
       "5     7\n",
       "6     7\n",
       "7     7\n",
       "8     7\n",
       "9     7\n",
       "10    7\n",
       "11    7\n",
       "12    7\n",
       "13    7\n",
       "Name: DateTime, dtype: int64"
      ]
     },
     "execution_count": 159,
     "metadata": {},
     "output_type": "execute_result"
    }
   ],
   "source": [
    "golf_df['DateTime'].dt.month"
   ]
  },
  {
   "cell_type": "markdown",
   "metadata": {},
   "source": [
    "Operaciones"
   ]
  },
  {
   "cell_type": "code",
   "execution_count": 160,
   "metadata": {},
   "outputs": [
    {
     "data": {
      "text/plain": [
       "Timedelta('-5 days +00:00:00')"
      ]
     },
     "execution_count": 160,
     "metadata": {},
     "output_type": "execute_result"
    }
   ],
   "source": [
    "golf_df['DateTime'][0] - golf_df['DateTime'][5]"
   ]
  },
  {
   "cell_type": "code",
   "execution_count": 161,
   "metadata": {},
   "outputs": [
    {
     "data": {
      "text/plain": [
       "0    0 days\n",
       "1    0 days\n",
       "2    0 days\n",
       "3    0 days\n",
       "4    0 days\n",
       "5    0 days\n",
       "6    0 days\n",
       "7    0 days\n",
       "8    0 days\n",
       "9    0 days\n",
       "10   0 days\n",
       "11   0 days\n",
       "12   0 days\n",
       "13   0 days\n",
       "Name: DateTime, dtype: timedelta64[ns]"
      ]
     },
     "execution_count": 161,
     "metadata": {},
     "output_type": "execute_result"
    }
   ],
   "source": [
    "golf_df['DateTime'] - golf_df['DateTime']"
   ]
  },
  {
   "cell_type": "markdown",
   "metadata": {},
   "source": [
    "### 39.- Calcular el último día de la semana con y sin juego\n",
    "\n",
    "```python\n",
    "Result\n",
    "Don't Play    6\n",
    "Play          6\n",
    "Name: dayofweek, dtype: int64\n",
    "```"
   ]
  },
  {
   "cell_type": "code",
   "execution_count": 167,
   "metadata": {},
   "outputs": [
    {
     "data": {
      "text/html": [
       "<div>\n",
       "<style scoped>\n",
       "    .dataframe tbody tr th:only-of-type {\n",
       "        vertical-align: middle;\n",
       "    }\n",
       "\n",
       "    .dataframe tbody tr th {\n",
       "        vertical-align: top;\n",
       "    }\n",
       "\n",
       "    .dataframe thead th {\n",
       "        text-align: right;\n",
       "    }\n",
       "</style>\n",
       "<table border=\"1\" class=\"dataframe\">\n",
       "  <thead>\n",
       "    <tr style=\"text-align: right;\">\n",
       "      <th></th>\n",
       "      <th></th>\n",
       "    </tr>\n",
       "    <tr>\n",
       "      <th>Result</th>\n",
       "      <th></th>\n",
       "    </tr>\n",
       "  </thead>\n",
       "  <tbody>\n",
       "    <tr>\n",
       "      <th>Don't Play</th>\n",
       "      <td>6</td>\n",
       "    </tr>\n",
       "    <tr>\n",
       "      <th>Play</th>\n",
       "      <td>6</td>\n",
       "    </tr>\n",
       "  </tbody>\n",
       "</table>\n",
       "</div>"
      ],
      "text/plain": [
       "             \n",
       "Result       \n",
       "Don't Play  6\n",
       "Play        6"
      ]
     },
     "execution_count": 167,
     "metadata": {},
     "output_type": "execute_result"
    }
   ],
   "source": [
    "# Ultimo dia con y sin juego\n",
    "golf_df[\" \"] = golf_df['DateTime'].dt.dayofweek.max()\n",
    "golf_df.groupby('Result')[[\" \"]].max()"
   ]
  },
  {
   "cell_type": "markdown",
   "metadata": {},
   "source": [
    "## Cambio de índice"
   ]
  },
  {
   "cell_type": "markdown",
   "metadata": {},
   "source": [
    "Para configurar una columna existente como índice"
   ]
  },
  {
   "cell_type": "code",
   "execution_count": 168,
   "metadata": {},
   "outputs": [
    {
     "data": {
      "text/html": [
       "<div>\n",
       "<style scoped>\n",
       "    .dataframe tbody tr th:only-of-type {\n",
       "        vertical-align: middle;\n",
       "    }\n",
       "\n",
       "    .dataframe tbody tr th {\n",
       "        vertical-align: top;\n",
       "    }\n",
       "\n",
       "    .dataframe thead th {\n",
       "        text-align: right;\n",
       "    }\n",
       "</style>\n",
       "<table border=\"1\" class=\"dataframe\">\n",
       "  <thead>\n",
       "    <tr style=\"text-align: right;\">\n",
       "      <th></th>\n",
       "      <th>Date</th>\n",
       "      <th>Outlook</th>\n",
       "      <th>Temperature</th>\n",
       "      <th>Humidity</th>\n",
       "      <th>Windy</th>\n",
       "      <th>Result</th>\n",
       "      <th>TempHumid</th>\n",
       "      <th>HeatIndex</th>\n",
       "      <th>day</th>\n",
       "      <th></th>\n",
       "    </tr>\n",
       "    <tr>\n",
       "      <th>DateTime</th>\n",
       "      <th></th>\n",
       "      <th></th>\n",
       "      <th></th>\n",
       "      <th></th>\n",
       "      <th></th>\n",
       "      <th></th>\n",
       "      <th></th>\n",
       "      <th></th>\n",
       "      <th></th>\n",
       "      <th></th>\n",
       "    </tr>\n",
       "  </thead>\n",
       "  <tbody>\n",
       "    <tr>\n",
       "      <th>2014-07-01</th>\n",
       "      <td>7/1/14</td>\n",
       "      <td>sunny</td>\n",
       "      <td>85</td>\n",
       "      <td>85</td>\n",
       "      <td>False</td>\n",
       "      <td>Don't Play</td>\n",
       "      <td>170</td>\n",
       "      <td>98.004631</td>\n",
       "      <td>1</td>\n",
       "      <td>6</td>\n",
       "    </tr>\n",
       "    <tr>\n",
       "      <th>2014-07-02</th>\n",
       "      <td>7/2/14</td>\n",
       "      <td>sunny</td>\n",
       "      <td>80</td>\n",
       "      <td>90</td>\n",
       "      <td>True</td>\n",
       "      <td>Don't Play</td>\n",
       "      <td>170</td>\n",
       "      <td>84.474400</td>\n",
       "      <td>2</td>\n",
       "      <td>6</td>\n",
       "    </tr>\n",
       "    <tr>\n",
       "      <th>2014-07-03</th>\n",
       "      <td>7/3/14</td>\n",
       "      <td>overcast</td>\n",
       "      <td>83</td>\n",
       "      <td>78</td>\n",
       "      <td>False</td>\n",
       "      <td>Play</td>\n",
       "      <td>161</td>\n",
       "      <td>89.669911</td>\n",
       "      <td>3</td>\n",
       "      <td>6</td>\n",
       "    </tr>\n",
       "    <tr>\n",
       "      <th>2014-07-04</th>\n",
       "      <td>7/4/14</td>\n",
       "      <td>rain</td>\n",
       "      <td>70</td>\n",
       "      <td>96</td>\n",
       "      <td>False</td>\n",
       "      <td>Play</td>\n",
       "      <td>166</td>\n",
       "      <td>62.847024</td>\n",
       "      <td>4</td>\n",
       "      <td>6</td>\n",
       "    </tr>\n",
       "    <tr>\n",
       "      <th>2014-07-05</th>\n",
       "      <td>7/5/14</td>\n",
       "      <td>rain</td>\n",
       "      <td>68</td>\n",
       "      <td>80</td>\n",
       "      <td>False</td>\n",
       "      <td>Play</td>\n",
       "      <td>148</td>\n",
       "      <td>69.089776</td>\n",
       "      <td>5</td>\n",
       "      <td>6</td>\n",
       "    </tr>\n",
       "    <tr>\n",
       "      <th>2014-07-06</th>\n",
       "      <td>7/6/14</td>\n",
       "      <td>rain</td>\n",
       "      <td>65</td>\n",
       "      <td>70</td>\n",
       "      <td>True</td>\n",
       "      <td>Don't Play</td>\n",
       "      <td>135</td>\n",
       "      <td>73.668025</td>\n",
       "      <td>6</td>\n",
       "      <td>6</td>\n",
       "    </tr>\n",
       "    <tr>\n",
       "      <th>2014-07-07</th>\n",
       "      <td>7/7/14</td>\n",
       "      <td>overcast</td>\n",
       "      <td>64</td>\n",
       "      <td>65</td>\n",
       "      <td>True</td>\n",
       "      <td>Play</td>\n",
       "      <td>129</td>\n",
       "      <td>75.987116</td>\n",
       "      <td>7</td>\n",
       "      <td>6</td>\n",
       "    </tr>\n",
       "    <tr>\n",
       "      <th>2014-07-08</th>\n",
       "      <td>7/8/14</td>\n",
       "      <td>sunny</td>\n",
       "      <td>72</td>\n",
       "      <td>95</td>\n",
       "      <td>False</td>\n",
       "      <td>Don't Play</td>\n",
       "      <td>167</td>\n",
       "      <td>66.247396</td>\n",
       "      <td>8</td>\n",
       "      <td>6</td>\n",
       "    </tr>\n",
       "    <tr>\n",
       "      <th>2014-07-09</th>\n",
       "      <td>7/9/14</td>\n",
       "      <td>sunny</td>\n",
       "      <td>69</td>\n",
       "      <td>70</td>\n",
       "      <td>False</td>\n",
       "      <td>Play</td>\n",
       "      <td>139</td>\n",
       "      <td>72.843649</td>\n",
       "      <td>9</td>\n",
       "      <td>6</td>\n",
       "    </tr>\n",
       "    <tr>\n",
       "      <th>2014-07-10</th>\n",
       "      <td>7/10/14</td>\n",
       "      <td>rain</td>\n",
       "      <td>75</td>\n",
       "      <td>80</td>\n",
       "      <td>False</td>\n",
       "      <td>Play</td>\n",
       "      <td>155</td>\n",
       "      <td>74.557000</td>\n",
       "      <td>10</td>\n",
       "      <td>6</td>\n",
       "    </tr>\n",
       "    <tr>\n",
       "      <th>2014-07-11</th>\n",
       "      <td>7/11/14</td>\n",
       "      <td>sunny</td>\n",
       "      <td>75</td>\n",
       "      <td>70</td>\n",
       "      <td>True</td>\n",
       "      <td>Play</td>\n",
       "      <td>145</td>\n",
       "      <td>75.777625</td>\n",
       "      <td>11</td>\n",
       "      <td>6</td>\n",
       "    </tr>\n",
       "    <tr>\n",
       "      <th>2014-07-12</th>\n",
       "      <td>7/12/14</td>\n",
       "      <td>overcast</td>\n",
       "      <td>72</td>\n",
       "      <td>90</td>\n",
       "      <td>True</td>\n",
       "      <td>Play</td>\n",
       "      <td>162</td>\n",
       "      <td>68.106944</td>\n",
       "      <td>12</td>\n",
       "      <td>6</td>\n",
       "    </tr>\n",
       "    <tr>\n",
       "      <th>2014-07-13</th>\n",
       "      <td>7/13/14</td>\n",
       "      <td>overcast</td>\n",
       "      <td>81</td>\n",
       "      <td>75</td>\n",
       "      <td>False</td>\n",
       "      <td>Play</td>\n",
       "      <td>156</td>\n",
       "      <td>84.523441</td>\n",
       "      <td>13</td>\n",
       "      <td>6</td>\n",
       "    </tr>\n",
       "    <tr>\n",
       "      <th>2014-07-14</th>\n",
       "      <td>7/14/14</td>\n",
       "      <td>rain</td>\n",
       "      <td>71</td>\n",
       "      <td>80</td>\n",
       "      <td>True</td>\n",
       "      <td>Don't Play</td>\n",
       "      <td>151</td>\n",
       "      <td>70.486984</td>\n",
       "      <td>14</td>\n",
       "      <td>6</td>\n",
       "    </tr>\n",
       "  </tbody>\n",
       "</table>\n",
       "</div>"
      ],
      "text/plain": [
       "               Date   Outlook  Temperature  Humidity  Windy      Result  \\\n",
       "DateTime                                                                  \n",
       "2014-07-01   7/1/14     sunny           85        85  False  Don't Play   \n",
       "2014-07-02   7/2/14     sunny           80        90   True  Don't Play   \n",
       "2014-07-03   7/3/14  overcast           83        78  False        Play   \n",
       "2014-07-04   7/4/14      rain           70        96  False        Play   \n",
       "2014-07-05   7/5/14      rain           68        80  False        Play   \n",
       "2014-07-06   7/6/14      rain           65        70   True  Don't Play   \n",
       "2014-07-07   7/7/14  overcast           64        65   True        Play   \n",
       "2014-07-08   7/8/14     sunny           72        95  False  Don't Play   \n",
       "2014-07-09   7/9/14     sunny           69        70  False        Play   \n",
       "2014-07-10  7/10/14      rain           75        80  False        Play   \n",
       "2014-07-11  7/11/14     sunny           75        70   True        Play   \n",
       "2014-07-12  7/12/14  overcast           72        90   True        Play   \n",
       "2014-07-13  7/13/14  overcast           81        75  False        Play   \n",
       "2014-07-14  7/14/14      rain           71        80   True  Don't Play   \n",
       "\n",
       "            TempHumid  HeatIndex day     \n",
       "DateTime                                 \n",
       "2014-07-01        170  98.004631   1  6  \n",
       "2014-07-02        170  84.474400   2  6  \n",
       "2014-07-03        161  89.669911   3  6  \n",
       "2014-07-04        166  62.847024   4  6  \n",
       "2014-07-05        148  69.089776   5  6  \n",
       "2014-07-06        135  73.668025   6  6  \n",
       "2014-07-07        129  75.987116   7  6  \n",
       "2014-07-08        167  66.247396   8  6  \n",
       "2014-07-09        139  72.843649   9  6  \n",
       "2014-07-10        155  74.557000  10  6  \n",
       "2014-07-11        145  75.777625  11  6  \n",
       "2014-07-12        162  68.106944  12  6  \n",
       "2014-07-13        156  84.523441  13  6  \n",
       "2014-07-14        151  70.486984  14  6  "
      ]
     },
     "execution_count": 168,
     "metadata": {},
     "output_type": "execute_result"
    }
   ],
   "source": [
    "date_df = golf_df.set_index('DateTime')\n",
    "date_df"
   ]
  },
  {
   "cell_type": "code",
   "execution_count": 169,
   "metadata": {},
   "outputs": [
    {
     "data": {
      "text/plain": [
       "DatetimeIndex(['2014-07-01', '2014-07-02', '2014-07-03', '2014-07-04',\n",
       "               '2014-07-05', '2014-07-06', '2014-07-07', '2014-07-08',\n",
       "               '2014-07-09', '2014-07-10', '2014-07-11', '2014-07-12',\n",
       "               '2014-07-13', '2014-07-14'],\n",
       "              dtype='datetime64[ns]', name='DateTime', freq=None)"
      ]
     },
     "execution_count": 169,
     "metadata": {},
     "output_type": "execute_result"
    }
   ],
   "source": [
    "date_df.index"
   ]
  },
  {
   "cell_type": "markdown",
   "metadata": {},
   "source": [
    "Si el índice es de tipo datetime se puede utilizar `resample` para hacer agregaciones o cortes"
   ]
  },
  {
   "cell_type": "code",
   "execution_count": 170,
   "metadata": {},
   "outputs": [
    {
     "data": {
      "text/html": [
       "<div>\n",
       "<style scoped>\n",
       "    .dataframe tbody tr th:only-of-type {\n",
       "        vertical-align: middle;\n",
       "    }\n",
       "\n",
       "    .dataframe tbody tr th {\n",
       "        vertical-align: top;\n",
       "    }\n",
       "\n",
       "    .dataframe thead th {\n",
       "        text-align: right;\n",
       "    }\n",
       "</style>\n",
       "<table border=\"1\" class=\"dataframe\">\n",
       "  <thead>\n",
       "    <tr style=\"text-align: right;\">\n",
       "      <th></th>\n",
       "      <th>Temperature</th>\n",
       "      <th>Humidity</th>\n",
       "      <th>Windy</th>\n",
       "      <th>TempHumid</th>\n",
       "      <th>HeatIndex</th>\n",
       "      <th></th>\n",
       "    </tr>\n",
       "    <tr>\n",
       "      <th>DateTime</th>\n",
       "      <th></th>\n",
       "      <th></th>\n",
       "      <th></th>\n",
       "      <th></th>\n",
       "      <th></th>\n",
       "      <th></th>\n",
       "    </tr>\n",
       "  </thead>\n",
       "  <tbody>\n",
       "    <tr>\n",
       "      <th>2014-07-06</th>\n",
       "      <td>75.166667</td>\n",
       "      <td>83.166667</td>\n",
       "      <td>0.333333</td>\n",
       "      <td>158.333333</td>\n",
       "      <td>79.625628</td>\n",
       "      <td>6.0</td>\n",
       "    </tr>\n",
       "    <tr>\n",
       "      <th>2014-07-13</th>\n",
       "      <td>72.571429</td>\n",
       "      <td>77.857143</td>\n",
       "      <td>0.428571</td>\n",
       "      <td>150.428571</td>\n",
       "      <td>74.006167</td>\n",
       "      <td>6.0</td>\n",
       "    </tr>\n",
       "    <tr>\n",
       "      <th>2014-07-20</th>\n",
       "      <td>71.000000</td>\n",
       "      <td>80.000000</td>\n",
       "      <td>1.000000</td>\n",
       "      <td>151.000000</td>\n",
       "      <td>70.486984</td>\n",
       "      <td>6.0</td>\n",
       "    </tr>\n",
       "  </tbody>\n",
       "</table>\n",
       "</div>"
      ],
      "text/plain": [
       "            Temperature   Humidity     Windy   TempHumid  HeatIndex     \n",
       "DateTime                                                                \n",
       "2014-07-06    75.166667  83.166667  0.333333  158.333333  79.625628  6.0\n",
       "2014-07-13    72.571429  77.857143  0.428571  150.428571  74.006167  6.0\n",
       "2014-07-20    71.000000  80.000000  1.000000  151.000000  70.486984  6.0"
      ]
     },
     "execution_count": 170,
     "metadata": {},
     "output_type": "execute_result"
    }
   ],
   "source": [
    "# W de weekly.\n",
    "date_df.resample('W').mean()"
   ]
  },
  {
   "cell_type": "markdown",
   "metadata": {},
   "source": [
    "## Escribir Datos"
   ]
  },
  {
   "cell_type": "markdown",
   "metadata": {},
   "source": [
    "En un archivo csv.\n",
    "\n",
    "```python \n",
    ">>> golf_df.to_csv('new_playgolf.csv', index=False)\n",
    "\n",
    ">>> !cat new_playgolf.csv \n",
    "\n",
    "Date,Outlook,Temperature,Humidity,Windy,Result,TempHumid,HeatIndex,day,DateTime\n",
    "7/1/14,sunny,85,85,False,Don't Play,170,98.0046312500001,1,2014-07-01\n",
    "7/2/14,sunny,80,90,True,Don't Play,170,84.47439999999996,2,2014-07-02\n",
    "7/3/14,overcast,83,78,False,Play,161,89.66991075999985,3,2014-07-03\n",
    "7/4/14,rain,70,96,False,Play,166,62.84702400000019,4,2014-07-04\n",
    "7/5/14,rain,68,80,False,Play,148,69.08977600000006,5,2014-07-05\n",
    "7/6/14,rain,65,70,True,Don't Play,135,73.66802499999999,6,2014-07-06\n",
    "7/7/14,overcast,64,65,True,Play,129,75.9871160000001,7,2014-07-07\n",
    "7/8/14,sunny,72,95,False,Don't Play,167,66.2473960000001,8,2014-07-08\n",
    "7/9/14,sunny,69,70,False,Play,139,72.84364900000003,9,2014-07-09\n",
    "7/10/14,rain,75,80,False,Play,155,74.55700000000012,10,2014-07-10\n",
    "7/11/14,sunny,75,70,True,Play,145,75.777625,11,2014-07-11\n",
    "7/12/14,overcast,72,90,True,Play,162,68.10694399999996,12,2014-07-12\n",
    "7/13/14,overcast,81,75,False,Play,156,84.52344124999973,13,2014-07-13\n",
    "7/14/14,rain,71,80,True,Don't Play,151,70.48698400000002,14,2014-07-14\n",
    "```"
   ]
  },
  {
   "cell_type": "markdown",
   "metadata": {},
   "source": [
    "## Análisis Exploratorio de los Datos"
   ]
  },
  {
   "cell_type": "markdown",
   "metadata": {},
   "source": [
    "### 40.- Efectuar un Análisis Exploratorio (EDA)\n",
    "\n",
    "Abrir el archivo chess_games.csv y responder las siguientes preguntas en cuadros de código separados:\n",
    "\n",
    "1. ¿Cuántas filas de datos tiene?\n",
    "2. ¿Qué representa cada fila?\n",
    "3. ¿Quién ganó más, los blancos o los negros?\n",
    "4. ¿Cuántas jugadas por partida hay en promedio?\n",
    "5. ¿Cuál fue la \"primera jugada\" más probable?\n",
    "6. ¿Cuántas partidas terminan en jaque mate? (la alternativa es la rendición o el tiempo muerto)\n",
    "7. ¿Qué porcentaje de partidas es?\n",
    "8. ¿Cuánto duró la partida media?\n",
    "9. ¿Cuánto duró la partida media que ganaron las blancas? \n",
    "10. ¿Cuánto duró la partida media que fue un empate?\n",
    "11. ¿Qué es un código de incremento?\n",
    "12. Haz tres preguntas propias *por escrito*. Luego contéstalas. (escribimos nuestras preguntas porque si vuelves más tarde olvidarás qué pregunta estabas respondiendo)"
   ]
  },
  {
   "cell_type": "code",
   "execution_count": 173,
   "metadata": {},
   "outputs": [
    {
     "data": {
      "text/html": [
       "<div>\n",
       "<style scoped>\n",
       "    .dataframe tbody tr th:only-of-type {\n",
       "        vertical-align: middle;\n",
       "    }\n",
       "\n",
       "    .dataframe tbody tr th {\n",
       "        vertical-align: top;\n",
       "    }\n",
       "\n",
       "    .dataframe thead th {\n",
       "        text-align: right;\n",
       "    }\n",
       "</style>\n",
       "<table border=\"1\" class=\"dataframe\">\n",
       "  <thead>\n",
       "    <tr style=\"text-align: right;\">\n",
       "      <th></th>\n",
       "      <th>id</th>\n",
       "      <th>rated</th>\n",
       "      <th>created_at</th>\n",
       "      <th>last_move_at</th>\n",
       "      <th>turns</th>\n",
       "      <th>victory_status</th>\n",
       "      <th>winner</th>\n",
       "      <th>increment_code</th>\n",
       "      <th>white_id</th>\n",
       "      <th>white_rating</th>\n",
       "      <th>black_id</th>\n",
       "      <th>black_rating</th>\n",
       "      <th>moves</th>\n",
       "      <th>opening_eco</th>\n",
       "      <th>opening_name</th>\n",
       "      <th>opening_ply</th>\n",
       "    </tr>\n",
       "  </thead>\n",
       "  <tbody>\n",
       "    <tr>\n",
       "      <th>0</th>\n",
       "      <td>TZJHLljE</td>\n",
       "      <td>False</td>\n",
       "      <td>1.504210e+12</td>\n",
       "      <td>1.504210e+12</td>\n",
       "      <td>13</td>\n",
       "      <td>outoftime</td>\n",
       "      <td>white</td>\n",
       "      <td>15+2</td>\n",
       "      <td>bourgris</td>\n",
       "      <td>1500</td>\n",
       "      <td>a-00</td>\n",
       "      <td>1191</td>\n",
       "      <td>d4 d5 c4 c6 cxd5 e6 dxe6 fxe6 Nf3 Bb4+ Nc3 Ba5...</td>\n",
       "      <td>D10</td>\n",
       "      <td>Slav Defense: Exchange Variation</td>\n",
       "      <td>5</td>\n",
       "    </tr>\n",
       "    <tr>\n",
       "      <th>1</th>\n",
       "      <td>l1NXvwaE</td>\n",
       "      <td>True</td>\n",
       "      <td>1.504130e+12</td>\n",
       "      <td>1.504130e+12</td>\n",
       "      <td>16</td>\n",
       "      <td>resign</td>\n",
       "      <td>black</td>\n",
       "      <td>5+10</td>\n",
       "      <td>a-00</td>\n",
       "      <td>1322</td>\n",
       "      <td>skinnerua</td>\n",
       "      <td>1261</td>\n",
       "      <td>d4 Nc6 e4 e5 f4 f6 dxe5 fxe5 fxe5 Nxe5 Qd4 Nc6...</td>\n",
       "      <td>B00</td>\n",
       "      <td>Nimzowitsch Defense: Kennedy Variation</td>\n",
       "      <td>4</td>\n",
       "    </tr>\n",
       "    <tr>\n",
       "      <th>2</th>\n",
       "      <td>mIICvQHh</td>\n",
       "      <td>True</td>\n",
       "      <td>1.504130e+12</td>\n",
       "      <td>1.504130e+12</td>\n",
       "      <td>61</td>\n",
       "      <td>mate</td>\n",
       "      <td>white</td>\n",
       "      <td>5+10</td>\n",
       "      <td>ischia</td>\n",
       "      <td>1496</td>\n",
       "      <td>a-00</td>\n",
       "      <td>1500</td>\n",
       "      <td>e4 e5 d3 d6 Be3 c6 Be2 b5 Nd2 a5 a4 c5 axb5 Nc...</td>\n",
       "      <td>C20</td>\n",
       "      <td>King's Pawn Game: Leonardis Variation</td>\n",
       "      <td>3</td>\n",
       "    </tr>\n",
       "    <tr>\n",
       "      <th>3</th>\n",
       "      <td>kWKvrqYL</td>\n",
       "      <td>True</td>\n",
       "      <td>1.504110e+12</td>\n",
       "      <td>1.504110e+12</td>\n",
       "      <td>61</td>\n",
       "      <td>mate</td>\n",
       "      <td>white</td>\n",
       "      <td>20+0</td>\n",
       "      <td>daniamurashov</td>\n",
       "      <td>1439</td>\n",
       "      <td>adivanov2009</td>\n",
       "      <td>1454</td>\n",
       "      <td>d4 d5 Nf3 Bf5 Nc3 Nf6 Bf4 Ng4 e3 Nc6 Be2 Qd7 O...</td>\n",
       "      <td>D02</td>\n",
       "      <td>Queen's Pawn Game: Zukertort Variation</td>\n",
       "      <td>3</td>\n",
       "    </tr>\n",
       "    <tr>\n",
       "      <th>4</th>\n",
       "      <td>9tXo1AUZ</td>\n",
       "      <td>True</td>\n",
       "      <td>1.504030e+12</td>\n",
       "      <td>1.504030e+12</td>\n",
       "      <td>95</td>\n",
       "      <td>mate</td>\n",
       "      <td>white</td>\n",
       "      <td>30+3</td>\n",
       "      <td>nik221107</td>\n",
       "      <td>1523</td>\n",
       "      <td>adivanov2009</td>\n",
       "      <td>1469</td>\n",
       "      <td>e4 e5 Nf3 d6 d4 Nc6 d5 Nb4 a3 Na6 Nc3 Be7 b4 N...</td>\n",
       "      <td>C41</td>\n",
       "      <td>Philidor Defense</td>\n",
       "      <td>5</td>\n",
       "    </tr>\n",
       "  </tbody>\n",
       "</table>\n",
       "</div>"
      ],
      "text/plain": [
       "         id  rated    created_at  last_move_at  turns victory_status winner  \\\n",
       "0  TZJHLljE  False  1.504210e+12  1.504210e+12     13      outoftime  white   \n",
       "1  l1NXvwaE   True  1.504130e+12  1.504130e+12     16         resign  black   \n",
       "2  mIICvQHh   True  1.504130e+12  1.504130e+12     61           mate  white   \n",
       "3  kWKvrqYL   True  1.504110e+12  1.504110e+12     61           mate  white   \n",
       "4  9tXo1AUZ   True  1.504030e+12  1.504030e+12     95           mate  white   \n",
       "\n",
       "  increment_code       white_id  white_rating      black_id  black_rating  \\\n",
       "0           15+2       bourgris          1500          a-00          1191   \n",
       "1           5+10           a-00          1322     skinnerua          1261   \n",
       "2           5+10         ischia          1496          a-00          1500   \n",
       "3           20+0  daniamurashov          1439  adivanov2009          1454   \n",
       "4           30+3      nik221107          1523  adivanov2009          1469   \n",
       "\n",
       "                                               moves opening_eco  \\\n",
       "0  d4 d5 c4 c6 cxd5 e6 dxe6 fxe6 Nf3 Bb4+ Nc3 Ba5...         D10   \n",
       "1  d4 Nc6 e4 e5 f4 f6 dxe5 fxe5 fxe5 Nxe5 Qd4 Nc6...         B00   \n",
       "2  e4 e5 d3 d6 Be3 c6 Be2 b5 Nd2 a5 a4 c5 axb5 Nc...         C20   \n",
       "3  d4 d5 Nf3 Bf5 Nc3 Nf6 Bf4 Ng4 e3 Nc6 Be2 Qd7 O...         D02   \n",
       "4  e4 e5 Nf3 d6 d4 Nc6 d5 Nb4 a3 Na6 Nc3 Be7 b4 N...         C41   \n",
       "\n",
       "                             opening_name  opening_ply  \n",
       "0        Slav Defense: Exchange Variation            5  \n",
       "1  Nimzowitsch Defense: Kennedy Variation            4  \n",
       "2   King's Pawn Game: Leonardis Variation            3  \n",
       "3  Queen's Pawn Game: Zukertort Variation            3  \n",
       "4                        Philidor Defense            5  "
      ]
     },
     "execution_count": 173,
     "metadata": {},
     "output_type": "execute_result"
    }
   ],
   "source": [
    "# Abrir chess_games\n",
    "chess_df = pd.read_csv(\"files/chess_games.csv\")\n",
    "chess_df.head()"
   ]
  },
  {
   "cell_type": "code",
   "execution_count": 172,
   "metadata": {},
   "outputs": [
    {
     "data": {
      "text/plain": [
       "20058"
      ]
     },
     "execution_count": 172,
     "metadata": {},
     "output_type": "execute_result"
    }
   ],
   "source": [
    "# 1\n",
    "len(chess_df)"
   ]
  },
  {
   "cell_type": "code",
   "execution_count": null,
   "metadata": {},
   "outputs": [],
   "source": [
    "# 2\n",
    "print(\"Cada juego\")"
   ]
  },
  {
   "cell_type": "code",
   "execution_count": 193,
   "metadata": {},
   "outputs": [
    {
     "data": {
      "text/plain": [
       "'white'"
      ]
     },
     "execution_count": 193,
     "metadata": {},
     "output_type": "execute_result"
    }
   ],
   "source": [
    "# 3\n",
    "chess_df.groupby('winner')[['id']].count().idxmax()[0]"
   ]
  },
  {
   "cell_type": "code",
   "execution_count": 185,
   "metadata": {},
   "outputs": [
    {
     "data": {
      "text/plain": [
       "60.47"
      ]
     },
     "execution_count": 185,
     "metadata": {},
     "output_type": "execute_result"
    }
   ],
   "source": [
    "# 4\n",
    "chess_df['turns'].mean().round(2)"
   ]
  },
  {
   "cell_type": "code",
   "execution_count": 194,
   "metadata": {},
   "outputs": [
    {
     "data": {
      "text/plain": [
       "\"Van't Kruijs Opening\""
      ]
     },
     "execution_count": 194,
     "metadata": {},
     "output_type": "execute_result"
    }
   ],
   "source": [
    "# 5\n",
    "chess_df.groupby('opening_name')[['id']].count().idxmax()[0]"
   ]
  },
  {
   "cell_type": "code",
   "execution_count": 195,
   "metadata": {},
   "outputs": [
    {
     "data": {
      "text/plain": [
       "6325"
      ]
     },
     "execution_count": 195,
     "metadata": {},
     "output_type": "execute_result"
    }
   ],
   "source": [
    "# 6\n",
    "chess_df.groupby('victory_status')[['id']].count().loc['mate',:][0]"
   ]
  },
  {
   "cell_type": "code",
   "execution_count": 196,
   "metadata": {},
   "outputs": [
    {
     "data": {
      "text/plain": [
       "0.31533552697178185"
      ]
     },
     "execution_count": 196,
     "metadata": {},
     "output_type": "execute_result"
    }
   ],
   "source": [
    "# 7\n",
    "chess_df.groupby('victory_status')[['id']].count().loc['mate',:][0] / len(chess_df)"
   ]
  },
  {
   "cell_type": "markdown",
   "metadata": {},
   "source": [
    "### 41.- Efectuar un análisis exploratorio\n",
    "\n",
    "Abrir el archivo exo.csv, https://exoplanetarchive.ipac.caltech.edu/docs/API_kepcandidate_columns.html y contestar las siguientes preguntas escribiendo headers, divisiones de celdas e identaciones necesarias\n",
    "\n",
    "1. ¿cuántas filas de datos tiene?\n",
    "2. ¿Qué representa cada fila?\n",
    "3. ¿Cuántos planetas están confirmados?\n",
    "4. ¿Cuál es la temperatura máxima de los planetas?\n",
    "5. ¿Cuál es la temperatura máxima de las estrellas?\n",
    "6. ¿Cuál es la distancia entre el planeta y la estrella?\n",
    "7. ¿Cuántos planetas hay en cada sistema?\n",
    "8. ¿Cuánto varía la temperatura de los planetas?\n",
    "9. ¿Cuánto varían las temperaturas de las estrellas?\n",
    "10. ¿Cuántos NaN hay en cada categoría?\n",
    "11. Haz tres preguntas propias *por escrito*. Luego contéstalas. (escribimos nuestras preguntas porque si vuelves más tarde olvidarás qué pregunta estabas respondiendo)"
   ]
  },
  {
   "cell_type": "code",
   "execution_count": null,
   "metadata": {},
   "outputs": [],
   "source": [
    "# Ya se hizo en el ejercicio 1"
   ]
  },
  {
   "cell_type": "markdown",
   "metadata": {},
   "source": [
    "## Unión de DataFrames\n",
    "\n",
    "Es posible unir DataFrames como se haría en SQL."
   ]
  },
  {
   "cell_type": "markdown",
   "metadata": {},
   "source": [
    "Ejemplo"
   ]
  },
  {
   "cell_type": "code",
   "execution_count": 123,
   "metadata": {},
   "outputs": [
    {
     "data": {
      "text/html": [
       "<div>\n",
       "<style scoped>\n",
       "    .dataframe tbody tr th:only-of-type {\n",
       "        vertical-align: middle;\n",
       "    }\n",
       "\n",
       "    .dataframe tbody tr th {\n",
       "        vertical-align: top;\n",
       "    }\n",
       "\n",
       "    .dataframe thead th {\n",
       "        text-align: right;\n",
       "    }\n",
       "</style>\n",
       "<table border=\"1\" class=\"dataframe\">\n",
       "  <thead>\n",
       "    <tr style=\"text-align: right;\">\n",
       "      <th></th>\n",
       "      <th>Weather</th>\n",
       "      <th>Mood</th>\n",
       "    </tr>\n",
       "  </thead>\n",
       "  <tbody>\n",
       "    <tr>\n",
       "      <th>0</th>\n",
       "      <td>overcast</td>\n",
       "      <td>sad</td>\n",
       "    </tr>\n",
       "    <tr>\n",
       "      <th>1</th>\n",
       "      <td>rainy</td>\n",
       "      <td>sad</td>\n",
       "    </tr>\n",
       "    <tr>\n",
       "      <th>2</th>\n",
       "      <td>sunny</td>\n",
       "      <td>happy</td>\n",
       "    </tr>\n",
       "  </tbody>\n",
       "</table>\n",
       "</div>"
      ],
      "text/plain": [
       "    Weather   Mood\n",
       "0  overcast    sad\n",
       "1     rainy    sad\n",
       "2     sunny  happy"
      ]
     },
     "execution_count": 123,
     "metadata": {},
     "output_type": "execute_result"
    }
   ],
   "source": [
    "mood_df = pd.DataFrame([['overcast', 'sad'], ['rainy', 'sad'], ['sunny', 'happy']],\n",
    "                       columns=['Weather', 'Mood'])\n",
    "\n",
    "mood_df"
   ]
  },
  {
   "cell_type": "code",
   "execution_count": 124,
   "metadata": {},
   "outputs": [
    {
     "data": {
      "text/html": [
       "<div>\n",
       "<style scoped>\n",
       "    .dataframe tbody tr th:only-of-type {\n",
       "        vertical-align: middle;\n",
       "    }\n",
       "\n",
       "    .dataframe tbody tr th {\n",
       "        vertical-align: top;\n",
       "    }\n",
       "\n",
       "    .dataframe thead th {\n",
       "        text-align: right;\n",
       "    }\n",
       "</style>\n",
       "<table border=\"1\" class=\"dataframe\">\n",
       "  <thead>\n",
       "    <tr style=\"text-align: right;\">\n",
       "      <th></th>\n",
       "      <th>Date</th>\n",
       "      <th>Outlook</th>\n",
       "      <th>Temperature</th>\n",
       "      <th>Humidity</th>\n",
       "      <th>Windy</th>\n",
       "      <th>Result</th>\n",
       "      <th>TempHumid</th>\n",
       "      <th>HeatIndex</th>\n",
       "      <th>day</th>\n",
       "      <th>DateTime</th>\n",
       "      <th>Weather</th>\n",
       "      <th>Mood</th>\n",
       "    </tr>\n",
       "  </thead>\n",
       "  <tbody>\n",
       "    <tr>\n",
       "      <th>0</th>\n",
       "      <td>7/1/14</td>\n",
       "      <td>sunny</td>\n",
       "      <td>85</td>\n",
       "      <td>85</td>\n",
       "      <td>False</td>\n",
       "      <td>Don't Play</td>\n",
       "      <td>170</td>\n",
       "      <td>98.004631</td>\n",
       "      <td>1</td>\n",
       "      <td>2014-07-01</td>\n",
       "      <td>sunny</td>\n",
       "      <td>happy</td>\n",
       "    </tr>\n",
       "    <tr>\n",
       "      <th>1</th>\n",
       "      <td>7/2/14</td>\n",
       "      <td>sunny</td>\n",
       "      <td>80</td>\n",
       "      <td>90</td>\n",
       "      <td>True</td>\n",
       "      <td>Don't Play</td>\n",
       "      <td>170</td>\n",
       "      <td>84.474400</td>\n",
       "      <td>2</td>\n",
       "      <td>2014-07-02</td>\n",
       "      <td>sunny</td>\n",
       "      <td>happy</td>\n",
       "    </tr>\n",
       "    <tr>\n",
       "      <th>2</th>\n",
       "      <td>7/8/14</td>\n",
       "      <td>sunny</td>\n",
       "      <td>72</td>\n",
       "      <td>95</td>\n",
       "      <td>False</td>\n",
       "      <td>Don't Play</td>\n",
       "      <td>167</td>\n",
       "      <td>66.247396</td>\n",
       "      <td>8</td>\n",
       "      <td>2014-07-08</td>\n",
       "      <td>sunny</td>\n",
       "      <td>happy</td>\n",
       "    </tr>\n",
       "    <tr>\n",
       "      <th>3</th>\n",
       "      <td>7/9/14</td>\n",
       "      <td>sunny</td>\n",
       "      <td>69</td>\n",
       "      <td>70</td>\n",
       "      <td>False</td>\n",
       "      <td>Play</td>\n",
       "      <td>139</td>\n",
       "      <td>72.843649</td>\n",
       "      <td>9</td>\n",
       "      <td>2014-07-09</td>\n",
       "      <td>sunny</td>\n",
       "      <td>happy</td>\n",
       "    </tr>\n",
       "    <tr>\n",
       "      <th>4</th>\n",
       "      <td>7/11/14</td>\n",
       "      <td>sunny</td>\n",
       "      <td>75</td>\n",
       "      <td>70</td>\n",
       "      <td>True</td>\n",
       "      <td>Play</td>\n",
       "      <td>145</td>\n",
       "      <td>75.777625</td>\n",
       "      <td>11</td>\n",
       "      <td>2014-07-11</td>\n",
       "      <td>sunny</td>\n",
       "      <td>happy</td>\n",
       "    </tr>\n",
       "    <tr>\n",
       "      <th>5</th>\n",
       "      <td>7/3/14</td>\n",
       "      <td>overcast</td>\n",
       "      <td>83</td>\n",
       "      <td>78</td>\n",
       "      <td>False</td>\n",
       "      <td>Play</td>\n",
       "      <td>161</td>\n",
       "      <td>89.669911</td>\n",
       "      <td>3</td>\n",
       "      <td>2014-07-03</td>\n",
       "      <td>overcast</td>\n",
       "      <td>sad</td>\n",
       "    </tr>\n",
       "    <tr>\n",
       "      <th>6</th>\n",
       "      <td>7/7/14</td>\n",
       "      <td>overcast</td>\n",
       "      <td>64</td>\n",
       "      <td>65</td>\n",
       "      <td>True</td>\n",
       "      <td>Play</td>\n",
       "      <td>129</td>\n",
       "      <td>75.987116</td>\n",
       "      <td>7</td>\n",
       "      <td>2014-07-07</td>\n",
       "      <td>overcast</td>\n",
       "      <td>sad</td>\n",
       "    </tr>\n",
       "    <tr>\n",
       "      <th>7</th>\n",
       "      <td>7/12/14</td>\n",
       "      <td>overcast</td>\n",
       "      <td>72</td>\n",
       "      <td>90</td>\n",
       "      <td>True</td>\n",
       "      <td>Play</td>\n",
       "      <td>162</td>\n",
       "      <td>68.106944</td>\n",
       "      <td>12</td>\n",
       "      <td>2014-07-12</td>\n",
       "      <td>overcast</td>\n",
       "      <td>sad</td>\n",
       "    </tr>\n",
       "    <tr>\n",
       "      <th>8</th>\n",
       "      <td>7/13/14</td>\n",
       "      <td>overcast</td>\n",
       "      <td>81</td>\n",
       "      <td>75</td>\n",
       "      <td>False</td>\n",
       "      <td>Play</td>\n",
       "      <td>156</td>\n",
       "      <td>84.523441</td>\n",
       "      <td>13</td>\n",
       "      <td>2014-07-13</td>\n",
       "      <td>overcast</td>\n",
       "      <td>sad</td>\n",
       "    </tr>\n",
       "  </tbody>\n",
       "</table>\n",
       "</div>"
      ],
      "text/plain": [
       "      Date   Outlook  Temperature  Humidity  Windy      Result  TempHumid  \\\n",
       "0   7/1/14     sunny           85        85  False  Don't Play        170   \n",
       "1   7/2/14     sunny           80        90   True  Don't Play        170   \n",
       "2   7/8/14     sunny           72        95  False  Don't Play        167   \n",
       "3   7/9/14     sunny           69        70  False        Play        139   \n",
       "4  7/11/14     sunny           75        70   True        Play        145   \n",
       "5   7/3/14  overcast           83        78  False        Play        161   \n",
       "6   7/7/14  overcast           64        65   True        Play        129   \n",
       "7  7/12/14  overcast           72        90   True        Play        162   \n",
       "8  7/13/14  overcast           81        75  False        Play        156   \n",
       "\n",
       "   HeatIndex day   DateTime   Weather   Mood  \n",
       "0  98.004631   1 2014-07-01     sunny  happy  \n",
       "1  84.474400   2 2014-07-02     sunny  happy  \n",
       "2  66.247396   8 2014-07-08     sunny  happy  \n",
       "3  72.843649   9 2014-07-09     sunny  happy  \n",
       "4  75.777625  11 2014-07-11     sunny  happy  \n",
       "5  89.669911   3 2014-07-03  overcast    sad  \n",
       "6  75.987116   7 2014-07-07  overcast    sad  \n",
       "7  68.106944  12 2014-07-12  overcast    sad  \n",
       "8  84.523441  13 2014-07-13  overcast    sad  "
      ]
     },
     "execution_count": 124,
     "metadata": {},
     "output_type": "execute_result"
    }
   ],
   "source": [
    "golf_df.merge(mood_df, how='inner', left_on='Outlook', right_on='Weather')"
   ]
  },
  {
   "cell_type": "markdown",
   "metadata": {},
   "source": [
    "## Concatenar\n",
    "\n",
    "Este método es equivalente a una unión de SQL"
   ]
  },
  {
   "cell_type": "code",
   "execution_count": 125,
   "metadata": {},
   "outputs": [],
   "source": [
    "df1 = pd.DataFrame(\n",
    "    {'Col3': range(5), 'Col2': range(5), 'Col1': range(5)},\n",
    "    index=range(0, 5))\n",
    "df2 = pd.DataFrame(\n",
    "    {'Col1': range(5), 'Col2': range(5), 'Col4': range(5)},\n",
    "    index=range(3, 8))"
   ]
  },
  {
   "cell_type": "code",
   "execution_count": 126,
   "metadata": {},
   "outputs": [
    {
     "data": {
      "text/html": [
       "<div>\n",
       "<style scoped>\n",
       "    .dataframe tbody tr th:only-of-type {\n",
       "        vertical-align: middle;\n",
       "    }\n",
       "\n",
       "    .dataframe tbody tr th {\n",
       "        vertical-align: top;\n",
       "    }\n",
       "\n",
       "    .dataframe thead th {\n",
       "        text-align: right;\n",
       "    }\n",
       "</style>\n",
       "<table border=\"1\" class=\"dataframe\">\n",
       "  <thead>\n",
       "    <tr style=\"text-align: right;\">\n",
       "      <th></th>\n",
       "      <th>Col3</th>\n",
       "      <th>Col2</th>\n",
       "      <th>Col1</th>\n",
       "    </tr>\n",
       "  </thead>\n",
       "  <tbody>\n",
       "    <tr>\n",
       "      <th>0</th>\n",
       "      <td>0</td>\n",
       "      <td>0</td>\n",
       "      <td>0</td>\n",
       "    </tr>\n",
       "    <tr>\n",
       "      <th>1</th>\n",
       "      <td>1</td>\n",
       "      <td>1</td>\n",
       "      <td>1</td>\n",
       "    </tr>\n",
       "    <tr>\n",
       "      <th>2</th>\n",
       "      <td>2</td>\n",
       "      <td>2</td>\n",
       "      <td>2</td>\n",
       "    </tr>\n",
       "    <tr>\n",
       "      <th>3</th>\n",
       "      <td>3</td>\n",
       "      <td>3</td>\n",
       "      <td>3</td>\n",
       "    </tr>\n",
       "    <tr>\n",
       "      <th>4</th>\n",
       "      <td>4</td>\n",
       "      <td>4</td>\n",
       "      <td>4</td>\n",
       "    </tr>\n",
       "  </tbody>\n",
       "</table>\n",
       "</div>"
      ],
      "text/plain": [
       "   Col3  Col2  Col1\n",
       "0     0     0     0\n",
       "1     1     1     1\n",
       "2     2     2     2\n",
       "3     3     3     3\n",
       "4     4     4     4"
      ]
     },
     "execution_count": 126,
     "metadata": {},
     "output_type": "execute_result"
    }
   ],
   "source": [
    "df1"
   ]
  },
  {
   "cell_type": "code",
   "execution_count": 127,
   "metadata": {},
   "outputs": [
    {
     "data": {
      "text/html": [
       "<div>\n",
       "<style scoped>\n",
       "    .dataframe tbody tr th:only-of-type {\n",
       "        vertical-align: middle;\n",
       "    }\n",
       "\n",
       "    .dataframe tbody tr th {\n",
       "        vertical-align: top;\n",
       "    }\n",
       "\n",
       "    .dataframe thead th {\n",
       "        text-align: right;\n",
       "    }\n",
       "</style>\n",
       "<table border=\"1\" class=\"dataframe\">\n",
       "  <thead>\n",
       "    <tr style=\"text-align: right;\">\n",
       "      <th></th>\n",
       "      <th>Col1</th>\n",
       "      <th>Col2</th>\n",
       "      <th>Col4</th>\n",
       "    </tr>\n",
       "  </thead>\n",
       "  <tbody>\n",
       "    <tr>\n",
       "      <th>3</th>\n",
       "      <td>0</td>\n",
       "      <td>0</td>\n",
       "      <td>0</td>\n",
       "    </tr>\n",
       "    <tr>\n",
       "      <th>4</th>\n",
       "      <td>1</td>\n",
       "      <td>1</td>\n",
       "      <td>1</td>\n",
       "    </tr>\n",
       "    <tr>\n",
       "      <th>5</th>\n",
       "      <td>2</td>\n",
       "      <td>2</td>\n",
       "      <td>2</td>\n",
       "    </tr>\n",
       "    <tr>\n",
       "      <th>6</th>\n",
       "      <td>3</td>\n",
       "      <td>3</td>\n",
       "      <td>3</td>\n",
       "    </tr>\n",
       "    <tr>\n",
       "      <th>7</th>\n",
       "      <td>4</td>\n",
       "      <td>4</td>\n",
       "      <td>4</td>\n",
       "    </tr>\n",
       "  </tbody>\n",
       "</table>\n",
       "</div>"
      ],
      "text/plain": [
       "   Col1  Col2  Col4\n",
       "3     0     0     0\n",
       "4     1     1     1\n",
       "5     2     2     2\n",
       "6     3     3     3\n",
       "7     4     4     4"
      ]
     },
     "execution_count": 127,
     "metadata": {},
     "output_type": "execute_result"
    }
   ],
   "source": [
    "df2"
   ]
  },
  {
   "cell_type": "markdown",
   "metadata": {},
   "source": [
    "#### Vertical\n",
    "`sort` controla el orden de las columnas"
   ]
  },
  {
   "cell_type": "code",
   "execution_count": 128,
   "metadata": {},
   "outputs": [
    {
     "data": {
      "text/html": [
       "<div>\n",
       "<style scoped>\n",
       "    .dataframe tbody tr th:only-of-type {\n",
       "        vertical-align: middle;\n",
       "    }\n",
       "\n",
       "    .dataframe tbody tr th {\n",
       "        vertical-align: top;\n",
       "    }\n",
       "\n",
       "    .dataframe thead th {\n",
       "        text-align: right;\n",
       "    }\n",
       "</style>\n",
       "<table border=\"1\" class=\"dataframe\">\n",
       "  <thead>\n",
       "    <tr style=\"text-align: right;\">\n",
       "      <th></th>\n",
       "      <th>Col1</th>\n",
       "      <th>Col2</th>\n",
       "      <th>Col3</th>\n",
       "      <th>Col4</th>\n",
       "    </tr>\n",
       "  </thead>\n",
       "  <tbody>\n",
       "    <tr>\n",
       "      <th>0</th>\n",
       "      <td>0</td>\n",
       "      <td>0</td>\n",
       "      <td>0.0</td>\n",
       "      <td>NaN</td>\n",
       "    </tr>\n",
       "    <tr>\n",
       "      <th>1</th>\n",
       "      <td>1</td>\n",
       "      <td>1</td>\n",
       "      <td>1.0</td>\n",
       "      <td>NaN</td>\n",
       "    </tr>\n",
       "    <tr>\n",
       "      <th>2</th>\n",
       "      <td>2</td>\n",
       "      <td>2</td>\n",
       "      <td>2.0</td>\n",
       "      <td>NaN</td>\n",
       "    </tr>\n",
       "    <tr>\n",
       "      <th>3</th>\n",
       "      <td>3</td>\n",
       "      <td>3</td>\n",
       "      <td>3.0</td>\n",
       "      <td>NaN</td>\n",
       "    </tr>\n",
       "    <tr>\n",
       "      <th>4</th>\n",
       "      <td>4</td>\n",
       "      <td>4</td>\n",
       "      <td>4.0</td>\n",
       "      <td>NaN</td>\n",
       "    </tr>\n",
       "    <tr>\n",
       "      <th>3</th>\n",
       "      <td>0</td>\n",
       "      <td>0</td>\n",
       "      <td>NaN</td>\n",
       "      <td>0.0</td>\n",
       "    </tr>\n",
       "    <tr>\n",
       "      <th>4</th>\n",
       "      <td>1</td>\n",
       "      <td>1</td>\n",
       "      <td>NaN</td>\n",
       "      <td>1.0</td>\n",
       "    </tr>\n",
       "    <tr>\n",
       "      <th>5</th>\n",
       "      <td>2</td>\n",
       "      <td>2</td>\n",
       "      <td>NaN</td>\n",
       "      <td>2.0</td>\n",
       "    </tr>\n",
       "    <tr>\n",
       "      <th>6</th>\n",
       "      <td>3</td>\n",
       "      <td>3</td>\n",
       "      <td>NaN</td>\n",
       "      <td>3.0</td>\n",
       "    </tr>\n",
       "    <tr>\n",
       "      <th>7</th>\n",
       "      <td>4</td>\n",
       "      <td>4</td>\n",
       "      <td>NaN</td>\n",
       "      <td>4.0</td>\n",
       "    </tr>\n",
       "  </tbody>\n",
       "</table>\n",
       "</div>"
      ],
      "text/plain": [
       "   Col1  Col2  Col3  Col4\n",
       "0     0     0   0.0   NaN\n",
       "1     1     1   1.0   NaN\n",
       "2     2     2   2.0   NaN\n",
       "3     3     3   3.0   NaN\n",
       "4     4     4   4.0   NaN\n",
       "3     0     0   NaN   0.0\n",
       "4     1     1   NaN   1.0\n",
       "5     2     2   NaN   2.0\n",
       "6     3     3   NaN   3.0\n",
       "7     4     4   NaN   4.0"
      ]
     },
     "execution_count": 128,
     "metadata": {},
     "output_type": "execute_result"
    }
   ],
   "source": [
    "pd.concat([df1, df2], axis=0, join='outer', sort=True)"
   ]
  },
  {
   "cell_type": "markdown",
   "metadata": {},
   "source": [
    "`inner` limita las columnas de ambas entradas"
   ]
  },
  {
   "cell_type": "code",
   "execution_count": 129,
   "metadata": {},
   "outputs": [
    {
     "data": {
      "text/html": [
       "<div>\n",
       "<style scoped>\n",
       "    .dataframe tbody tr th:only-of-type {\n",
       "        vertical-align: middle;\n",
       "    }\n",
       "\n",
       "    .dataframe tbody tr th {\n",
       "        vertical-align: top;\n",
       "    }\n",
       "\n",
       "    .dataframe thead th {\n",
       "        text-align: right;\n",
       "    }\n",
       "</style>\n",
       "<table border=\"1\" class=\"dataframe\">\n",
       "  <thead>\n",
       "    <tr style=\"text-align: right;\">\n",
       "      <th></th>\n",
       "      <th>Col1</th>\n",
       "      <th>Col2</th>\n",
       "    </tr>\n",
       "  </thead>\n",
       "  <tbody>\n",
       "    <tr>\n",
       "      <th>0</th>\n",
       "      <td>0</td>\n",
       "      <td>0</td>\n",
       "    </tr>\n",
       "    <tr>\n",
       "      <th>1</th>\n",
       "      <td>1</td>\n",
       "      <td>1</td>\n",
       "    </tr>\n",
       "    <tr>\n",
       "      <th>2</th>\n",
       "      <td>2</td>\n",
       "      <td>2</td>\n",
       "    </tr>\n",
       "    <tr>\n",
       "      <th>3</th>\n",
       "      <td>3</td>\n",
       "      <td>3</td>\n",
       "    </tr>\n",
       "    <tr>\n",
       "      <th>4</th>\n",
       "      <td>4</td>\n",
       "      <td>4</td>\n",
       "    </tr>\n",
       "    <tr>\n",
       "      <th>3</th>\n",
       "      <td>0</td>\n",
       "      <td>0</td>\n",
       "    </tr>\n",
       "    <tr>\n",
       "      <th>4</th>\n",
       "      <td>1</td>\n",
       "      <td>1</td>\n",
       "    </tr>\n",
       "    <tr>\n",
       "      <th>5</th>\n",
       "      <td>2</td>\n",
       "      <td>2</td>\n",
       "    </tr>\n",
       "    <tr>\n",
       "      <th>6</th>\n",
       "      <td>3</td>\n",
       "      <td>3</td>\n",
       "    </tr>\n",
       "    <tr>\n",
       "      <th>7</th>\n",
       "      <td>4</td>\n",
       "      <td>4</td>\n",
       "    </tr>\n",
       "  </tbody>\n",
       "</table>\n",
       "</div>"
      ],
      "text/plain": [
       "   Col1  Col2\n",
       "0     0     0\n",
       "1     1     1\n",
       "2     2     2\n",
       "3     3     3\n",
       "4     4     4\n",
       "3     0     0\n",
       "4     1     1\n",
       "5     2     2\n",
       "6     3     3\n",
       "7     4     4"
      ]
     },
     "execution_count": 129,
     "metadata": {},
     "output_type": "execute_result"
    }
   ],
   "source": [
    "pd.concat([df1, df2], axis=0, join='inner', sort=True)"
   ]
  },
  {
   "cell_type": "markdown",
   "metadata": {},
   "source": [
    "#### Horizontal"
   ]
  },
  {
   "cell_type": "code",
   "execution_count": 130,
   "metadata": {},
   "outputs": [
    {
     "data": {
      "text/html": [
       "<div>\n",
       "<style scoped>\n",
       "    .dataframe tbody tr th:only-of-type {\n",
       "        vertical-align: middle;\n",
       "    }\n",
       "\n",
       "    .dataframe tbody tr th {\n",
       "        vertical-align: top;\n",
       "    }\n",
       "\n",
       "    .dataframe thead th {\n",
       "        text-align: right;\n",
       "    }\n",
       "</style>\n",
       "<table border=\"1\" class=\"dataframe\">\n",
       "  <thead>\n",
       "    <tr style=\"text-align: right;\">\n",
       "      <th></th>\n",
       "      <th>Col3</th>\n",
       "      <th>Col2</th>\n",
       "      <th>Col1</th>\n",
       "      <th>Col1</th>\n",
       "      <th>Col2</th>\n",
       "      <th>Col4</th>\n",
       "    </tr>\n",
       "  </thead>\n",
       "  <tbody>\n",
       "    <tr>\n",
       "      <th>0</th>\n",
       "      <td>0.0</td>\n",
       "      <td>0.0</td>\n",
       "      <td>0.0</td>\n",
       "      <td>NaN</td>\n",
       "      <td>NaN</td>\n",
       "      <td>NaN</td>\n",
       "    </tr>\n",
       "    <tr>\n",
       "      <th>1</th>\n",
       "      <td>1.0</td>\n",
       "      <td>1.0</td>\n",
       "      <td>1.0</td>\n",
       "      <td>NaN</td>\n",
       "      <td>NaN</td>\n",
       "      <td>NaN</td>\n",
       "    </tr>\n",
       "    <tr>\n",
       "      <th>2</th>\n",
       "      <td>2.0</td>\n",
       "      <td>2.0</td>\n",
       "      <td>2.0</td>\n",
       "      <td>NaN</td>\n",
       "      <td>NaN</td>\n",
       "      <td>NaN</td>\n",
       "    </tr>\n",
       "    <tr>\n",
       "      <th>3</th>\n",
       "      <td>3.0</td>\n",
       "      <td>3.0</td>\n",
       "      <td>3.0</td>\n",
       "      <td>0.0</td>\n",
       "      <td>0.0</td>\n",
       "      <td>0.0</td>\n",
       "    </tr>\n",
       "    <tr>\n",
       "      <th>4</th>\n",
       "      <td>4.0</td>\n",
       "      <td>4.0</td>\n",
       "      <td>4.0</td>\n",
       "      <td>1.0</td>\n",
       "      <td>1.0</td>\n",
       "      <td>1.0</td>\n",
       "    </tr>\n",
       "    <tr>\n",
       "      <th>5</th>\n",
       "      <td>NaN</td>\n",
       "      <td>NaN</td>\n",
       "      <td>NaN</td>\n",
       "      <td>2.0</td>\n",
       "      <td>2.0</td>\n",
       "      <td>2.0</td>\n",
       "    </tr>\n",
       "    <tr>\n",
       "      <th>6</th>\n",
       "      <td>NaN</td>\n",
       "      <td>NaN</td>\n",
       "      <td>NaN</td>\n",
       "      <td>3.0</td>\n",
       "      <td>3.0</td>\n",
       "      <td>3.0</td>\n",
       "    </tr>\n",
       "    <tr>\n",
       "      <th>7</th>\n",
       "      <td>NaN</td>\n",
       "      <td>NaN</td>\n",
       "      <td>NaN</td>\n",
       "      <td>4.0</td>\n",
       "      <td>4.0</td>\n",
       "      <td>4.0</td>\n",
       "    </tr>\n",
       "  </tbody>\n",
       "</table>\n",
       "</div>"
      ],
      "text/plain": [
       "   Col3  Col2  Col1  Col1  Col2  Col4\n",
       "0   0.0   0.0   0.0   NaN   NaN   NaN\n",
       "1   1.0   1.0   1.0   NaN   NaN   NaN\n",
       "2   2.0   2.0   2.0   NaN   NaN   NaN\n",
       "3   3.0   3.0   3.0   0.0   0.0   0.0\n",
       "4   4.0   4.0   4.0   1.0   1.0   1.0\n",
       "5   NaN   NaN   NaN   2.0   2.0   2.0\n",
       "6   NaN   NaN   NaN   3.0   3.0   3.0\n",
       "7   NaN   NaN   NaN   4.0   4.0   4.0"
      ]
     },
     "execution_count": 130,
     "metadata": {},
     "output_type": "execute_result"
    }
   ],
   "source": [
    "pd.concat([df1, df2], axis=1)"
   ]
  },
  {
   "cell_type": "markdown",
   "metadata": {},
   "source": [
    "**Extra:** Por qué algunos números son flotantes y otros no?"
   ]
  },
  {
   "cell_type": "markdown",
   "metadata": {},
   "source": [
    "Documentación: https://pandas.pydata.org/pandas-docs/stable/merging.html"
   ]
  }
 ],
 "metadata": {
  "anaconda-cloud": {},
  "kernelspec": {
   "display_name": "Python 3",
   "language": "python",
   "name": "python3"
  },
  "language_info": {
   "codemirror_mode": {
    "name": "ipython",
    "version": 3
   },
   "file_extension": ".py",
   "mimetype": "text/x-python",
   "name": "python",
   "nbconvert_exporter": "python",
   "pygments_lexer": "ipython3",
   "version": "3.6.13"
  },
  "toc": {
   "base_numbering": 1,
   "nav_menu": {},
   "number_sections": true,
   "sideBar": true,
   "skip_h1_title": false,
   "title_cell": "Table of Contents",
   "title_sidebar": "Contents",
   "toc_cell": false,
   "toc_position": {
    "height": "calc(100% - 180px)",
    "left": "10px",
    "top": "150px",
    "width": "256px"
   },
   "toc_section_display": true,
   "toc_window_display": true
  }
 },
 "nbformat": 4,
 "nbformat_minor": 4
}
